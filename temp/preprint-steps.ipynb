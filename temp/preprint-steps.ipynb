{
 "cells": [
  {
   "cell_type": "markdown",
   "id": "c7c68eec-51e6-49dc-9a45-e661ac67d1a1",
   "metadata": {
    "jp-MarkdownHeadingCollapsed": true,
    "tags": []
   },
   "source": [
    "This notebook contains all code necessary for reproducing the results and plots.\n",
    "\n",
    "**To successfully run this code, you must:**\n",
    "   - Set output_directory_path in the Setup cell\n",
    "   - Ensure that all packages imported in the Setup cell are installed on your machine\n",
    "   - Ensure that [aegis-sim 2.1](https://pypi.org/project/aegis-sim/2.1/) is installed on your machine \n",
    "\n",
    "**The code below consists of four parts:**\n",
    "   \n",
    "   0. _Setup_. This part lists all required packages for import and the output directory path\n",
    "   1. _Generate configuration files_. In this step, we generate input for the simulation.\n",
    "   2. _Run simulations_. In this step, we let AEGIS run and feed it the generated input.\n",
    "   3. _Analyze results_. In this step, we analyze and visualize AEGIS output."
   ]
  },
  {
   "cell_type": "markdown",
   "id": "8f93add5-d333-4328-89ac-7766b35e3d9a",
   "metadata": {},
   "source": [
    "# 0. Setup"
   ]
  },
  {
   "cell_type": "code",
   "execution_count": 1,
   "id": "cb641eb6-ab68-483d-9ff0-7821603fa287",
   "metadata": {},
   "outputs": [],
   "source": [
    "%load_ext autoreload\n",
    "%autoreload 2"
   ]
  },
  {
   "cell_type": "code",
   "execution_count": 2,
   "id": "e046cdef-332d-4e37-bc3e-d69f0f9a0ddc",
   "metadata": {},
   "outputs": [],
   "source": [
    "import helpfuncs"
   ]
  },
  {
   "cell_type": "code",
   "execution_count": 3,
   "id": "b928e4b2-9378-4982-8cf3-4413aec40f31",
   "metadata": {},
   "outputs": [],
   "source": [
    "from aegis.help.container import Container\n",
    "\n",
    "cont = Container(\"../experiments/1114/pos-300-sexual-30\")"
   ]
  },
  {
   "cell_type": "code",
   "execution_count": 4,
   "id": "ed1f4ebc-46f7-4770-ad28-961a2ff1c63b",
   "metadata": {},
   "outputs": [],
   "source": [
    "%load_ext lab_black\n",
    "\n",
    "# Adjust this for your machine\n",
    "output_directory_path = \"../experiments/1114\"  # Directory for saving results\n",
    "plot_directory_path = \"preprint-temp\"  # Directory for saving plots\n",
    "\n",
    "# Imports\n",
    "import matplotlib.pyplot as plt\n",
    "import matplotlib\n",
    "import matplotlib.patches as mpatches\n",
    "import numpy as np\n",
    "import pandas as pd\n",
    "import tqdm\n",
    "import pathlib\n",
    "import yaml\n",
    "import itertools\n",
    "import pickle\n",
    "\n",
    "# Customization\n",
    "matplotlib.rcParams.update({\"font.size\": 6})\n",
    "plt.rcParams.update({\"font.sans-serif\": \"Arial\"})"
   ]
  },
  {
   "cell_type": "markdown",
   "id": "9ae7c0d8-c6d4-4920-a0b6-f196c46bbd17",
   "metadata": {},
   "source": [
    "# 1. Generate configuration files\n",
    "\n",
    "Each configuration file consists of constant and variable paramaters. Constant parameters are equal across all simulations, variable parameters are not. We are interested in the effect of variable parameters on the evolution of life history. Variable parameters are:\n",
    "  - `MAX_POPULATION_SIZE`\n",
    "  - `REPRODUCTION_MODE`\n",
    "  - `PHENOMAP_SPECS`. This is used to encode two kinds of mutational effects: detrimental monotropic (theory of mutation accumulation) or antagonistic pleiotropic (theory of antagonistic pleiotropy)."
   ]
  },
  {
   "cell_type": "markdown",
   "id": "c4ff1d1c-43d8-4793-bc2f-7878cacbc0ac",
   "metadata": {},
   "source": [
    "### Setup-specific parameters"
   ]
  },
  {
   "cell_type": "code",
   "execution_count": 5,
   "id": "e469f777-2f38-4d2a-89b4-113989b85983",
   "metadata": {},
   "outputs": [],
   "source": [
    "path_dir = pathlib.Path(output_directory_path)\n",
    "path_dir.mkdir(exist_ok=True)  # Create the directory if it does not exist\n",
    "\n",
    "plots_dir = pathlib.Path(plot_directory_path)\n",
    "plots_dir.mkdir(exist_ok=True)  # Create the directory if it does not exist"
   ]
  },
  {
   "cell_type": "markdown",
   "id": "7bc65f65-1baa-4e8a-a7c5-44938095e042",
   "metadata": {
    "tags": []
   },
   "source": [
    "### Constant parameters"
   ]
  },
  {
   "cell_type": "code",
   "execution_count": 6,
   "id": "3afb1669-0931-4f99-9402-8a7f09d446d2",
   "metadata": {},
   "outputs": [],
   "source": [
    "params_const = {\n",
    "    # General\n",
    "    \"STAGES_PER_SIMULATION_\": 10000000,\n",
    "    \"RANDOM_SEED_\": 42,\n",
    "    #\n",
    "    # Life history\n",
    "    \"MATURATION_AGE\": 10,\n",
    "    \"MAX_LIFESPAN\": 50,\n",
    "    #\n",
    "    # Genome structure\n",
    "    \"BITS_PER_LOCUS\": 1,\n",
    "    \"G_neut_evolvable\": True,\n",
    "    \"G_neut_lo\": 0,\n",
    "    \"G_neut_hi\": 1,\n",
    "    \"G_neut_initial\": 0,\n",
    "    \"G_neut_interpreter\": \"single_bit\",\n",
    "    \"G_repr_interpreter\": \"const1\",\n",
    "    \"G_surv_interpreter\": \"const1\",\n",
    "    \"G_repr_hi\": 0.3,  # reproduction rate\n",
    "    \"G_neut_agespecific\": 2500,  # number of mutating loci\n",
    "    \"G_muta_initial\": 0.00001,  # mutation rate\n",
    "    \"MUTATION_RATIO\": 100,\n",
    "    #\n",
    "    # Recording\n",
    "    \"PICKLE_RATE_\": 100000,\n",
    "    \"POPGENSTATS_RATE_\": 0,\n",
    "    \"SNAPSHOT_RATE_\": 100000,\n",
    "    \"VISOR_RATE_\": 1000,\n",
    "}"
   ]
  },
  {
   "cell_type": "markdown",
   "id": "655e44e4-2f24-4519-86bb-b5a1618aabf5",
   "metadata": {},
   "source": [
    "### Variable parameters"
   ]
  },
  {
   "cell_type": "code",
   "execution_count": 7,
   "id": "0fe55f14-1fa3-47d6-9edd-ce9554ca0a7d",
   "metadata": {},
   "outputs": [],
   "source": [
    "MAX_POPULATION_SIZEs = (300, 600)  # 300, 3000, 30000\n",
    "REPRODUCTION_MODEs = (\"asexual_diploid\",)  # (\"sexual\", \"asexual_diploid\")\n",
    "aging_theories = (\n",
    "    \"pos\",\n",
    "    \"MA\",\n",
    ")  # \"MA\", \"AP\","
   ]
  },
  {
   "cell_type": "code",
   "execution_count": 8,
   "id": "8c45e05f-087c-4996-baac-ee54136cdf49",
   "metadata": {},
   "outputs": [],
   "source": [
    "def get_phenomap_specs(RANDOM_SEED_):\n",
    "    \"\"\"Generate MA and AP PHENOMAP_SPECS.\n",
    "    MA specs are equivalent to AP specs but without the beneficial effects.\"\"\"\n",
    "\n",
    "    # Random number generator\n",
    "    rng = np.random.default_rng(RANDOM_SEED_)\n",
    "\n",
    "    # Number of mutable loci\n",
    "    N = params_const[\"G_neut_agespecific\"]\n",
    "\n",
    "    # Set initial survival rate to 0.95\n",
    "    bckg_specs = []\n",
    "    for i in range(1, params_const[\"MAX_LIFESPAN\"] + 1):\n",
    "        bckg_specs.append([\"surv\", i, \"surv\", str(i), str(0.95)])\n",
    "\n",
    "    # Generate N magnitudes of effects\n",
    "    magns = rng.exponential(1, size=N) * 0.0014\n",
    "\n",
    "    # Generate N ages at which the effects act\n",
    "    # Note that it is possible that tn=tn=1\n",
    "    timings_n = rng.integers(1, params_const[\"MAX_LIFESPAN\"], size=N, endpoint=True)\n",
    "    timings_p = rng.integers(1, timings_n, size=N, endpoint=True)\n",
    "\n",
    "    # Assemble magnitudes and timings into specifications\n",
    "    ma_specs = []\n",
    "    ap_specs = []\n",
    "    pos_specs = []\n",
    "\n",
    "    neut_i = 1\n",
    "    for m, tp, tn in zip(magns, timings_p, timings_n):\n",
    "        ap_specs.append([\"neut\", neut_i, \"surv\", str(tp), str(m)])\n",
    "        ap_specs.append([\"neut\", neut_i, \"surv\", str(tn), str(-m)])\n",
    "        neut_i += 1\n",
    "\n",
    "    neut_i = 1\n",
    "    for m, tn in zip(magns, timings_n):\n",
    "        ma_specs.append([\"neut\", neut_i, \"surv\", str(tn), str(-m)])\n",
    "        neut_i += 1\n",
    "\n",
    "    neut_i = 1\n",
    "    # Use negative timings because it is uniformly distributed\n",
    "    for m, tn in zip(magns, timings_n):\n",
    "        pos_specs.append([\"neut\", neut_i, \"surv\", str(tn), str(m)])\n",
    "        neut_i += 1\n",
    "\n",
    "    return {\n",
    "        \"MA\": ma_specs + bckg_specs,\n",
    "        \"AP\": ap_specs + bckg_specs,\n",
    "        \"pos\": pos_specs + bckg_specs,\n",
    "    }\n",
    "\n",
    "\n",
    "n_specs_studied = 30  # Number of unique phenomaps to generate and simulate\n",
    "PHENOMAP_SPECS_list = [get_phenomap_specs(seed) for seed in range(n_specs_studied)]"
   ]
  },
  {
   "cell_type": "code",
   "execution_count": 9,
   "id": "c2840ffe-959e-4f95-9c26-7a3e1ffcec2c",
   "metadata": {},
   "outputs": [],
   "source": [
    "# _ = pd.DataFrame(PHENOMAP_SPECS_list[0][0])\n",
    "# _[\"m\"] = _[4].astype(float)\n",
    "# _[_[0] == \"neut\"].groupby(3).sum(\"m\")\n",
    "# # _.groupby(3).sum(\"m\")"
   ]
  },
  {
   "cell_type": "markdown",
   "id": "b5ff8a18-ff50-4b10-a35c-473f829861d9",
   "metadata": {},
   "source": [
    "### Write config files"
   ]
  },
  {
   "cell_type": "code",
   "execution_count": null,
   "id": "aef0ab0a-cb4a-491b-9fb4-87d80f284ab7",
   "metadata": {},
   "outputs": [],
   "source": []
  },
  {
   "cell_type": "code",
   "execution_count": 209,
   "id": "d099ef73-ba86-4476-861f-f729d776b95d",
   "metadata": {},
   "outputs": [
    {
     "name": "stdout",
     "output_type": "stream",
     "text": [
      "Total 120 experiments.\n"
     ]
    }
   ],
   "source": [
    "# Calculate total number of experiments\n",
    "tqdm_total = (\n",
    "    len(PHENOMAP_SPECS_list)\n",
    "    * len(aging_theories)\n",
    "    * len(REPRODUCTION_MODEs)\n",
    "    * len(MAX_POPULATION_SIZEs)\n",
    ")\n",
    "print(f\"Total {tqdm_total} experiments.\")\n",
    "\n",
    "params = itertools.product(\n",
    "    range(len(PHENOMAP_SPECS_list)),\n",
    "    aging_theories,\n",
    "    REPRODUCTION_MODEs,\n",
    "    MAX_POPULATION_SIZEs,\n",
    ")"
   ]
  },
  {
   "cell_type": "code",
   "execution_count": 210,
   "id": "04179168-8611-4ece-9531-1a71b11e6f21",
   "metadata": {},
   "outputs": [
    {
     "name": "stdout",
     "output_type": "stream",
     "text": [
      "Writing configuration files.\n"
     ]
    },
    {
     "name": "stderr",
     "output_type": "stream",
     "text": [
      "100%|██████████| 120/120 [00:47<00:00,  2.52it/s]\n"
     ]
    }
   ],
   "source": [
    "# Load paths to all existing yml files in the path_dir\n",
    "yml_paths = [path.with_suffix(\".yml\") for path in path_dir.glob(\"*\") if path.is_dir()]\n",
    "\n",
    "# Check if files already exist to prevent overwriting\n",
    "if yml_paths:\n",
    "    print(\"Aborting. There are files in this directory already.\")\n",
    "else:\n",
    "    print(\"Writing configuration files.\")\n",
    "\n",
    "    with tqdm.tqdm(total=tqdm_total) as pbar:\n",
    "\n",
    "        # Iterate over combinations of variable input parameters\n",
    "        for i, [\n",
    "            phenomap_i,\n",
    "            aging_theory,\n",
    "            REPRODUCTION_MODE,\n",
    "            MAX_POPULATION_SIZE,\n",
    "        ] in enumerate(params):\n",
    "\n",
    "            PHENOMAP_SPECS = PHENOMAP_SPECS_list[phenomap_i][aging_theory]\n",
    "\n",
    "            # Construct final dictionary containing parameter keys and values\n",
    "            params_final = params_const.copy()\n",
    "            params_final[\"MAX_POPULATION_SIZE\"] = MAX_POPULATION_SIZE\n",
    "            params_final[\"REPRODUCTION_MODE\"] = REPRODUCTION_MODE\n",
    "            params_final[\"RECOMBINATION_RATE\"] = (\n",
    "                0.5 if REPRODUCTION_MODE == \"sexual\" else 0\n",
    "            )\n",
    "            params_final[\"PHENOMAP_SPECS\"] = PHENOMAP_SPECS\n",
    "\n",
    "            # The ratio of 0->1 vs 1->0 is inverted for when simulation scenario is positive mutations\n",
    "            if aging_theory == \"pos\":\n",
    "                params_final[\"MUTATION_RATIO\"] = 1 / params_const[\"MUTATION_RATIO\"]\n",
    "\n",
    "            # Write the yml to output directory\n",
    "            yml_path = (\n",
    "                path_dir\n",
    "                / f\"{aging_theory}-{MAX_POPULATION_SIZE}-{REPRODUCTION_MODE}-{i}.yml\"\n",
    "            )\n",
    "\n",
    "            with open(yml_path, \"w\") as file_:\n",
    "                yaml.dump(params_final, file_, sort_keys=False, default_flow_style=True)\n",
    "\n",
    "            # Update the progress bar\n",
    "            pbar.update(1)"
   ]
  },
  {
   "cell_type": "markdown",
   "id": "d3707166-e5a8-4738-93bf-7e3889e49f7b",
   "metadata": {},
   "source": [
    "# 2. Run simulations\n",
    "To run the simulations using the generated configuration files, you must run the commands below in a terminal. These can be distributed on a computational cluster. It is advisable to run them in a virtual environment in which aegis-sim v2.1 is installed."
   ]
  },
  {
   "cell_type": "code",
   "execution_count": 212,
   "id": "0d51da94-af64-4a42-a066-45bfb9025709",
   "metadata": {
    "collapsed": true,
    "jupyter": {
     "outputs_hidden": true
    },
    "tags": []
   },
   "outputs": [
    {
     "name": "stdout",
     "output_type": "stream",
     "text": [
      "qsub -N pub /wins/vlzno/projects/NeMAAP/sge_merlin.sh /wins/vlzno/projects/NeMAAP/experiments/1115/MA-300-asexual_diploid-54.yml\n",
      "qsub -N pub /wins/vlzno/projects/NeMAAP/sge_merlin.sh /wins/vlzno/projects/NeMAAP/experiments/1115/pos-300-asexual_diploid-96.yml\n",
      "qsub -N pub /wins/vlzno/projects/NeMAAP/sge_merlin.sh /wins/vlzno/projects/NeMAAP/experiments/1115/MA-600-asexual_diploid-115.yml\n",
      "qsub -N pub /wins/vlzno/projects/NeMAAP/sge_merlin.sh /wins/vlzno/projects/NeMAAP/experiments/1115/pos-600-asexual_diploid-101.yml\n",
      "qsub -N pub /wins/vlzno/projects/NeMAAP/sge_merlin.sh /wins/vlzno/projects/NeMAAP/experiments/1115/pos-600-asexual_diploid-37.yml\n",
      "qsub -N pub /wins/vlzno/projects/NeMAAP/sge_merlin.sh /wins/vlzno/projects/NeMAAP/experiments/1115/MA-300-asexual_diploid-94.yml\n",
      "qsub -N pub /wins/vlzno/projects/NeMAAP/sge_merlin.sh /wins/vlzno/projects/NeMAAP/experiments/1115/pos-600-asexual_diploid-97.yml\n",
      "qsub -N pub /wins/vlzno/projects/NeMAAP/sge_merlin.sh /wins/vlzno/projects/NeMAAP/experiments/1115/pos-600-asexual_diploid-81.yml\n",
      "qsub -N pub /wins/vlzno/projects/NeMAAP/sge_merlin.sh /wins/vlzno/projects/NeMAAP/experiments/1115/MA-300-asexual_diploid-62.yml\n",
      "qsub -N pub /wins/vlzno/projects/NeMAAP/sge_merlin.sh /wins/vlzno/projects/NeMAAP/experiments/1115/MA-300-asexual_diploid-30.yml\n",
      "qsub -N pub /wins/vlzno/projects/NeMAAP/sge_merlin.sh /wins/vlzno/projects/NeMAAP/experiments/1115/pos-300-asexual_diploid-80.yml\n",
      "qsub -N pub /wins/vlzno/projects/NeMAAP/sge_merlin.sh /wins/vlzno/projects/NeMAAP/experiments/1115/MA-600-asexual_diploid-63.yml\n",
      "qsub -N pub /wins/vlzno/projects/NeMAAP/sge_merlin.sh /wins/vlzno/projects/NeMAAP/experiments/1115/pos-300-asexual_diploid-104.yml\n",
      "qsub -N pub /wins/vlzno/projects/NeMAAP/sge_merlin.sh /wins/vlzno/projects/NeMAAP/experiments/1115/pos-600-asexual_diploid-17.yml\n",
      "qsub -N pub /wins/vlzno/projects/NeMAAP/sge_merlin.sh /wins/vlzno/projects/NeMAAP/experiments/1115/MA-600-asexual_diploid-19.yml\n",
      "qsub -N pub /wins/vlzno/projects/NeMAAP/sge_merlin.sh /wins/vlzno/projects/NeMAAP/experiments/1115/MA-300-asexual_diploid-34.yml\n",
      "qsub -N pub /wins/vlzno/projects/NeMAAP/sge_merlin.sh /wins/vlzno/projects/NeMAAP/experiments/1115/pos-300-asexual_diploid-40.yml\n",
      "qsub -N pub /wins/vlzno/projects/NeMAAP/sge_merlin.sh /wins/vlzno/projects/NeMAAP/experiments/1115/pos-600-asexual_diploid-1.yml\n",
      "qsub -N pub /wins/vlzno/projects/NeMAAP/sge_merlin.sh /wins/vlzno/projects/NeMAAP/experiments/1115/MA-300-asexual_diploid-70.yml\n",
      "qsub -N pub /wins/vlzno/projects/NeMAAP/sge_merlin.sh /wins/vlzno/projects/NeMAAP/experiments/1115/MA-600-asexual_diploid-79.yml\n",
      "qsub -N pub /wins/vlzno/projects/NeMAAP/sge_merlin.sh /wins/vlzno/projects/NeMAAP/experiments/1115/MA-600-asexual_diploid-7.yml\n",
      "qsub -N pub /wins/vlzno/projects/NeMAAP/sge_merlin.sh /wins/vlzno/projects/NeMAAP/experiments/1115/MA-300-asexual_diploid-118.yml\n",
      "qsub -N pub /wins/vlzno/projects/NeMAAP/sge_merlin.sh /wins/vlzno/projects/NeMAAP/experiments/1115/MA-600-asexual_diploid-111.yml\n",
      "qsub -N pub /wins/vlzno/projects/NeMAAP/sge_merlin.sh /wins/vlzno/projects/NeMAAP/experiments/1115/MA-600-asexual_diploid-67.yml\n",
      "qsub -N pub /wins/vlzno/projects/NeMAAP/sge_merlin.sh /wins/vlzno/projects/NeMAAP/experiments/1115/pos-300-asexual_diploid-76.yml\n",
      "qsub -N pub /wins/vlzno/projects/NeMAAP/sge_merlin.sh /wins/vlzno/projects/NeMAAP/experiments/1115/pos-300-asexual_diploid-92.yml\n",
      "qsub -N pub /wins/vlzno/projects/NeMAAP/sge_merlin.sh /wins/vlzno/projects/NeMAAP/experiments/1115/MA-600-asexual_diploid-35.yml\n",
      "qsub -N pub /wins/vlzno/projects/NeMAAP/sge_merlin.sh /wins/vlzno/projects/NeMAAP/experiments/1115/MA-300-asexual_diploid-46.yml\n",
      "qsub -N pub /wins/vlzno/projects/NeMAAP/sge_merlin.sh /wins/vlzno/projects/NeMAAP/experiments/1115/MA-600-asexual_diploid-71.yml\n",
      "qsub -N pub /wins/vlzno/projects/NeMAAP/sge_merlin.sh /wins/vlzno/projects/NeMAAP/experiments/1115/pos-300-asexual_diploid-16.yml\n",
      "qsub -N pub /wins/vlzno/projects/NeMAAP/sge_merlin.sh /wins/vlzno/projects/NeMAAP/experiments/1115/MA-600-asexual_diploid-91.yml\n",
      "qsub -N pub /wins/vlzno/projects/NeMAAP/sge_merlin.sh /wins/vlzno/projects/NeMAAP/experiments/1115/pos-600-asexual_diploid-93.yml\n",
      "qsub -N pub /wins/vlzno/projects/NeMAAP/sge_merlin.sh /wins/vlzno/projects/NeMAAP/experiments/1115/pos-300-asexual_diploid-0.yml\n",
      "qsub -N pub /wins/vlzno/projects/NeMAAP/sge_merlin.sh /wins/vlzno/projects/NeMAAP/experiments/1115/pos-600-asexual_diploid-25.yml\n",
      "qsub -N pub /wins/vlzno/projects/NeMAAP/sge_merlin.sh /wins/vlzno/projects/NeMAAP/experiments/1115/pos-300-asexual_diploid-116.yml\n",
      "qsub -N pub /wins/vlzno/projects/NeMAAP/sge_merlin.sh /wins/vlzno/projects/NeMAAP/experiments/1115/pos-600-asexual_diploid-65.yml\n",
      "qsub -N pub /wins/vlzno/projects/NeMAAP/sge_merlin.sh /wins/vlzno/projects/NeMAAP/experiments/1115/MA-300-asexual_diploid-110.yml\n",
      "qsub -N pub /wins/vlzno/projects/NeMAAP/sge_merlin.sh /wins/vlzno/projects/NeMAAP/experiments/1115/MA-300-asexual_diploid-114.yml\n",
      "qsub -N pub /wins/vlzno/projects/NeMAAP/sge_merlin.sh /wins/vlzno/projects/NeMAAP/experiments/1115/pos-600-asexual_diploid-49.yml\n",
      "qsub -N pub /wins/vlzno/projects/NeMAAP/sge_merlin.sh /wins/vlzno/projects/NeMAAP/experiments/1115/MA-600-asexual_diploid-119.yml\n",
      "qsub -N pub /wins/vlzno/projects/NeMAAP/sge_merlin.sh /wins/vlzno/projects/NeMAAP/experiments/1115/pos-600-asexual_diploid-41.yml\n",
      "qsub -N pub /wins/vlzno/projects/NeMAAP/sge_merlin.sh /wins/vlzno/projects/NeMAAP/experiments/1115/MA-600-asexual_diploid-15.yml\n",
      "qsub -N pub /wins/vlzno/projects/NeMAAP/sge_merlin.sh /wins/vlzno/projects/NeMAAP/experiments/1115/pos-600-asexual_diploid-29.yml\n",
      "qsub -N pub /wins/vlzno/projects/NeMAAP/sge_merlin.sh /wins/vlzno/projects/NeMAAP/experiments/1115/MA-300-asexual_diploid-38.yml\n",
      "qsub -N pub /wins/vlzno/projects/NeMAAP/sge_merlin.sh /wins/vlzno/projects/NeMAAP/experiments/1115/MA-300-asexual_diploid-86.yml\n",
      "qsub -N pub /wins/vlzno/projects/NeMAAP/sge_merlin.sh /wins/vlzno/projects/NeMAAP/experiments/1115/pos-300-asexual_diploid-8.yml\n",
      "qsub -N pub /wins/vlzno/projects/NeMAAP/sge_merlin.sh /wins/vlzno/projects/NeMAAP/experiments/1115/MA-300-asexual_diploid-42.yml\n",
      "qsub -N pub /wins/vlzno/projects/NeMAAP/sge_merlin.sh /wins/vlzno/projects/NeMAAP/experiments/1115/MA-600-asexual_diploid-87.yml\n",
      "qsub -N pub /wins/vlzno/projects/NeMAAP/sge_merlin.sh /wins/vlzno/projects/NeMAAP/experiments/1115/pos-300-asexual_diploid-20.yml\n",
      "qsub -N pub /wins/vlzno/projects/NeMAAP/sge_merlin.sh /wins/vlzno/projects/NeMAAP/experiments/1115/pos-300-asexual_diploid-24.yml\n",
      "qsub -N pub /wins/vlzno/projects/NeMAAP/sge_merlin.sh /wins/vlzno/projects/NeMAAP/experiments/1115/pos-600-asexual_diploid-33.yml\n",
      "qsub -N pub /wins/vlzno/projects/NeMAAP/sge_merlin.sh /wins/vlzno/projects/NeMAAP/experiments/1115/pos-600-asexual_diploid-73.yml\n",
      "qsub -N pub /wins/vlzno/projects/NeMAAP/sge_merlin.sh /wins/vlzno/projects/NeMAAP/experiments/1115/pos-300-asexual_diploid-4.yml\n",
      "qsub -N pub /wins/vlzno/projects/NeMAAP/sge_merlin.sh /wins/vlzno/projects/NeMAAP/experiments/1115/pos-300-asexual_diploid-32.yml\n",
      "qsub -N pub /wins/vlzno/projects/NeMAAP/sge_merlin.sh /wins/vlzno/projects/NeMAAP/experiments/1115/MA-600-asexual_diploid-47.yml\n",
      "qsub -N pub /wins/vlzno/projects/NeMAAP/sge_merlin.sh /wins/vlzno/projects/NeMAAP/experiments/1115/MA-300-asexual_diploid-82.yml\n",
      "qsub -N pub /wins/vlzno/projects/NeMAAP/sge_merlin.sh /wins/vlzno/projects/NeMAAP/experiments/1115/pos-300-asexual_diploid-84.yml\n",
      "qsub -N pub /wins/vlzno/projects/NeMAAP/sge_merlin.sh /wins/vlzno/projects/NeMAAP/experiments/1115/MA-300-asexual_diploid-98.yml\n",
      "qsub -N pub /wins/vlzno/projects/NeMAAP/sge_merlin.sh /wins/vlzno/projects/NeMAAP/experiments/1115/pos-300-asexual_diploid-68.yml\n",
      "qsub -N pub /wins/vlzno/projects/NeMAAP/sge_merlin.sh /wins/vlzno/projects/NeMAAP/experiments/1115/pos-300-asexual_diploid-52.yml\n",
      "qsub -N pub /wins/vlzno/projects/NeMAAP/sge_merlin.sh /wins/vlzno/projects/NeMAAP/experiments/1115/MA-600-asexual_diploid-95.yml\n",
      "qsub -N pub /wins/vlzno/projects/NeMAAP/sge_merlin.sh /wins/vlzno/projects/NeMAAP/experiments/1115/pos-600-asexual_diploid-53.yml\n",
      "qsub -N pub /wins/vlzno/projects/NeMAAP/sge_merlin.sh /wins/vlzno/projects/NeMAAP/experiments/1115/MA-600-asexual_diploid-55.yml\n",
      "qsub -N pub /wins/vlzno/projects/NeMAAP/sge_merlin.sh /wins/vlzno/projects/NeMAAP/experiments/1115/MA-300-asexual_diploid-10.yml\n",
      "qsub -N pub /wins/vlzno/projects/NeMAAP/sge_merlin.sh /wins/vlzno/projects/NeMAAP/experiments/1115/pos-600-asexual_diploid-85.yml\n",
      "qsub -N pub /wins/vlzno/projects/NeMAAP/sge_merlin.sh /wins/vlzno/projects/NeMAAP/experiments/1115/MA-300-asexual_diploid-14.yml\n",
      "qsub -N pub /wins/vlzno/projects/NeMAAP/sge_merlin.sh /wins/vlzno/projects/NeMAAP/experiments/1115/MA-600-asexual_diploid-31.yml\n",
      "qsub -N pub /wins/vlzno/projects/NeMAAP/sge_merlin.sh /wins/vlzno/projects/NeMAAP/experiments/1115/MA-300-asexual_diploid-102.yml\n",
      "qsub -N pub /wins/vlzno/projects/NeMAAP/sge_merlin.sh /wins/vlzno/projects/NeMAAP/experiments/1115/MA-600-asexual_diploid-11.yml\n",
      "qsub -N pub /wins/vlzno/projects/NeMAAP/sge_merlin.sh /wins/vlzno/projects/NeMAAP/experiments/1115/pos-600-asexual_diploid-21.yml\n",
      "qsub -N pub /wins/vlzno/projects/NeMAAP/sge_merlin.sh /wins/vlzno/projects/NeMAAP/experiments/1115/pos-300-asexual_diploid-12.yml\n",
      "qsub -N pub /wins/vlzno/projects/NeMAAP/sge_merlin.sh /wins/vlzno/projects/NeMAAP/experiments/1115/pos-600-asexual_diploid-69.yml\n",
      "qsub -N pub /wins/vlzno/projects/NeMAAP/sge_merlin.sh /wins/vlzno/projects/NeMAAP/experiments/1115/MA-300-asexual_diploid-6.yml\n",
      "qsub -N pub /wins/vlzno/projects/NeMAAP/sge_merlin.sh /wins/vlzno/projects/NeMAAP/experiments/1115/MA-600-asexual_diploid-107.yml\n",
      "qsub -N pub /wins/vlzno/projects/NeMAAP/sge_merlin.sh /wins/vlzno/projects/NeMAAP/experiments/1115/pos-600-asexual_diploid-13.yml\n",
      "qsub -N pub /wins/vlzno/projects/NeMAAP/sge_merlin.sh /wins/vlzno/projects/NeMAAP/experiments/1115/pos-300-asexual_diploid-64.yml\n",
      "qsub -N pub /wins/vlzno/projects/NeMAAP/sge_merlin.sh /wins/vlzno/projects/NeMAAP/experiments/1115/pos-600-asexual_diploid-89.yml\n",
      "qsub -N pub /wins/vlzno/projects/NeMAAP/sge_merlin.sh /wins/vlzno/projects/NeMAAP/experiments/1115/MA-600-asexual_diploid-27.yml\n",
      "qsub -N pub /wins/vlzno/projects/NeMAAP/sge_merlin.sh /wins/vlzno/projects/NeMAAP/experiments/1115/MA-300-asexual_diploid-50.yml\n",
      "qsub -N pub /wins/vlzno/projects/NeMAAP/sge_merlin.sh /wins/vlzno/projects/NeMAAP/experiments/1115/MA-300-asexual_diploid-66.yml\n",
      "qsub -N pub /wins/vlzno/projects/NeMAAP/sge_merlin.sh /wins/vlzno/projects/NeMAAP/experiments/1115/pos-300-asexual_diploid-28.yml\n",
      "qsub -N pub /wins/vlzno/projects/NeMAAP/sge_merlin.sh /wins/vlzno/projects/NeMAAP/experiments/1115/MA-300-asexual_diploid-74.yml\n",
      "qsub -N pub /wins/vlzno/projects/NeMAAP/sge_merlin.sh /wins/vlzno/projects/NeMAAP/experiments/1115/pos-300-asexual_diploid-88.yml\n",
      "qsub -N pub /wins/vlzno/projects/NeMAAP/sge_merlin.sh /wins/vlzno/projects/NeMAAP/experiments/1115/MA-300-asexual_diploid-106.yml\n",
      "qsub -N pub /wins/vlzno/projects/NeMAAP/sge_merlin.sh /wins/vlzno/projects/NeMAAP/experiments/1115/pos-600-asexual_diploid-61.yml\n",
      "qsub -N pub /wins/vlzno/projects/NeMAAP/sge_merlin.sh /wins/vlzno/projects/NeMAAP/experiments/1115/MA-600-asexual_diploid-99.yml\n",
      "qsub -N pub /wins/vlzno/projects/NeMAAP/sge_merlin.sh /wins/vlzno/projects/NeMAAP/experiments/1115/pos-300-asexual_diploid-60.yml\n",
      "qsub -N pub /wins/vlzno/projects/NeMAAP/sge_merlin.sh /wins/vlzno/projects/NeMAAP/experiments/1115/MA-600-asexual_diploid-3.yml\n",
      "qsub -N pub /wins/vlzno/projects/NeMAAP/sge_merlin.sh /wins/vlzno/projects/NeMAAP/experiments/1115/pos-600-asexual_diploid-113.yml\n",
      "qsub -N pub /wins/vlzno/projects/NeMAAP/sge_merlin.sh /wins/vlzno/projects/NeMAAP/experiments/1115/pos-300-asexual_diploid-72.yml\n",
      "qsub -N pub /wins/vlzno/projects/NeMAAP/sge_merlin.sh /wins/vlzno/projects/NeMAAP/experiments/1115/pos-300-asexual_diploid-56.yml\n",
      "qsub -N pub /wins/vlzno/projects/NeMAAP/sge_merlin.sh /wins/vlzno/projects/NeMAAP/experiments/1115/pos-600-asexual_diploid-57.yml\n",
      "qsub -N pub /wins/vlzno/projects/NeMAAP/sge_merlin.sh /wins/vlzno/projects/NeMAAP/experiments/1115/pos-300-asexual_diploid-108.yml\n",
      "qsub -N pub /wins/vlzno/projects/NeMAAP/sge_merlin.sh /wins/vlzno/projects/NeMAAP/experiments/1115/pos-300-asexual_diploid-48.yml\n",
      "qsub -N pub /wins/vlzno/projects/NeMAAP/sge_merlin.sh /wins/vlzno/projects/NeMAAP/experiments/1115/MA-600-asexual_diploid-39.yml\n",
      "qsub -N pub /wins/vlzno/projects/NeMAAP/sge_merlin.sh /wins/vlzno/projects/NeMAAP/experiments/1115/MA-300-asexual_diploid-90.yml\n",
      "qsub -N pub /wins/vlzno/projects/NeMAAP/sge_merlin.sh /wins/vlzno/projects/NeMAAP/experiments/1115/MA-300-asexual_diploid-26.yml\n",
      "qsub -N pub /wins/vlzno/projects/NeMAAP/sge_merlin.sh /wins/vlzno/projects/NeMAAP/experiments/1115/pos-600-asexual_diploid-105.yml\n",
      "qsub -N pub /wins/vlzno/projects/NeMAAP/sge_merlin.sh /wins/vlzno/projects/NeMAAP/experiments/1115/MA-600-asexual_diploid-43.yml\n",
      "qsub -N pub /wins/vlzno/projects/NeMAAP/sge_merlin.sh /wins/vlzno/projects/NeMAAP/experiments/1115/pos-300-asexual_diploid-112.yml\n",
      "qsub -N pub /wins/vlzno/projects/NeMAAP/sge_merlin.sh /wins/vlzno/projects/NeMAAP/experiments/1115/MA-600-asexual_diploid-23.yml\n",
      "qsub -N pub /wins/vlzno/projects/NeMAAP/sge_merlin.sh /wins/vlzno/projects/NeMAAP/experiments/1115/MA-300-asexual_diploid-78.yml\n",
      "qsub -N pub /wins/vlzno/projects/NeMAAP/sge_merlin.sh /wins/vlzno/projects/NeMAAP/experiments/1115/pos-600-asexual_diploid-117.yml\n",
      "qsub -N pub /wins/vlzno/projects/NeMAAP/sge_merlin.sh /wins/vlzno/projects/NeMAAP/experiments/1115/pos-600-asexual_diploid-109.yml\n",
      "qsub -N pub /wins/vlzno/projects/NeMAAP/sge_merlin.sh /wins/vlzno/projects/NeMAAP/experiments/1115/pos-600-asexual_diploid-5.yml\n",
      "qsub -N pub /wins/vlzno/projects/NeMAAP/sge_merlin.sh /wins/vlzno/projects/NeMAAP/experiments/1115/MA-300-asexual_diploid-58.yml\n",
      "qsub -N pub /wins/vlzno/projects/NeMAAP/sge_merlin.sh /wins/vlzno/projects/NeMAAP/experiments/1115/MA-600-asexual_diploid-51.yml\n",
      "qsub -N pub /wins/vlzno/projects/NeMAAP/sge_merlin.sh /wins/vlzno/projects/NeMAAP/experiments/1115/pos-300-asexual_diploid-36.yml\n",
      "qsub -N pub /wins/vlzno/projects/NeMAAP/sge_merlin.sh /wins/vlzno/projects/NeMAAP/experiments/1115/MA-600-asexual_diploid-103.yml\n",
      "qsub -N pub /wins/vlzno/projects/NeMAAP/sge_merlin.sh /wins/vlzno/projects/NeMAAP/experiments/1115/MA-600-asexual_diploid-83.yml\n",
      "qsub -N pub /wins/vlzno/projects/NeMAAP/sge_merlin.sh /wins/vlzno/projects/NeMAAP/experiments/1115/pos-600-asexual_diploid-9.yml\n",
      "qsub -N pub /wins/vlzno/projects/NeMAAP/sge_merlin.sh /wins/vlzno/projects/NeMAAP/experiments/1115/MA-300-asexual_diploid-18.yml\n",
      "qsub -N pub /wins/vlzno/projects/NeMAAP/sge_merlin.sh /wins/vlzno/projects/NeMAAP/experiments/1115/MA-300-asexual_diploid-22.yml\n",
      "qsub -N pub /wins/vlzno/projects/NeMAAP/sge_merlin.sh /wins/vlzno/projects/NeMAAP/experiments/1115/MA-300-asexual_diploid-2.yml\n",
      "qsub -N pub /wins/vlzno/projects/NeMAAP/sge_merlin.sh /wins/vlzno/projects/NeMAAP/experiments/1115/pos-300-asexual_diploid-44.yml\n",
      "qsub -N pub /wins/vlzno/projects/NeMAAP/sge_merlin.sh /wins/vlzno/projects/NeMAAP/experiments/1115/MA-600-asexual_diploid-59.yml\n",
      "qsub -N pub /wins/vlzno/projects/NeMAAP/sge_merlin.sh /wins/vlzno/projects/NeMAAP/experiments/1115/pos-600-asexual_diploid-45.yml\n",
      "qsub -N pub /wins/vlzno/projects/NeMAAP/sge_merlin.sh /wins/vlzno/projects/NeMAAP/experiments/1115/pos-600-asexual_diploid-77.yml\n",
      "qsub -N pub /wins/vlzno/projects/NeMAAP/sge_merlin.sh /wins/vlzno/projects/NeMAAP/experiments/1115/MA-600-asexual_diploid-75.yml\n",
      "qsub -N pub /wins/vlzno/projects/NeMAAP/sge_merlin.sh /wins/vlzno/projects/NeMAAP/experiments/1115/pos-300-asexual_diploid-100.yml\n"
     ]
    }
   ],
   "source": [
    "# Load paths to all existing yml files in the path_dir\n",
    "yml_paths = [path for path in path_dir.glob(\"*\") if path.suffix == \".yml\"]\n",
    "\n",
    "for yml_path in yml_paths:\n",
    "    message = f\"qsub -N pub /wins/vlzno/projects/NeMAAP/sge_merlin.sh /wins/vlzno/projects/NeMAAP/experiments/{path_dir.name}/{yml_path.name}\"  # EGO\n",
    "    # message = f\"python3 -m aegis {yml_path}\"\n",
    "    print(message)"
   ]
  },
  {
   "cell_type": "markdown",
   "id": "c4da6d19-4e27-4bc2-830f-c6b1ceba8355",
   "metadata": {},
   "source": [
    "# 3. Analyze results"
   ]
  },
  {
   "cell_type": "markdown",
   "id": "a6fa6fa3-b92b-4784-93c4-ec8f72ba9668",
   "metadata": {},
   "source": [
    "### Loading results"
   ]
  },
  {
   "cell_type": "code",
   "execution_count": 117,
   "id": "d573c53d-53a7-439d-a11a-e0ff9a53b53d",
   "metadata": {},
   "outputs": [],
   "source": [
    "output_directory_paths = [\n",
    "    \"../experiments/0815\",\n",
    "    \"../experiments/0830\",\n",
    "    # \"../experiments/1114\",\n",
    "]"
   ]
  },
  {
   "cell_type": "code",
   "execution_count": 118,
   "id": "300a8d99-8e99-4632-9014-4fa91628dd57",
   "metadata": {},
   "outputs": [],
   "source": [
    "# Load paths to all experiment folders\n",
    "paths_dir = [\n",
    "    pathlib.Path(output_directory_path)\n",
    "    for output_directory_path in output_directory_paths\n",
    "]\n",
    "yml_paths = [\n",
    "    path.with_suffix(\".yml\")\n",
    "    for path_dir in paths_dir\n",
    "    for path in path_dir.glob(\"*\")\n",
    "    if path.is_file()\n",
    "]"
   ]
  },
  {
   "cell_type": "code",
   "execution_count": 7,
   "id": "35e79696-9e0f-4500-ad95-d7ad950eda8e",
   "metadata": {},
   "outputs": [
    {
     "data": {
      "text/plain": [
       "(240, 120, 0)"
      ]
     },
     "execution_count": 7,
     "metadata": {},
     "output_type": "execute_result"
    }
   ],
   "source": [
    "counts = [path.parent.name for path in yml_paths]\n",
    "len([c for c in counts if c == \"0815\"]), len([c for c in counts if c == \"0830\"]), len(\n",
    "    [c for c in counts if c == \"1114\"]\n",
    ")"
   ]
  },
  {
   "cell_type": "code",
   "execution_count": 8,
   "id": "e62c6b96-0a88-4dfc-acc3-8a648593bd87",
   "metadata": {},
   "outputs": [],
   "source": [
    "# import multiprocessing as mp\n",
    "\n",
    "# def readcsv(path):\n",
    "#     return pd.read_csv(path, usecols=range(50))\n",
    "\n",
    "# p_paths = [yml_path.with_suffix(\"\") / \"0/visor/phenotypes.csv\" for yml_path in yml_paths]\n",
    "\n",
    "# with mp.Pool(10) as p:\n",
    "#     csvs = p.map(readcsv, p_paths)"
   ]
  },
  {
   "cell_type": "code",
   "execution_count": 30,
   "id": "ea13405b-80fd-4548-a4ab-c40029629e7b",
   "metadata": {},
   "outputs": [],
   "source": [
    "# cont = Container(yml_paths[0].with_suffix(\"\"))\n",
    "# cont\n",
    "\n",
    "# cont = Container(\"../experiments/1114/pos-300-sexual-30\")"
   ]
  },
  {
   "cell_type": "code",
   "execution_count": 31,
   "id": "0b6fb09b-d96b-46ba-9c56-b809a7f9a7c7",
   "metadata": {},
   "outputs": [
    {
     "name": "stderr",
     "output_type": "stream",
     "text": [
      "100%|██████████| 180/180 [00:07<00:00, 25.46it/s]\n"
     ]
    }
   ],
   "source": [
    "RESULTS = {}\n",
    "\n",
    "for i, yml_path in tqdm.tqdm(enumerate(yml_paths), total=len(yml_paths)):\n",
    "\n",
    "    # Path to .csv file with phenotypes\n",
    "    path = yml_path.with_suffix(\"\") / \"0/visor/phenotypes.csv\"\n",
    "    phenokind, popsize, reprmode, i = yml_path.stem.split(\"-\")\n",
    "\n",
    "    # # Read configuration\n",
    "    # with open(yml_path, \"r\") as file_:\n",
    "    #     config = yaml.safe_load(file_)\n",
    "    # popsize = config[\"MAX_POPULATION_SIZE\"]\n",
    "    # reprmode = config[\"REPRODUCTION_MODE\"]\n",
    "\n",
    "    # Read in the intrinsic survival rates\n",
    "    pheno = pd.read_csv(path, usecols=range(50))\n",
    "    # print(len(pheno))\n",
    "    # if len(pheno) < 100:\n",
    "    #     print([phenokind, popsize, reprmode])\n",
    "    #     continue\n",
    "\n",
    "    # Only look at the last evolved rates\n",
    "    pheno = pheno.iloc[-1]\n",
    "\n",
    "    # Save RESULTS\n",
    "    RESULTS[(phenokind, popsize, reprmode, i)] = pheno"
   ]
  },
  {
   "cell_type": "code",
   "execution_count": 47,
   "id": "5548a6cd-d6d1-4930-8a13-d192150c51a1",
   "metadata": {},
   "outputs": [
    {
     "name": "stderr",
     "output_type": "stream",
     "text": [
      "100%|██████████| 180/180 [00:07<00:00, 24.58it/s]\n"
     ]
    }
   ],
   "source": [
    "GENOS = {}\n",
    "\n",
    "for i, yml_path in tqdm.tqdm(enumerate(yml_paths), total=len(yml_paths)):\n",
    "\n",
    "    # Path to .csv file with phenotypes\n",
    "    path = yml_path.with_suffix(\"\") / \"0/visor/genotypes.csv\"\n",
    "    phenokind, popsize, reprmode, i = yml_path.stem.split(\"-\")\n",
    "\n",
    "    # # Read configuration\n",
    "    # with open(yml_path, \"r\") as file_:\n",
    "    #     config = yaml.safe_load(file_)\n",
    "    # popsize = config[\"MAX_POPULATION_SIZE\"]\n",
    "    # reprmode = config[\"REPRODUCTION_MODE\"]\n",
    "\n",
    "    # Read in the intrinsic survival rates\n",
    "    pheno = pd.read_csv(path, usecols=range(50))\n",
    "    # print(len(pheno))\n",
    "    if len(pheno) < 51:\n",
    "        print([len(pheno), phenokind, popsize, reprmode])\n",
    "        continue\n",
    "\n",
    "    # Only look at the last evolved rates\n",
    "    pheno = pheno.iloc[50]\n",
    "\n",
    "    # Save RESULTS\n",
    "    RESULTS[(phenokind, popsize, reprmode, i)] = pheno"
   ]
  },
  {
   "cell_type": "markdown",
   "id": "9872633e-179e-48aa-944c-12a2025a5434",
   "metadata": {},
   "source": [
    "# Plotting"
   ]
  },
  {
   "cell_type": "code",
   "execution_count": 48,
   "id": "53773085-9c57-4609-8b4b-267f176ce8ab",
   "metadata": {},
   "outputs": [],
   "source": [
    "format_ = \"png\"\n",
    "savefig_settings = {\"dpi\": 300}\n",
    "matplotlib.rcParams.update({\"font.size\": 8})\n",
    "# import matplotlib.font_manager\n",
    "# plt.rcParams[\"font.family\"] = \"Arial\"\n",
    "\n",
    "# Transform data into a table\n",
    "\n",
    "df = pd.DataFrame(RESULTS).T.sort_index().droplevel(3, axis=0)\n",
    "n_specs_studied = int(len(df) / len(df.index.unique()))\n",
    "\n",
    "figsize = (2, 2)\n",
    "dpi = 300\n",
    "\n",
    "colors = [\"crimson\", \"forestgreen\", \"dodgerblue\"]\n",
    "plot_colors = [color for color in colors for _ in range(n_specs_studied)]\n",
    "\n",
    "patches = [\n",
    "    mpatches.Circle(xy=(0, 0), color=colors[0], label=\"300\"),\n",
    "    mpatches.Circle(xy=(0, 0), color=colors[1], label=\"3000\"),\n",
    "    mpatches.Circle(xy=(0, 0), color=colors[2], label=\"30000\"),\n",
    "]"
   ]
  },
  {
   "cell_type": "markdown",
   "id": "eed2f4a5-aed6-4608-8c31-5d0c595ab70a",
   "metadata": {},
   "source": [
    "## Plot mortality"
   ]
  },
  {
   "cell_type": "code",
   "execution_count": 33,
   "id": "91f1da5c-cf9b-4ebf-aa6c-27738cf639f1",
   "metadata": {},
   "outputs": [],
   "source": [
    "# df1115 = df"
   ]
  },
  {
   "cell_type": "code",
   "execution_count": 35,
   "id": "69332d29-e9e8-4f78-97d6-2f25e0a03011",
   "metadata": {},
   "outputs": [],
   "source": [
    "# (df1115 - 0.95).reset_index().groupby([\"level_0\", \"level_1\", \"level_2\"]).mean().T.plot(\n",
    "#     figsize=(8, 4)\n",
    "# )"
   ]
  },
  {
   "cell_type": "code",
   "execution_count": 36,
   "id": "ef27426f-4236-49ea-840a-b374fef182ee",
   "metadata": {},
   "outputs": [],
   "source": [
    "# (df).reset_index().groupby([\"level_0\", \"level_1\", \"level_2\"]).mean().T.plot(\n",
    "#     figsize=(8, 4)\n",
    "# )"
   ]
  },
  {
   "cell_type": "code",
   "execution_count": 37,
   "id": "fb6c77cf-033a-4b37-a410-635f522d18f7",
   "metadata": {},
   "outputs": [],
   "source": [
    "# df.reset_index().groupby([\"level_1\", \"level_2\"]).sum(0).drop(\"level_0\", axis=1).T.plot()\n",
    "# plt.show()\n",
    "\n",
    "# _ = df.reset_index().groupby([\"level_1\", \"level_2\"]).sum(0).drop(\"level_0\", axis=1)\n",
    "\n",
    "# _.cumsum(1).diff(periods=9, axis=1).iloc[:, 9::10].div(9 * 30).add(-0.95).T.plot()"
   ]
  },
  {
   "cell_type": "code",
   "execution_count": 38,
   "id": "7bb0a355-f05d-431e-b9a9-963fe20755e5",
   "metadata": {},
   "outputs": [],
   "source": [
    "# (df.xs((\"pos\", \"300\", \"sexual\")) - 0.95).sum(0).plot()"
   ]
  },
  {
   "cell_type": "code",
   "execution_count": 40,
   "id": "3010d1cd-b0a8-4fa5-baf3-33b95953a261",
   "metadata": {},
   "outputs": [],
   "source": [
    "# df = pd.DataFrame(RESULTS).T.sort_index().droplevel(3, axis=0)\n",
    "# (df - 0.95).reset_index().groupby([\"level_0\", \"level_1\", \"level_2\"]).mean().T.plot(\n",
    "#     figsize=(8, 4)\n",
    "# )"
   ]
  },
  {
   "cell_type": "code",
   "execution_count": 41,
   "id": "29a154bc-dc3e-40af-9284-d56c72292e7e",
   "metadata": {},
   "outputs": [],
   "source": [
    "# ax_set_styles_general = dict(\n",
    "#     xlim=[0, 49],\n",
    "#     xticks=[0, 10, 49],\n",
    "#     xticklabels=[0, \"\", 50],\n",
    "#     facecolor=\"white\",\n",
    "# )"
   ]
  },
  {
   "cell_type": "code",
   "execution_count": 32,
   "id": "19563fdb-6d86-4246-908f-3214d5e7c618",
   "metadata": {},
   "outputs": [],
   "source": [
    "# RESULTS_2 = RESULTS"
   ]
  },
  {
   "cell_type": "code",
   "execution_count": 42,
   "id": "99edc6d7-bb84-4d0f-9ecf-6d96cd68954b",
   "metadata": {},
   "outputs": [],
   "source": [
    "# # RESULTS = RESULTS_\n",
    "\n",
    "# df_ = pd.DataFrame(RESULTS_).T.sort_index().droplevel(3, axis=0)\n",
    "# df_2 = pd.DataFrame(RESULTS_2).T.sort_index().droplevel(3, axis=0)"
   ]
  },
  {
   "cell_type": "code",
   "execution_count": 43,
   "id": "32ea5512-cdfa-4f3a-9dbe-b66200e5414c",
   "metadata": {},
   "outputs": [],
   "source": [
    "# (df_ - 0.95).reset_index().groupby([\"level_0\", \"level_1\", \"level_2\"]).mean().T.plot(\n",
    "#     figsize=(8, 4)\n",
    "# )"
   ]
  },
  {
   "cell_type": "code",
   "execution_count": 44,
   "id": "46f2694e-388e-4cf8-9f66-6fb9c35c75a5",
   "metadata": {},
   "outputs": [],
   "source": [
    "# (df_2 - 0.95).reset_index().groupby([\"level_0\", \"level_1\", \"level_2\"]).mean().T.plot(\n",
    "#     figsize=(8, 4)\n",
    "# )"
   ]
  },
  {
   "cell_type": "code",
   "execution_count": 45,
   "id": "9744f556-d973-45be-8355-cb1d0be75856",
   "metadata": {},
   "outputs": [],
   "source": [
    "# (df - 0.95).xs((\"pos\", \"300\"), level=[0, 1], axis=0).reset_index().groupby(\n",
    "#     \"index\"\n",
    "# ).sum().T.plot()"
   ]
  },
  {
   "cell_type": "code",
   "execution_count": 49,
   "id": "b7cad91d-5a9d-40d2-9fe8-d60ddc3ae228",
   "metadata": {},
   "outputs": [],
   "source": [
    "ax_set_styles_general = dict(\n",
    "    xlim=[0, 49],\n",
    "    xticks=[0, 10, 49],\n",
    "    xticklabels=[0, \"\", 50],\n",
    "    facecolor=\"white\",\n",
    ")\n",
    "\n",
    "ax_set_styles_mort = dict(\n",
    "    ylim=[0, 0.105],\n",
    "    yticks=[0, 0.05, 0.1],\n",
    "    yticklabels=[0, 0.05, 0.1],\n",
    ")\n",
    "\n",
    "ax_set_styles_surv = dict(\n",
    "    ylim=[0, 1.01],\n",
    ")\n",
    "\n",
    "\n",
    "def plot_lh(df, aging_theory, repr_mode, ax, lw, plot_bckg=False, plot_surv=False):\n",
    "\n",
    "    # plot lines\n",
    "    ax.vlines(10, 0, 1, color=\"magenta\", ls=\"dotted\", alpha=0.5, lw=lw)\n",
    "    if plot_surv:\n",
    "        default_survivorship = 0.95 ** np.arange(51)\n",
    "        ax.plot(default_survivorship, color=\"gray\", ls=\"dotted\", lw=lw)\n",
    "    else:\n",
    "        ax.hlines(0.05, 0, 51, color=\"gray\", ls=\"dotted\", lw=0.5)\n",
    "\n",
    "    # calculate data to plot\n",
    "    if plot_surv:\n",
    "        data = df.cumprod(1).loc[aging_theory, :, repr_mode].copy()\n",
    "        data.insert(0, \"newcol\", [1] * len(data), allow_duplicates=True)\n",
    "        data = data.T.reset_index(drop=True).T\n",
    "    else:\n",
    "        data = (1 - df).loc[aging_theory, :, repr_mode]\n",
    "\n",
    "    # plot background curves\n",
    "    if plot_bckg:\n",
    "        data.T.plot(\n",
    "            legend=False,\n",
    "            color=plot_colors,\n",
    "            ax=ax,\n",
    "            alpha=0.1,\n",
    "            lw=lw,\n",
    "        )\n",
    "\n",
    "    # plot mean curve\n",
    "    data.reset_index().groupby(\"index\").mean(0).T.plot(\n",
    "        ax=ax,\n",
    "        color=colors,\n",
    "        lw=lw,\n",
    "    )\n",
    "\n",
    "    # ax.legend(\n",
    "    #     handles=patches,\n",
    "    #     frameon=False,\n",
    "    #     # prop={\"size\": 4},\n",
    "    #     loc=[0.7, 0.015],\n",
    "    # )\n",
    "\n",
    "    ax_set_styles = ax_set_styles_surv if plot_surv else ax_set_styles_mort\n",
    "    ax.set(**ax_set_styles_general, **ax_set_styles)\n",
    "    ax.spines[[\"right\", \"top\"]].set_visible(False)\n",
    "    ax.get_legend().remove()\n",
    "\n",
    "\n",
    "# aging_theories = [\"MA\", \"AP\", \"pos\"]\n",
    "# for mortorsurv in [\"mort\", \"surv\"]:\n",
    "#     for aging_theory in aging_theories:\n",
    "#         fig, ax = plt.subplots(figsize=figsize, facecolor=\"white\")\n",
    "\n",
    "#         # main plot\n",
    "#         plot_lh(\n",
    "#             df, \"sexual\", ax, lw=0.5, plot_bckg=True, plot_surv=mortorsurv == \"surv\"\n",
    "#         )\n",
    "\n",
    "#         # inset\n",
    "\n",
    "#         if mortorsurv == \"surv\":\n",
    "#             ax = fig.add_axes([0.68, 0.66, 0.2, 0.2])\n",
    "#         else:\n",
    "#             ax = fig.add_axes([0.68, 0.24, 0.2, 0.2])\n",
    "#         plot_lh(df, \"asexual_diploid\", ax, lw=0.5, plot_surv=mortorsurv == \"surv\")\n",
    "\n",
    "#         # save\n",
    "#         fig.savefig(\n",
    "#             plots_dir / f\"2-{mortorsurv}-{aging_theory}.{format_}\",\n",
    "#             bbox_inches=\"tight\",\n",
    "#             **savefig_settings,\n",
    "#         )\n",
    "\n",
    "#         # Plot only asexual\n",
    "#         fig, ax = plt.subplots(figsize=figsize, facecolor=\"white\")\n",
    "#         plot_lh(\n",
    "#             df,\n",
    "#             \"asexual_diploid\",\n",
    "#             ax,\n",
    "#             lw=0.5,\n",
    "#             plot_bckg=True,\n",
    "#             plot_surv=mortorsurv == \"surv\",\n",
    "#         )\n",
    "#         fig.savefig(\n",
    "#             plots_dir / f\"SUPP-{mortorsurv}-{aging_theory}-asex.{format_}\",\n",
    "#             bbox_inches=\"tight\",\n",
    "#             **savefig_settings,\n",
    "#         )"
   ]
  },
  {
   "cell_type": "code",
   "execution_count": 50,
   "id": "addcb17d-75ec-4fb2-a700-dadf947d11d2",
   "metadata": {},
   "outputs": [
    {
     "data": {
      "image/png": "[encoded data removed]",
      "text/plain": [
       "<Figure size 144x144 with 1 Axes>"
      ]
     },
     "metadata": {},
     "output_type": "display_data"
    }
   ],
   "source": [
    "fig, ax = plt.subplots(figsize=figsize, facecolor=\"white\")\n",
    "\n",
    "# main plot\n",
    "mortorsurv = \"surv\"\n",
    "aging_theory = \"pos\"\n",
    "plot_lh(\n",
    "    df,\n",
    "    aging_theory,\n",
    "    \"sexual\",\n",
    "    ax,\n",
    "    lw=0.5,\n",
    "    plot_bckg=True,\n",
    "    plot_surv=mortorsurv == \"surv\",\n",
    ")\n",
    "# ax.set_ylim(0.03, 0.07)\n",
    "# ax.set_yticks([0.03, 0.05, 0.07])\n",
    "# ax.set_yticklabels([0.03, 0.05, 0.07])\n",
    "\n",
    "# fig.savefig(\n",
    "#     plots_dir / f\"SUPP-{mortorsurv}-{aging_theory}-sex.{format_}\",\n",
    "#     bbox_inches=\"tight\",\n",
    "#     **savefig_settings,\n",
    "# )"
   ]
  },
  {
   "cell_type": "code",
   "execution_count": 67,
   "id": "3ba40c33-636e-4b33-bc2f-0ec7b3222fde",
   "metadata": {},
   "outputs": [
    {
     "data": {
      "image/png": "[encoded data removed]",
      "text/plain": [
       "<Figure size 144x144 with 1 Axes>"
      ]
     },
     "metadata": {},
     "output_type": "display_data"
    }
   ],
   "source": [
    "fig, ax = plt.subplots(figsize=figsize, facecolor=\"white\")\n",
    "\n",
    "# main plot\n",
    "mortorsurv = \"surv\"\n",
    "aging_theory = \"pos\"\n",
    "plot_lh(\n",
    "    df,\n",
    "    aging_theory,\n",
    "    \"asexual_diploid\",\n",
    "    ax,\n",
    "    lw=0.5,\n",
    "    plot_bckg=True,\n",
    "    plot_surv=mortorsurv == \"surv\",\n",
    ")\n",
    "# ax.set_ylim(0.03, 0.07)\n",
    "# ax.set_yticks([0.03, 0.05, 0.07])\n",
    "# ax.set_yticklabels([0.03, 0.05, 0.07])\n",
    "\n",
    "fig.savefig(\n",
    "    plots_dir / f\"SUPP-{mortorsurv}-{aging_theory}-asex.{format_}\",\n",
    "    bbox_inches=\"tight\",\n",
    "    **savefig_settings,\n",
    ")"
   ]
  },
  {
   "cell_type": "markdown",
   "id": "6a7918bc-7932-4516-a02b-de67d1cc97b8",
   "metadata": {},
   "source": [
    "## Fixation rates"
   ]
  },
  {
   "cell_type": "code",
   "execution_count": null,
   "id": "ab7eafe7-1b84-4eb4-bed0-59e06ae413ee",
   "metadata": {},
   "outputs": [],
   "source": []
  },
  {
   "cell_type": "code",
   "execution_count": 128,
   "id": "3e4db57d-8d4b-467d-97b3-f4628c6f9e04",
   "metadata": {},
   "outputs": [
    {
     "name": "stderr",
     "output_type": "stream",
     "text": [
      "  4%|▍         | 16/360 [00:02<00:58,  5.84it/s]\n"
     ]
    },
    {
     "ename": "KeyboardInterrupt",
     "evalue": "",
     "output_type": "error",
     "traceback": [
      "\u001b[0;31m---------------------------------------------------------------------------\u001b[0m",
      "\u001b[0;31mKeyboardInterrupt\u001b[0m                         Traceback (most recent call last)",
      "Input \u001b[0;32mIn [128]\u001b[0m, in \u001b[0;36m<module>\u001b[0;34m\u001b[0m\n\u001b[1;32m      7\u001b[0m phenokind, popsize, reprmode, i \u001b[38;5;241m=\u001b[39m yml_path\u001b[38;5;241m.\u001b[39mstem\u001b[38;5;241m.\u001b[39msplit(\u001b[38;5;124m\"\u001b[39m\u001b[38;5;124m-\u001b[39m\u001b[38;5;124m\"\u001b[39m)\n\u001b[1;32m      9\u001b[0m \u001b[38;5;66;03m# # Read configuration\u001b[39;00m\n\u001b[1;32m     10\u001b[0m \u001b[38;5;66;03m# with open(yml_path, \"r\") as file_:\u001b[39;00m\n\u001b[1;32m     11\u001b[0m \u001b[38;5;66;03m#     config = yaml.safe_load(file_)\u001b[39;00m\n\u001b[0;32m   (...)\u001b[0m\n\u001b[1;32m     14\u001b[0m \n\u001b[1;32m     15\u001b[0m \u001b[38;5;66;03m# Read in the intrinsic survival rates\u001b[39;00m\n\u001b[0;32m---> 16\u001b[0m pheno \u001b[38;5;241m=\u001b[39m \u001b[43mpd\u001b[49m\u001b[38;5;241;43m.\u001b[39;49m\u001b[43mread_csv\u001b[49m\u001b[43m(\u001b[49m\u001b[43mpath\u001b[49m\u001b[43m)\u001b[49m\n\u001b[1;32m     17\u001b[0m \u001b[38;5;66;03m# print(len(pheno))\u001b[39;00m\n\u001b[1;32m     18\u001b[0m \u001b[38;5;28;01mif\u001b[39;00m \u001b[38;5;28mlen\u001b[39m(pheno) \u001b[38;5;241m!=\u001b[39m \u001b[38;5;241m100\u001b[39m:\n",
      "File \u001b[0;32m/opt/conda/lib/python3.9/site-packages/pandas/util/_decorators.py:311\u001b[0m, in \u001b[0;36mdeprecate_nonkeyword_arguments.<locals>.decorate.<locals>.wrapper\u001b[0;34m(*args, **kwargs)\u001b[0m\n\u001b[1;32m    305\u001b[0m \u001b[38;5;28;01mif\u001b[39;00m \u001b[38;5;28mlen\u001b[39m(args) \u001b[38;5;241m>\u001b[39m num_allow_args:\n\u001b[1;32m    306\u001b[0m     warnings\u001b[38;5;241m.\u001b[39mwarn(\n\u001b[1;32m    307\u001b[0m         msg\u001b[38;5;241m.\u001b[39mformat(arguments\u001b[38;5;241m=\u001b[39marguments),\n\u001b[1;32m    308\u001b[0m         \u001b[38;5;167;01mFutureWarning\u001b[39;00m,\n\u001b[1;32m    309\u001b[0m         stacklevel\u001b[38;5;241m=\u001b[39mstacklevel,\n\u001b[1;32m    310\u001b[0m     )\n\u001b[0;32m--> 311\u001b[0m \u001b[38;5;28;01mreturn\u001b[39;00m \u001b[43mfunc\u001b[49m\u001b[43m(\u001b[49m\u001b[38;5;241;43m*\u001b[39;49m\u001b[43margs\u001b[49m\u001b[43m,\u001b[49m\u001b[43m \u001b[49m\u001b[38;5;241;43m*\u001b[39;49m\u001b[38;5;241;43m*\u001b[39;49m\u001b[43mkwargs\u001b[49m\u001b[43m)\u001b[49m\n",
      "File \u001b[0;32m/opt/conda/lib/python3.9/site-packages/pandas/io/parsers/readers.py:680\u001b[0m, in \u001b[0;36mread_csv\u001b[0;34m(filepath_or_buffer, sep, delimiter, header, names, index_col, usecols, squeeze, prefix, mangle_dupe_cols, dtype, engine, converters, true_values, false_values, skipinitialspace, skiprows, skipfooter, nrows, na_values, keep_default_na, na_filter, verbose, skip_blank_lines, parse_dates, infer_datetime_format, keep_date_col, date_parser, dayfirst, cache_dates, iterator, chunksize, compression, thousands, decimal, lineterminator, quotechar, quoting, doublequote, escapechar, comment, encoding, encoding_errors, dialect, error_bad_lines, warn_bad_lines, on_bad_lines, delim_whitespace, low_memory, memory_map, float_precision, storage_options)\u001b[0m\n\u001b[1;32m    665\u001b[0m kwds_defaults \u001b[38;5;241m=\u001b[39m _refine_defaults_read(\n\u001b[1;32m    666\u001b[0m     dialect,\n\u001b[1;32m    667\u001b[0m     delimiter,\n\u001b[0;32m   (...)\u001b[0m\n\u001b[1;32m    676\u001b[0m     defaults\u001b[38;5;241m=\u001b[39m{\u001b[38;5;124m\"\u001b[39m\u001b[38;5;124mdelimiter\u001b[39m\u001b[38;5;124m\"\u001b[39m: \u001b[38;5;124m\"\u001b[39m\u001b[38;5;124m,\u001b[39m\u001b[38;5;124m\"\u001b[39m},\n\u001b[1;32m    677\u001b[0m )\n\u001b[1;32m    678\u001b[0m kwds\u001b[38;5;241m.\u001b[39mupdate(kwds_defaults)\n\u001b[0;32m--> 680\u001b[0m \u001b[38;5;28;01mreturn\u001b[39;00m \u001b[43m_read\u001b[49m\u001b[43m(\u001b[49m\u001b[43mfilepath_or_buffer\u001b[49m\u001b[43m,\u001b[49m\u001b[43m \u001b[49m\u001b[43mkwds\u001b[49m\u001b[43m)\u001b[49m\n",
      "File \u001b[0;32m/opt/conda/lib/python3.9/site-packages/pandas/io/parsers/readers.py:575\u001b[0m, in \u001b[0;36m_read\u001b[0;34m(filepath_or_buffer, kwds)\u001b[0m\n\u001b[1;32m    572\u001b[0m _validate_names(kwds\u001b[38;5;241m.\u001b[39mget(\u001b[38;5;124m\"\u001b[39m\u001b[38;5;124mnames\u001b[39m\u001b[38;5;124m\"\u001b[39m, \u001b[38;5;28;01mNone\u001b[39;00m))\n\u001b[1;32m    574\u001b[0m \u001b[38;5;66;03m# Create the parser.\u001b[39;00m\n\u001b[0;32m--> 575\u001b[0m parser \u001b[38;5;241m=\u001b[39m \u001b[43mTextFileReader\u001b[49m\u001b[43m(\u001b[49m\u001b[43mfilepath_or_buffer\u001b[49m\u001b[43m,\u001b[49m\u001b[43m \u001b[49m\u001b[38;5;241;43m*\u001b[39;49m\u001b[38;5;241;43m*\u001b[39;49m\u001b[43mkwds\u001b[49m\u001b[43m)\u001b[49m\n\u001b[1;32m    577\u001b[0m \u001b[38;5;28;01mif\u001b[39;00m chunksize \u001b[38;5;129;01mor\u001b[39;00m iterator:\n\u001b[1;32m    578\u001b[0m     \u001b[38;5;28;01mreturn\u001b[39;00m parser\n",
      "File \u001b[0;32m/opt/conda/lib/python3.9/site-packages/pandas/io/parsers/readers.py:933\u001b[0m, in \u001b[0;36mTextFileReader.__init__\u001b[0;34m(self, f, engine, **kwds)\u001b[0m\n\u001b[1;32m    930\u001b[0m     \u001b[38;5;28mself\u001b[39m\u001b[38;5;241m.\u001b[39moptions[\u001b[38;5;124m\"\u001b[39m\u001b[38;5;124mhas_index_names\u001b[39m\u001b[38;5;124m\"\u001b[39m] \u001b[38;5;241m=\u001b[39m kwds[\u001b[38;5;124m\"\u001b[39m\u001b[38;5;124mhas_index_names\u001b[39m\u001b[38;5;124m\"\u001b[39m]\n\u001b[1;32m    932\u001b[0m \u001b[38;5;28mself\u001b[39m\u001b[38;5;241m.\u001b[39mhandles: IOHandles \u001b[38;5;241m|\u001b[39m \u001b[38;5;28;01mNone\u001b[39;00m \u001b[38;5;241m=\u001b[39m \u001b[38;5;28;01mNone\u001b[39;00m\n\u001b[0;32m--> 933\u001b[0m \u001b[38;5;28mself\u001b[39m\u001b[38;5;241m.\u001b[39m_engine \u001b[38;5;241m=\u001b[39m \u001b[38;5;28;43mself\u001b[39;49m\u001b[38;5;241;43m.\u001b[39;49m\u001b[43m_make_engine\u001b[49m\u001b[43m(\u001b[49m\u001b[43mf\u001b[49m\u001b[43m,\u001b[49m\u001b[43m \u001b[49m\u001b[38;5;28;43mself\u001b[39;49m\u001b[38;5;241;43m.\u001b[39;49m\u001b[43mengine\u001b[49m\u001b[43m)\u001b[49m\n",
      "File \u001b[0;32m/opt/conda/lib/python3.9/site-packages/pandas/io/parsers/readers.py:1217\u001b[0m, in \u001b[0;36mTextFileReader._make_engine\u001b[0;34m(self, f, engine)\u001b[0m\n\u001b[1;32m   1213\u001b[0m     mode \u001b[38;5;241m=\u001b[39m \u001b[38;5;124m\"\u001b[39m\u001b[38;5;124mrb\u001b[39m\u001b[38;5;124m\"\u001b[39m\n\u001b[1;32m   1214\u001b[0m \u001b[38;5;66;03m# error: No overload variant of \"get_handle\" matches argument types\u001b[39;00m\n\u001b[1;32m   1215\u001b[0m \u001b[38;5;66;03m# \"Union[str, PathLike[str], ReadCsvBuffer[bytes], ReadCsvBuffer[str]]\"\u001b[39;00m\n\u001b[1;32m   1216\u001b[0m \u001b[38;5;66;03m# , \"str\", \"bool\", \"Any\", \"Any\", \"Any\", \"Any\", \"Any\"\u001b[39;00m\n\u001b[0;32m-> 1217\u001b[0m \u001b[38;5;28mself\u001b[39m\u001b[38;5;241m.\u001b[39mhandles \u001b[38;5;241m=\u001b[39m \u001b[43mget_handle\u001b[49m\u001b[43m(\u001b[49m\u001b[43m  \u001b[49m\u001b[38;5;66;43;03m# type: ignore[call-overload]\u001b[39;49;00m\n\u001b[1;32m   1218\u001b[0m \u001b[43m    \u001b[49m\u001b[43mf\u001b[49m\u001b[43m,\u001b[49m\n\u001b[1;32m   1219\u001b[0m \u001b[43m    \u001b[49m\u001b[43mmode\u001b[49m\u001b[43m,\u001b[49m\n\u001b[1;32m   1220\u001b[0m \u001b[43m    \u001b[49m\u001b[43mencoding\u001b[49m\u001b[38;5;241;43m=\u001b[39;49m\u001b[38;5;28;43mself\u001b[39;49m\u001b[38;5;241;43m.\u001b[39;49m\u001b[43moptions\u001b[49m\u001b[38;5;241;43m.\u001b[39;49m\u001b[43mget\u001b[49m\u001b[43m(\u001b[49m\u001b[38;5;124;43m\"\u001b[39;49m\u001b[38;5;124;43mencoding\u001b[39;49m\u001b[38;5;124;43m\"\u001b[39;49m\u001b[43m,\u001b[49m\u001b[43m \u001b[49m\u001b[38;5;28;43;01mNone\u001b[39;49;00m\u001b[43m)\u001b[49m\u001b[43m,\u001b[49m\n\u001b[1;32m   1221\u001b[0m \u001b[43m    \u001b[49m\u001b[43mcompression\u001b[49m\u001b[38;5;241;43m=\u001b[39;49m\u001b[38;5;28;43mself\u001b[39;49m\u001b[38;5;241;43m.\u001b[39;49m\u001b[43moptions\u001b[49m\u001b[38;5;241;43m.\u001b[39;49m\u001b[43mget\u001b[49m\u001b[43m(\u001b[49m\u001b[38;5;124;43m\"\u001b[39;49m\u001b[38;5;124;43mcompression\u001b[39;49m\u001b[38;5;124;43m\"\u001b[39;49m\u001b[43m,\u001b[49m\u001b[43m \u001b[49m\u001b[38;5;28;43;01mNone\u001b[39;49;00m\u001b[43m)\u001b[49m\u001b[43m,\u001b[49m\n\u001b[1;32m   1222\u001b[0m \u001b[43m    \u001b[49m\u001b[43mmemory_map\u001b[49m\u001b[38;5;241;43m=\u001b[39;49m\u001b[38;5;28;43mself\u001b[39;49m\u001b[38;5;241;43m.\u001b[39;49m\u001b[43moptions\u001b[49m\u001b[38;5;241;43m.\u001b[39;49m\u001b[43mget\u001b[49m\u001b[43m(\u001b[49m\u001b[38;5;124;43m\"\u001b[39;49m\u001b[38;5;124;43mmemory_map\u001b[39;49m\u001b[38;5;124;43m\"\u001b[39;49m\u001b[43m,\u001b[49m\u001b[43m \u001b[49m\u001b[38;5;28;43;01mFalse\u001b[39;49;00m\u001b[43m)\u001b[49m\u001b[43m,\u001b[49m\n\u001b[1;32m   1223\u001b[0m \u001b[43m    \u001b[49m\u001b[43mis_text\u001b[49m\u001b[38;5;241;43m=\u001b[39;49m\u001b[43mis_text\u001b[49m\u001b[43m,\u001b[49m\n\u001b[1;32m   1224\u001b[0m \u001b[43m    \u001b[49m\u001b[43merrors\u001b[49m\u001b[38;5;241;43m=\u001b[39;49m\u001b[38;5;28;43mself\u001b[39;49m\u001b[38;5;241;43m.\u001b[39;49m\u001b[43moptions\u001b[49m\u001b[38;5;241;43m.\u001b[39;49m\u001b[43mget\u001b[49m\u001b[43m(\u001b[49m\u001b[38;5;124;43m\"\u001b[39;49m\u001b[38;5;124;43mencoding_errors\u001b[39;49m\u001b[38;5;124;43m\"\u001b[39;49m\u001b[43m,\u001b[49m\u001b[43m \u001b[49m\u001b[38;5;124;43m\"\u001b[39;49m\u001b[38;5;124;43mstrict\u001b[39;49m\u001b[38;5;124;43m\"\u001b[39;49m\u001b[43m)\u001b[49m\u001b[43m,\u001b[49m\n\u001b[1;32m   1225\u001b[0m \u001b[43m    \u001b[49m\u001b[43mstorage_options\u001b[49m\u001b[38;5;241;43m=\u001b[39;49m\u001b[38;5;28;43mself\u001b[39;49m\u001b[38;5;241;43m.\u001b[39;49m\u001b[43moptions\u001b[49m\u001b[38;5;241;43m.\u001b[39;49m\u001b[43mget\u001b[49m\u001b[43m(\u001b[49m\u001b[38;5;124;43m\"\u001b[39;49m\u001b[38;5;124;43mstorage_options\u001b[39;49m\u001b[38;5;124;43m\"\u001b[39;49m\u001b[43m,\u001b[49m\u001b[43m \u001b[49m\u001b[38;5;28;43;01mNone\u001b[39;49;00m\u001b[43m)\u001b[49m\u001b[43m,\u001b[49m\n\u001b[1;32m   1226\u001b[0m \u001b[43m\u001b[49m\u001b[43m)\u001b[49m\n\u001b[1;32m   1227\u001b[0m \u001b[38;5;28;01massert\u001b[39;00m \u001b[38;5;28mself\u001b[39m\u001b[38;5;241m.\u001b[39mhandles \u001b[38;5;129;01mis\u001b[39;00m \u001b[38;5;129;01mnot\u001b[39;00m \u001b[38;5;28;01mNone\u001b[39;00m\n\u001b[1;32m   1228\u001b[0m f \u001b[38;5;241m=\u001b[39m \u001b[38;5;28mself\u001b[39m\u001b[38;5;241m.\u001b[39mhandles\u001b[38;5;241m.\u001b[39mhandle\n",
      "File \u001b[0;32m/opt/conda/lib/python3.9/site-packages/pandas/io/common.py:789\u001b[0m, in \u001b[0;36mget_handle\u001b[0;34m(path_or_buf, mode, encoding, compression, memory_map, is_text, errors, storage_options)\u001b[0m\n\u001b[1;32m    784\u001b[0m \u001b[38;5;28;01melif\u001b[39;00m \u001b[38;5;28misinstance\u001b[39m(handle, \u001b[38;5;28mstr\u001b[39m):\n\u001b[1;32m    785\u001b[0m     \u001b[38;5;66;03m# Check whether the filename is to be opened in binary mode.\u001b[39;00m\n\u001b[1;32m    786\u001b[0m     \u001b[38;5;66;03m# Binary mode does not support 'encoding' and 'newline'.\u001b[39;00m\n\u001b[1;32m    787\u001b[0m     \u001b[38;5;28;01mif\u001b[39;00m ioargs\u001b[38;5;241m.\u001b[39mencoding \u001b[38;5;129;01mand\u001b[39;00m \u001b[38;5;124m\"\u001b[39m\u001b[38;5;124mb\u001b[39m\u001b[38;5;124m\"\u001b[39m \u001b[38;5;129;01mnot\u001b[39;00m \u001b[38;5;129;01min\u001b[39;00m ioargs\u001b[38;5;241m.\u001b[39mmode:\n\u001b[1;32m    788\u001b[0m         \u001b[38;5;66;03m# Encoding\u001b[39;00m\n\u001b[0;32m--> 789\u001b[0m         handle \u001b[38;5;241m=\u001b[39m \u001b[38;5;28;43mopen\u001b[39;49m\u001b[43m(\u001b[49m\n\u001b[1;32m    790\u001b[0m \u001b[43m            \u001b[49m\u001b[43mhandle\u001b[49m\u001b[43m,\u001b[49m\n\u001b[1;32m    791\u001b[0m \u001b[43m            \u001b[49m\u001b[43mioargs\u001b[49m\u001b[38;5;241;43m.\u001b[39;49m\u001b[43mmode\u001b[49m\u001b[43m,\u001b[49m\n\u001b[1;32m    792\u001b[0m \u001b[43m            \u001b[49m\u001b[43mencoding\u001b[49m\u001b[38;5;241;43m=\u001b[39;49m\u001b[43mioargs\u001b[49m\u001b[38;5;241;43m.\u001b[39;49m\u001b[43mencoding\u001b[49m\u001b[43m,\u001b[49m\n\u001b[1;32m    793\u001b[0m \u001b[43m            \u001b[49m\u001b[43merrors\u001b[49m\u001b[38;5;241;43m=\u001b[39;49m\u001b[43merrors\u001b[49m\u001b[43m,\u001b[49m\n\u001b[1;32m    794\u001b[0m \u001b[43m            \u001b[49m\u001b[43mnewline\u001b[49m\u001b[38;5;241;43m=\u001b[39;49m\u001b[38;5;124;43m\"\u001b[39;49m\u001b[38;5;124;43m\"\u001b[39;49m\u001b[43m,\u001b[49m\n\u001b[1;32m    795\u001b[0m \u001b[43m        \u001b[49m\u001b[43m)\u001b[49m\n\u001b[1;32m    796\u001b[0m     \u001b[38;5;28;01melse\u001b[39;00m:\n\u001b[1;32m    797\u001b[0m         \u001b[38;5;66;03m# Binary mode\u001b[39;00m\n\u001b[1;32m    798\u001b[0m         handle \u001b[38;5;241m=\u001b[39m \u001b[38;5;28mopen\u001b[39m(handle, ioargs\u001b[38;5;241m.\u001b[39mmode)\n",
      "File \u001b[0;32m/opt/conda/lib/python3.9/codecs.py:309\u001b[0m, in \u001b[0;36mBufferedIncrementalDecoder.__init__\u001b[0;34m(self, errors)\u001b[0m\n\u001b[1;32m    303\u001b[0m \u001b[38;5;28;01mclass\u001b[39;00m \u001b[38;5;21;01mBufferedIncrementalDecoder\u001b[39;00m(IncrementalDecoder):\n\u001b[1;32m    304\u001b[0m     \u001b[38;5;124;03m\"\"\"\u001b[39;00m\n\u001b[1;32m    305\u001b[0m \u001b[38;5;124;03m    This subclass of IncrementalDecoder can be used as the baseclass for an\u001b[39;00m\n\u001b[1;32m    306\u001b[0m \u001b[38;5;124;03m    incremental decoder if the decoder must be able to handle incomplete\u001b[39;00m\n\u001b[1;32m    307\u001b[0m \u001b[38;5;124;03m    byte sequences.\u001b[39;00m\n\u001b[1;32m    308\u001b[0m \u001b[38;5;124;03m    \"\"\"\u001b[39;00m\n\u001b[0;32m--> 309\u001b[0m     \u001b[38;5;28;01mdef\u001b[39;00m \u001b[38;5;21m__init__\u001b[39m(\u001b[38;5;28mself\u001b[39m, errors\u001b[38;5;241m=\u001b[39m\u001b[38;5;124m'\u001b[39m\u001b[38;5;124mstrict\u001b[39m\u001b[38;5;124m'\u001b[39m):\n\u001b[1;32m    310\u001b[0m         IncrementalDecoder\u001b[38;5;241m.\u001b[39m\u001b[38;5;21m__init__\u001b[39m(\u001b[38;5;28mself\u001b[39m, errors)\n\u001b[1;32m    311\u001b[0m         \u001b[38;5;66;03m# undecoded input that is kept between calls to decode()\u001b[39;00m\n",
      "\u001b[0;31mKeyboardInterrupt\u001b[0m: "
     ]
    }
   ],
   "source": [
    "GENOS = {}\n",
    "\n",
    "for i, yml_path in tqdm.tqdm(enumerate(yml_paths), total=len(yml_paths)):\n",
    "\n",
    "    # Path to .csv file with phenotypes\n",
    "    path = yml_path.with_suffix(\"\") / \"0/visor/genotypes.csv\"\n",
    "    phenokind, popsize, reprmode, i = yml_path.stem.split(\"-\")\n",
    "\n",
    "    # # Read configuration\n",
    "    # with open(yml_path, \"r\") as file_:\n",
    "    #     config = yaml.safe_load(file_)\n",
    "    # popsize = config[\"MAX_POPULATION_SIZE\"]\n",
    "    # reprmode = config[\"REPRODUCTION_MODE\"]\n",
    "\n",
    "    # Read in the intrinsic survival rates\n",
    "    pheno = pd.read_csv(path)\n",
    "    # print(len(pheno))\n",
    "    if len(pheno) != 100:\n",
    "        print([len(pheno), phenokind, popsize, reprmode])\n",
    "        continue\n",
    "\n",
    "    # Only look at the last evolved rates\n",
    "    pheno = pheno.iloc[-1]\n",
    "\n",
    "    # Save RESULTS\n",
    "    GENOS[(phenokind, popsize, reprmode, i)] = pheno"
   ]
  },
  {
   "cell_type": "code",
   "execution_count": 182,
   "id": "daaaa702-9b38-42a1-863f-e5bfe52650ef",
   "metadata": {},
   "outputs": [],
   "source": [
    "import yaml\n",
    "\n",
    "\n",
    "def read_yml(yml_path):\n",
    "    with open(yml_path, \"rb\") as file_:\n",
    "        yml = yaml.safe_load(file_)\n",
    "    return yml\n",
    "\n",
    "\n",
    "def get_phenomap_specs(yml):\n",
    "    return pd.DataFrame(yml[\"PHENOMAP_SPECS\"])\n",
    "\n",
    "\n",
    "yml = read_yml(yml_paths[0])"
   ]
  },
  {
   "cell_type": "code",
   "execution_count": 183,
   "id": "1f9cbd57-12a6-4c4a-b965-aeb80274a9ae",
   "metadata": {},
   "outputs": [
    {
     "data": {
      "text/html": [
       "<div>\n",
       "<style scoped>\n",
       "    .dataframe tbody tr th:only-of-type {\n",
       "        vertical-align: middle;\n",
       "    }\n",
       "\n",
       "    .dataframe tbody tr th {\n",
       "        vertical-align: top;\n",
       "    }\n",
       "\n",
       "    .dataframe thead th {\n",
       "        text-align: right;\n",
       "    }\n",
       "</style>\n",
       "<table border=\"1\" class=\"dataframe\">\n",
       "  <thead>\n",
       "    <tr style=\"text-align: right;\">\n",
       "      <th></th>\n",
       "      <th>bittype</th>\n",
       "      <th>bitpos</th>\n",
       "      <th>2</th>\n",
       "      <th>3_x</th>\n",
       "      <th>4</th>\n",
       "      <th>3_y</th>\n",
       "    </tr>\n",
       "  </thead>\n",
       "  <tbody>\n",
       "    <tr>\n",
       "      <th>0</th>\n",
       "      <td>neut</td>\n",
       "      <td>1</td>\n",
       "      <td>surv</td>\n",
       "      <td>29</td>\n",
       "      <td>0.000390</td>\n",
       "      <td>48</td>\n",
       "    </tr>\n",
       "    <tr>\n",
       "      <th>1</th>\n",
       "      <td>neut</td>\n",
       "      <td>2</td>\n",
       "      <td>surv</td>\n",
       "      <td>13</td>\n",
       "      <td>0.001641</td>\n",
       "      <td>21</td>\n",
       "    </tr>\n",
       "    <tr>\n",
       "      <th>2</th>\n",
       "      <td>neut</td>\n",
       "      <td>3</td>\n",
       "      <td>surv</td>\n",
       "      <td>20</td>\n",
       "      <td>0.006438</td>\n",
       "      <td>50</td>\n",
       "    </tr>\n",
       "    <tr>\n",
       "      <th>3</th>\n",
       "      <td>neut</td>\n",
       "      <td>4</td>\n",
       "      <td>surv</td>\n",
       "      <td>37</td>\n",
       "      <td>0.000254</td>\n",
       "      <td>47</td>\n",
       "    </tr>\n",
       "    <tr>\n",
       "      <th>4</th>\n",
       "      <td>neut</td>\n",
       "      <td>5</td>\n",
       "      <td>surv</td>\n",
       "      <td>1</td>\n",
       "      <td>0.003464</td>\n",
       "      <td>3</td>\n",
       "    </tr>\n",
       "    <tr>\n",
       "      <th>...</th>\n",
       "      <td>...</td>\n",
       "      <td>...</td>\n",
       "      <td>...</td>\n",
       "      <td>...</td>\n",
       "      <td>...</td>\n",
       "      <td>...</td>\n",
       "    </tr>\n",
       "    <tr>\n",
       "      <th>2495</th>\n",
       "      <td>neut</td>\n",
       "      <td>2496</td>\n",
       "      <td>surv</td>\n",
       "      <td>6</td>\n",
       "      <td>0.000194</td>\n",
       "      <td>47</td>\n",
       "    </tr>\n",
       "    <tr>\n",
       "      <th>2496</th>\n",
       "      <td>neut</td>\n",
       "      <td>2497</td>\n",
       "      <td>surv</td>\n",
       "      <td>11</td>\n",
       "      <td>0.000311</td>\n",
       "      <td>22</td>\n",
       "    </tr>\n",
       "    <tr>\n",
       "      <th>2497</th>\n",
       "      <td>neut</td>\n",
       "      <td>2498</td>\n",
       "      <td>surv</td>\n",
       "      <td>7</td>\n",
       "      <td>0.004301</td>\n",
       "      <td>26</td>\n",
       "    </tr>\n",
       "    <tr>\n",
       "      <th>2498</th>\n",
       "      <td>neut</td>\n",
       "      <td>2499</td>\n",
       "      <td>surv</td>\n",
       "      <td>22</td>\n",
       "      <td>0.002332</td>\n",
       "      <td>47</td>\n",
       "    </tr>\n",
       "    <tr>\n",
       "      <th>2499</th>\n",
       "      <td>neut</td>\n",
       "      <td>2500</td>\n",
       "      <td>surv</td>\n",
       "      <td>22</td>\n",
       "      <td>0.005275</td>\n",
       "      <td>50</td>\n",
       "    </tr>\n",
       "  </tbody>\n",
       "</table>\n",
       "<p>2500 rows × 6 columns</p>\n",
       "</div>"
      ],
      "text/plain": [
       "     bittype  bitpos     2  3_x         4  3_y\n",
       "0       neut       1  surv   29  0.000390   48\n",
       "1       neut       2  surv   13  0.001641   21\n",
       "2       neut       3  surv   20  0.006438   50\n",
       "3       neut       4  surv   37  0.000254   47\n",
       "4       neut       5  surv    1  0.003464    3\n",
       "...      ...     ...   ...  ...       ...  ...\n",
       "2495    neut    2496  surv    6  0.000194   47\n",
       "2496    neut    2497  surv   11  0.000311   22\n",
       "2497    neut    2498  surv    7  0.004301   26\n",
       "2498    neut    2499  surv   22  0.002332   47\n",
       "2499    neut    2500  surv   22  0.005275   50\n",
       "\n",
       "[2500 rows x 6 columns]"
      ]
     },
     "execution_count": 183,
     "metadata": {},
     "output_type": "execute_result"
    }
   ],
   "source": [
    "(\n",
    "    pd.DataFrame(yml[\"PHENOMAP_SPECS\"])\n",
    "    .astype({3: int, 4: float})\n",
    "    .rename({0: \"bittype\", 1: \"bitpos\"}, axis=1)\n",
    "    .query(\"bittype == 'neut'\")\n",
    "    .pipe(lambda df: df.iloc[::2].merge(df.iloc[1::2, [1, 3]], on=\"bitpos\"))\n",
    ")"
   ]
  },
  {
   "cell_type": "code",
   "execution_count": 186,
   "id": "a000fb85-6e5f-42b5-b90d-8ac6ce0b2bc3",
   "metadata": {},
   "outputs": [],
   "source": [
    "geno = pd.read_csv(yml_paths[0].with_suffix(\"\") / \"0/visor/genotypes.csv\")"
   ]
  },
  {
   "cell_type": "code",
   "execution_count": 226,
   "id": "42886abb-2767-45e7-8b19-c8fa4c2b81a7",
   "metadata": {},
   "outputs": [
    {
     "data": {
      "text/html": [
       "<div>\n",
       "<style scoped>\n",
       "    .dataframe tbody tr th:only-of-type {\n",
       "        vertical-align: middle;\n",
       "    }\n",
       "\n",
       "    .dataframe tbody tr th {\n",
       "        vertical-align: top;\n",
       "    }\n",
       "\n",
       "    .dataframe thead th {\n",
       "        text-align: right;\n",
       "    }\n",
       "</style>\n",
       "<table border=\"1\" class=\"dataframe\">\n",
       "  <thead>\n",
       "    <tr style=\"text-align: right;\">\n",
       "      <th></th>\n",
       "      <th>3</th>\n",
       "      <th>4</th>\n",
       "      <th>5</th>\n",
       "      <th>6</th>\n",
       "      <th>7</th>\n",
       "      <th>8</th>\n",
       "      <th>9</th>\n",
       "      <th>10</th>\n",
       "      <th>11</th>\n",
       "      <th>12</th>\n",
       "      <th>...</th>\n",
       "      <th>5190</th>\n",
       "      <th>5191</th>\n",
       "      <th>5192</th>\n",
       "      <th>5193</th>\n",
       "      <th>5194</th>\n",
       "      <th>5195</th>\n",
       "      <th>5196</th>\n",
       "      <th>5197</th>\n",
       "      <th>5198</th>\n",
       "      <th>5199</th>\n",
       "    </tr>\n",
       "  </thead>\n",
       "  <tbody>\n",
       "    <tr>\n",
       "      <th>0</th>\n",
       "      <td>1.0</td>\n",
       "      <td>1.0</td>\n",
       "      <td>1.0</td>\n",
       "      <td>1.0</td>\n",
       "      <td>1.0</td>\n",
       "      <td>1.0</td>\n",
       "      <td>1.0</td>\n",
       "      <td>1.0</td>\n",
       "      <td>1.0</td>\n",
       "      <td>1.0</td>\n",
       "      <td>...</td>\n",
       "      <td>0.009719</td>\n",
       "      <td>0.000000</td>\n",
       "      <td>0.01805</td>\n",
       "      <td>0.000000</td>\n",
       "      <td>0.004859</td>\n",
       "      <td>0.00000</td>\n",
       "      <td>0.000694</td>\n",
       "      <td>0.001041</td>\n",
       "      <td>0.000000</td>\n",
       "      <td>0.000000</td>\n",
       "    </tr>\n",
       "    <tr>\n",
       "      <th>1</th>\n",
       "      <td>1.0</td>\n",
       "      <td>1.0</td>\n",
       "      <td>1.0</td>\n",
       "      <td>1.0</td>\n",
       "      <td>1.0</td>\n",
       "      <td>1.0</td>\n",
       "      <td>1.0</td>\n",
       "      <td>1.0</td>\n",
       "      <td>1.0</td>\n",
       "      <td>1.0</td>\n",
       "      <td>...</td>\n",
       "      <td>0.000000</td>\n",
       "      <td>0.000000</td>\n",
       "      <td>0.00000</td>\n",
       "      <td>0.041480</td>\n",
       "      <td>0.000000</td>\n",
       "      <td>0.00000</td>\n",
       "      <td>0.000000</td>\n",
       "      <td>0.000000</td>\n",
       "      <td>0.000000</td>\n",
       "      <td>0.000000</td>\n",
       "    </tr>\n",
       "    <tr>\n",
       "      <th>2</th>\n",
       "      <td>1.0</td>\n",
       "      <td>1.0</td>\n",
       "      <td>1.0</td>\n",
       "      <td>1.0</td>\n",
       "      <td>1.0</td>\n",
       "      <td>1.0</td>\n",
       "      <td>1.0</td>\n",
       "      <td>1.0</td>\n",
       "      <td>1.0</td>\n",
       "      <td>1.0</td>\n",
       "      <td>...</td>\n",
       "      <td>0.000000</td>\n",
       "      <td>0.000000</td>\n",
       "      <td>0.01028</td>\n",
       "      <td>0.000000</td>\n",
       "      <td>0.000000</td>\n",
       "      <td>0.00000</td>\n",
       "      <td>0.000000</td>\n",
       "      <td>0.000000</td>\n",
       "      <td>0.000000</td>\n",
       "      <td>0.000000</td>\n",
       "    </tr>\n",
       "    <tr>\n",
       "      <th>3</th>\n",
       "      <td>1.0</td>\n",
       "      <td>1.0</td>\n",
       "      <td>1.0</td>\n",
       "      <td>1.0</td>\n",
       "      <td>1.0</td>\n",
       "      <td>1.0</td>\n",
       "      <td>1.0</td>\n",
       "      <td>1.0</td>\n",
       "      <td>1.0</td>\n",
       "      <td>1.0</td>\n",
       "      <td>...</td>\n",
       "      <td>0.000000</td>\n",
       "      <td>0.000000</td>\n",
       "      <td>0.06595</td>\n",
       "      <td>0.000000</td>\n",
       "      <td>0.000000</td>\n",
       "      <td>0.00000</td>\n",
       "      <td>0.000000</td>\n",
       "      <td>0.000000</td>\n",
       "      <td>0.000000</td>\n",
       "      <td>0.000000</td>\n",
       "    </tr>\n",
       "    <tr>\n",
       "      <th>4</th>\n",
       "      <td>1.0</td>\n",
       "      <td>1.0</td>\n",
       "      <td>1.0</td>\n",
       "      <td>1.0</td>\n",
       "      <td>1.0</td>\n",
       "      <td>1.0</td>\n",
       "      <td>1.0</td>\n",
       "      <td>1.0</td>\n",
       "      <td>1.0</td>\n",
       "      <td>1.0</td>\n",
       "      <td>...</td>\n",
       "      <td>0.000000</td>\n",
       "      <td>0.000000</td>\n",
       "      <td>0.00000</td>\n",
       "      <td>0.000000</td>\n",
       "      <td>0.000000</td>\n",
       "      <td>0.00000</td>\n",
       "      <td>0.000000</td>\n",
       "      <td>0.000000</td>\n",
       "      <td>0.000000</td>\n",
       "      <td>0.000000</td>\n",
       "    </tr>\n",
       "    <tr>\n",
       "      <th>...</th>\n",
       "      <td>...</td>\n",
       "      <td>...</td>\n",
       "      <td>...</td>\n",
       "      <td>...</td>\n",
       "      <td>...</td>\n",
       "      <td>...</td>\n",
       "      <td>...</td>\n",
       "      <td>...</td>\n",
       "      <td>...</td>\n",
       "      <td>...</td>\n",
       "      <td>...</td>\n",
       "      <td>...</td>\n",
       "      <td>...</td>\n",
       "      <td>...</td>\n",
       "      <td>...</td>\n",
       "      <td>...</td>\n",
       "      <td>...</td>\n",
       "      <td>...</td>\n",
       "      <td>...</td>\n",
       "      <td>...</td>\n",
       "      <td>...</td>\n",
       "    </tr>\n",
       "    <tr>\n",
       "      <th>95</th>\n",
       "      <td>1.0</td>\n",
       "      <td>1.0</td>\n",
       "      <td>1.0</td>\n",
       "      <td>1.0</td>\n",
       "      <td>1.0</td>\n",
       "      <td>1.0</td>\n",
       "      <td>1.0</td>\n",
       "      <td>1.0</td>\n",
       "      <td>1.0</td>\n",
       "      <td>1.0</td>\n",
       "      <td>...</td>\n",
       "      <td>1.000000</td>\n",
       "      <td>0.000000</td>\n",
       "      <td>0.00000</td>\n",
       "      <td>0.007545</td>\n",
       "      <td>1.000000</td>\n",
       "      <td>0.00000</td>\n",
       "      <td>0.222200</td>\n",
       "      <td>0.000000</td>\n",
       "      <td>0.003772</td>\n",
       "      <td>0.000000</td>\n",
       "    </tr>\n",
       "    <tr>\n",
       "      <th>96</th>\n",
       "      <td>1.0</td>\n",
       "      <td>1.0</td>\n",
       "      <td>1.0</td>\n",
       "      <td>1.0</td>\n",
       "      <td>1.0</td>\n",
       "      <td>1.0</td>\n",
       "      <td>1.0</td>\n",
       "      <td>1.0</td>\n",
       "      <td>1.0</td>\n",
       "      <td>1.0</td>\n",
       "      <td>...</td>\n",
       "      <td>1.000000</td>\n",
       "      <td>0.000000</td>\n",
       "      <td>0.00000</td>\n",
       "      <td>0.000000</td>\n",
       "      <td>1.000000</td>\n",
       "      <td>0.00000</td>\n",
       "      <td>0.165300</td>\n",
       "      <td>0.000000</td>\n",
       "      <td>0.000000</td>\n",
       "      <td>0.000000</td>\n",
       "    </tr>\n",
       "    <tr>\n",
       "      <th>97</th>\n",
       "      <td>1.0</td>\n",
       "      <td>1.0</td>\n",
       "      <td>1.0</td>\n",
       "      <td>1.0</td>\n",
       "      <td>1.0</td>\n",
       "      <td>1.0</td>\n",
       "      <td>1.0</td>\n",
       "      <td>1.0</td>\n",
       "      <td>1.0</td>\n",
       "      <td>1.0</td>\n",
       "      <td>...</td>\n",
       "      <td>1.000000</td>\n",
       "      <td>0.000000</td>\n",
       "      <td>0.00000</td>\n",
       "      <td>0.013440</td>\n",
       "      <td>1.000000</td>\n",
       "      <td>0.01277</td>\n",
       "      <td>0.022850</td>\n",
       "      <td>0.000000</td>\n",
       "      <td>0.005376</td>\n",
       "      <td>0.000000</td>\n",
       "    </tr>\n",
       "    <tr>\n",
       "      <th>98</th>\n",
       "      <td>1.0</td>\n",
       "      <td>1.0</td>\n",
       "      <td>1.0</td>\n",
       "      <td>1.0</td>\n",
       "      <td>1.0</td>\n",
       "      <td>1.0</td>\n",
       "      <td>1.0</td>\n",
       "      <td>1.0</td>\n",
       "      <td>1.0</td>\n",
       "      <td>1.0</td>\n",
       "      <td>...</td>\n",
       "      <td>1.000000</td>\n",
       "      <td>0.000000</td>\n",
       "      <td>0.00000</td>\n",
       "      <td>0.000000</td>\n",
       "      <td>1.000000</td>\n",
       "      <td>0.00000</td>\n",
       "      <td>0.000000</td>\n",
       "      <td>0.119000</td>\n",
       "      <td>0.000000</td>\n",
       "      <td>0.008204</td>\n",
       "    </tr>\n",
       "    <tr>\n",
       "      <th>99</th>\n",
       "      <td>1.0</td>\n",
       "      <td>1.0</td>\n",
       "      <td>1.0</td>\n",
       "      <td>1.0</td>\n",
       "      <td>1.0</td>\n",
       "      <td>1.0</td>\n",
       "      <td>1.0</td>\n",
       "      <td>1.0</td>\n",
       "      <td>1.0</td>\n",
       "      <td>1.0</td>\n",
       "      <td>...</td>\n",
       "      <td>1.000000</td>\n",
       "      <td>0.005557</td>\n",
       "      <td>0.00000</td>\n",
       "      <td>0.000000</td>\n",
       "      <td>1.000000</td>\n",
       "      <td>0.00000</td>\n",
       "      <td>0.000000</td>\n",
       "      <td>0.363700</td>\n",
       "      <td>0.169500</td>\n",
       "      <td>0.011810</td>\n",
       "    </tr>\n",
       "  </tbody>\n",
       "</table>\n",
       "<p>100 rows × 5197 columns</p>\n",
       "</div>"
      ],
      "text/plain": [
       "      3    4    5    6    7    8    9   10   11   12  ...      5190      5191  \\\n",
       "0   1.0  1.0  1.0  1.0  1.0  1.0  1.0  1.0  1.0  1.0  ...  0.009719  0.000000   \n",
       "1   1.0  1.0  1.0  1.0  1.0  1.0  1.0  1.0  1.0  1.0  ...  0.000000  0.000000   \n",
       "2   1.0  1.0  1.0  1.0  1.0  1.0  1.0  1.0  1.0  1.0  ...  0.000000  0.000000   \n",
       "3   1.0  1.0  1.0  1.0  1.0  1.0  1.0  1.0  1.0  1.0  ...  0.000000  0.000000   \n",
       "4   1.0  1.0  1.0  1.0  1.0  1.0  1.0  1.0  1.0  1.0  ...  0.000000  0.000000   \n",
       "..  ...  ...  ...  ...  ...  ...  ...  ...  ...  ...  ...       ...       ...   \n",
       "95  1.0  1.0  1.0  1.0  1.0  1.0  1.0  1.0  1.0  1.0  ...  1.000000  0.000000   \n",
       "96  1.0  1.0  1.0  1.0  1.0  1.0  1.0  1.0  1.0  1.0  ...  1.000000  0.000000   \n",
       "97  1.0  1.0  1.0  1.0  1.0  1.0  1.0  1.0  1.0  1.0  ...  1.000000  0.000000   \n",
       "98  1.0  1.0  1.0  1.0  1.0  1.0  1.0  1.0  1.0  1.0  ...  1.000000  0.000000   \n",
       "99  1.0  1.0  1.0  1.0  1.0  1.0  1.0  1.0  1.0  1.0  ...  1.000000  0.005557   \n",
       "\n",
       "       5192      5193      5194     5195      5196      5197      5198  \\\n",
       "0   0.01805  0.000000  0.004859  0.00000  0.000694  0.001041  0.000000   \n",
       "1   0.00000  0.041480  0.000000  0.00000  0.000000  0.000000  0.000000   \n",
       "2   0.01028  0.000000  0.000000  0.00000  0.000000  0.000000  0.000000   \n",
       "3   0.06595  0.000000  0.000000  0.00000  0.000000  0.000000  0.000000   \n",
       "4   0.00000  0.000000  0.000000  0.00000  0.000000  0.000000  0.000000   \n",
       "..      ...       ...       ...      ...       ...       ...       ...   \n",
       "95  0.00000  0.007545  1.000000  0.00000  0.222200  0.000000  0.003772   \n",
       "96  0.00000  0.000000  1.000000  0.00000  0.165300  0.000000  0.000000   \n",
       "97  0.00000  0.013440  1.000000  0.01277  0.022850  0.000000  0.005376   \n",
       "98  0.00000  0.000000  1.000000  0.00000  0.000000  0.119000  0.000000   \n",
       "99  0.00000  0.000000  1.000000  0.00000  0.000000  0.363700  0.169500   \n",
       "\n",
       "        5199  \n",
       "0   0.000000  \n",
       "1   0.000000  \n",
       "2   0.000000  \n",
       "3   0.000000  \n",
       "4   0.000000  \n",
       "..       ...  \n",
       "95  0.000000  \n",
       "96  0.000000  \n",
       "97  0.000000  \n",
       "98  0.008204  \n",
       "99  0.011810  \n",
       "\n",
       "[100 rows x 5197 columns]"
      ]
     },
     "execution_count": 226,
     "metadata": {},
     "output_type": "execute_result"
    }
   ],
   "source": [
    "geno.drop([str(_) for _ in range(3)], axis=1).drop([str(_) for _ in range(3)], axis=1)"
   ]
  },
  {
   "cell_type": "code",
   "execution_count": 221,
   "id": "8497bf78-1ad4-4cab-b228-accdb55b0174",
   "metadata": {},
   "outputs": [
    {
     "ename": "KeyError",
     "evalue": "'[0, 1, 2, 3, 4, 5, 6, 7, 8, 9, 10, 11, 12, 13, 14, 15, 16, 17, 18, 19, 20, 21, 22, 23, 24, 25, 26, 27, 28, 29, 30, 31, 32, 33, 34, 35, 36, 37, 38, 39, 40, 41, 42, 43, 44, 45, 46, 47, 48, 49, 50, 51, 52, 53, 54, 55, 56, 57, 58, 59, 60, 61, 62, 63, 64, 65, 66, 67, 68, 69, 70, 71, 72, 73, 74, 75, 76, 77, 78, 79, 80, 81, 82, 83, 84, 85, 86, 87, 88, 89, 90, 91, 92, 93, 94, 95, 96, 97, 98, 99] not found in axis'",
     "output_type": "error",
     "traceback": [
      "\u001b[0;31m---------------------------------------------------------------------------\u001b[0m",
      "\u001b[0;31mKeyError\u001b[0m                                  Traceback (most recent call last)",
      "Input \u001b[0;32mIn [221]\u001b[0m, in \u001b[0;36m<module>\u001b[0;34m\u001b[0m\n\u001b[0;32m----> 1\u001b[0m \u001b[43mgeno\u001b[49m\u001b[38;5;241;43m.\u001b[39;49m\u001b[43mdrop\u001b[49m\u001b[43m(\u001b[49m\u001b[38;5;28;43mrange\u001b[39;49m\u001b[43m(\u001b[49m\u001b[38;5;241;43m100\u001b[39;49m\u001b[43m)\u001b[49m\u001b[43m,\u001b[49m\u001b[43m \u001b[49m\u001b[43maxis\u001b[49m\u001b[38;5;241;43m=\u001b[39;49m\u001b[38;5;241;43m1\u001b[39;49m\u001b[43m)\u001b[49m\u001b[38;5;241m.\u001b[39mdrop(\u001b[38;5;28mrange\u001b[39m(\u001b[38;5;241m2500\u001b[39m, \u001b[38;5;241m2600\u001b[39m), axis\u001b[38;5;241m=\u001b[39m\u001b[38;5;241m1\u001b[39m)\n",
      "File \u001b[0;32m/opt/conda/lib/python3.9/site-packages/pandas/util/_decorators.py:311\u001b[0m, in \u001b[0;36mdeprecate_nonkeyword_arguments.<locals>.decorate.<locals>.wrapper\u001b[0;34m(*args, **kwargs)\u001b[0m\n\u001b[1;32m    305\u001b[0m \u001b[38;5;28;01mif\u001b[39;00m \u001b[38;5;28mlen\u001b[39m(args) \u001b[38;5;241m>\u001b[39m num_allow_args:\n\u001b[1;32m    306\u001b[0m     warnings\u001b[38;5;241m.\u001b[39mwarn(\n\u001b[1;32m    307\u001b[0m         msg\u001b[38;5;241m.\u001b[39mformat(arguments\u001b[38;5;241m=\u001b[39marguments),\n\u001b[1;32m    308\u001b[0m         \u001b[38;5;167;01mFutureWarning\u001b[39;00m,\n\u001b[1;32m    309\u001b[0m         stacklevel\u001b[38;5;241m=\u001b[39mstacklevel,\n\u001b[1;32m    310\u001b[0m     )\n\u001b[0;32m--> 311\u001b[0m \u001b[38;5;28;01mreturn\u001b[39;00m \u001b[43mfunc\u001b[49m\u001b[43m(\u001b[49m\u001b[38;5;241;43m*\u001b[39;49m\u001b[43margs\u001b[49m\u001b[43m,\u001b[49m\u001b[43m \u001b[49m\u001b[38;5;241;43m*\u001b[39;49m\u001b[38;5;241;43m*\u001b[39;49m\u001b[43mkwargs\u001b[49m\u001b[43m)\u001b[49m\n",
      "File \u001b[0;32m/opt/conda/lib/python3.9/site-packages/pandas/core/frame.py:4948\u001b[0m, in \u001b[0;36mDataFrame.drop\u001b[0;34m(self, labels, axis, index, columns, level, inplace, errors)\u001b[0m\n\u001b[1;32m   4800\u001b[0m \u001b[38;5;129m@deprecate_nonkeyword_arguments\u001b[39m(version\u001b[38;5;241m=\u001b[39m\u001b[38;5;28;01mNone\u001b[39;00m, allowed_args\u001b[38;5;241m=\u001b[39m[\u001b[38;5;124m\"\u001b[39m\u001b[38;5;124mself\u001b[39m\u001b[38;5;124m\"\u001b[39m, \u001b[38;5;124m\"\u001b[39m\u001b[38;5;124mlabels\u001b[39m\u001b[38;5;124m\"\u001b[39m])\n\u001b[1;32m   4801\u001b[0m \u001b[38;5;28;01mdef\u001b[39;00m \u001b[38;5;21mdrop\u001b[39m(\n\u001b[1;32m   4802\u001b[0m     \u001b[38;5;28mself\u001b[39m,\n\u001b[0;32m   (...)\u001b[0m\n\u001b[1;32m   4809\u001b[0m     errors: \u001b[38;5;28mstr\u001b[39m \u001b[38;5;241m=\u001b[39m \u001b[38;5;124m\"\u001b[39m\u001b[38;5;124mraise\u001b[39m\u001b[38;5;124m\"\u001b[39m,\n\u001b[1;32m   4810\u001b[0m ):\n\u001b[1;32m   4811\u001b[0m     \u001b[38;5;124;03m\"\"\"\u001b[39;00m\n\u001b[1;32m   4812\u001b[0m \u001b[38;5;124;03m    Drop specified labels from rows or columns.\u001b[39;00m\n\u001b[1;32m   4813\u001b[0m \n\u001b[0;32m   (...)\u001b[0m\n\u001b[1;32m   4946\u001b[0m \u001b[38;5;124;03m            weight  1.0     0.8\u001b[39;00m\n\u001b[1;32m   4947\u001b[0m \u001b[38;5;124;03m    \"\"\"\u001b[39;00m\n\u001b[0;32m-> 4948\u001b[0m     \u001b[38;5;28;01mreturn\u001b[39;00m \u001b[38;5;28;43msuper\u001b[39;49m\u001b[43m(\u001b[49m\u001b[43m)\u001b[49m\u001b[38;5;241;43m.\u001b[39;49m\u001b[43mdrop\u001b[49m\u001b[43m(\u001b[49m\n\u001b[1;32m   4949\u001b[0m \u001b[43m        \u001b[49m\u001b[43mlabels\u001b[49m\u001b[38;5;241;43m=\u001b[39;49m\u001b[43mlabels\u001b[49m\u001b[43m,\u001b[49m\n\u001b[1;32m   4950\u001b[0m \u001b[43m        \u001b[49m\u001b[43maxis\u001b[49m\u001b[38;5;241;43m=\u001b[39;49m\u001b[43maxis\u001b[49m\u001b[43m,\u001b[49m\n\u001b[1;32m   4951\u001b[0m \u001b[43m        \u001b[49m\u001b[43mindex\u001b[49m\u001b[38;5;241;43m=\u001b[39;49m\u001b[43mindex\u001b[49m\u001b[43m,\u001b[49m\n\u001b[1;32m   4952\u001b[0m \u001b[43m        \u001b[49m\u001b[43mcolumns\u001b[49m\u001b[38;5;241;43m=\u001b[39;49m\u001b[43mcolumns\u001b[49m\u001b[43m,\u001b[49m\n\u001b[1;32m   4953\u001b[0m \u001b[43m        \u001b[49m\u001b[43mlevel\u001b[49m\u001b[38;5;241;43m=\u001b[39;49m\u001b[43mlevel\u001b[49m\u001b[43m,\u001b[49m\n\u001b[1;32m   4954\u001b[0m \u001b[43m        \u001b[49m\u001b[43minplace\u001b[49m\u001b[38;5;241;43m=\u001b[39;49m\u001b[43minplace\u001b[49m\u001b[43m,\u001b[49m\n\u001b[1;32m   4955\u001b[0m \u001b[43m        \u001b[49m\u001b[43merrors\u001b[49m\u001b[38;5;241;43m=\u001b[39;49m\u001b[43merrors\u001b[49m\u001b[43m,\u001b[49m\n\u001b[1;32m   4956\u001b[0m \u001b[43m    \u001b[49m\u001b[43m)\u001b[49m\n",
      "File \u001b[0;32m/opt/conda/lib/python3.9/site-packages/pandas/core/generic.py:4279\u001b[0m, in \u001b[0;36mNDFrame.drop\u001b[0;34m(self, labels, axis, index, columns, level, inplace, errors)\u001b[0m\n\u001b[1;32m   4277\u001b[0m \u001b[38;5;28;01mfor\u001b[39;00m axis, labels \u001b[38;5;129;01min\u001b[39;00m axes\u001b[38;5;241m.\u001b[39mitems():\n\u001b[1;32m   4278\u001b[0m     \u001b[38;5;28;01mif\u001b[39;00m labels \u001b[38;5;129;01mis\u001b[39;00m \u001b[38;5;129;01mnot\u001b[39;00m \u001b[38;5;28;01mNone\u001b[39;00m:\n\u001b[0;32m-> 4279\u001b[0m         obj \u001b[38;5;241m=\u001b[39m \u001b[43mobj\u001b[49m\u001b[38;5;241;43m.\u001b[39;49m\u001b[43m_drop_axis\u001b[49m\u001b[43m(\u001b[49m\u001b[43mlabels\u001b[49m\u001b[43m,\u001b[49m\u001b[43m \u001b[49m\u001b[43maxis\u001b[49m\u001b[43m,\u001b[49m\u001b[43m \u001b[49m\u001b[43mlevel\u001b[49m\u001b[38;5;241;43m=\u001b[39;49m\u001b[43mlevel\u001b[49m\u001b[43m,\u001b[49m\u001b[43m \u001b[49m\u001b[43merrors\u001b[49m\u001b[38;5;241;43m=\u001b[39;49m\u001b[43merrors\u001b[49m\u001b[43m)\u001b[49m\n\u001b[1;32m   4281\u001b[0m \u001b[38;5;28;01mif\u001b[39;00m inplace:\n\u001b[1;32m   4282\u001b[0m     \u001b[38;5;28mself\u001b[39m\u001b[38;5;241m.\u001b[39m_update_inplace(obj)\n",
      "File \u001b[0;32m/opt/conda/lib/python3.9/site-packages/pandas/core/generic.py:4323\u001b[0m, in \u001b[0;36mNDFrame._drop_axis\u001b[0;34m(self, labels, axis, level, errors, consolidate, only_slice)\u001b[0m\n\u001b[1;32m   4321\u001b[0m         new_axis \u001b[38;5;241m=\u001b[39m axis\u001b[38;5;241m.\u001b[39mdrop(labels, level\u001b[38;5;241m=\u001b[39mlevel, errors\u001b[38;5;241m=\u001b[39merrors)\n\u001b[1;32m   4322\u001b[0m     \u001b[38;5;28;01melse\u001b[39;00m:\n\u001b[0;32m-> 4323\u001b[0m         new_axis \u001b[38;5;241m=\u001b[39m \u001b[43maxis\u001b[49m\u001b[38;5;241;43m.\u001b[39;49m\u001b[43mdrop\u001b[49m\u001b[43m(\u001b[49m\u001b[43mlabels\u001b[49m\u001b[43m,\u001b[49m\u001b[43m \u001b[49m\u001b[43merrors\u001b[49m\u001b[38;5;241;43m=\u001b[39;49m\u001b[43merrors\u001b[49m\u001b[43m)\u001b[49m\n\u001b[1;32m   4324\u001b[0m     indexer \u001b[38;5;241m=\u001b[39m axis\u001b[38;5;241m.\u001b[39mget_indexer(new_axis)\n\u001b[1;32m   4326\u001b[0m \u001b[38;5;66;03m# Case for non-unique axis\u001b[39;00m\n\u001b[1;32m   4327\u001b[0m \u001b[38;5;28;01melse\u001b[39;00m:\n",
      "File \u001b[0;32m/opt/conda/lib/python3.9/site-packages/pandas/core/indexes/base.py:6644\u001b[0m, in \u001b[0;36mIndex.drop\u001b[0;34m(self, labels, errors)\u001b[0m\n\u001b[1;32m   6642\u001b[0m \u001b[38;5;28;01mif\u001b[39;00m mask\u001b[38;5;241m.\u001b[39many():\n\u001b[1;32m   6643\u001b[0m     \u001b[38;5;28;01mif\u001b[39;00m errors \u001b[38;5;241m!=\u001b[39m \u001b[38;5;124m\"\u001b[39m\u001b[38;5;124mignore\u001b[39m\u001b[38;5;124m\"\u001b[39m:\n\u001b[0;32m-> 6644\u001b[0m         \u001b[38;5;28;01mraise\u001b[39;00m \u001b[38;5;167;01mKeyError\u001b[39;00m(\u001b[38;5;124mf\u001b[39m\u001b[38;5;124m\"\u001b[39m\u001b[38;5;132;01m{\u001b[39;00m\u001b[38;5;28mlist\u001b[39m(labels[mask])\u001b[38;5;132;01m}\u001b[39;00m\u001b[38;5;124m not found in axis\u001b[39m\u001b[38;5;124m\"\u001b[39m)\n\u001b[1;32m   6645\u001b[0m     indexer \u001b[38;5;241m=\u001b[39m indexer[\u001b[38;5;241m~\u001b[39mmask]\n\u001b[1;32m   6646\u001b[0m \u001b[38;5;28;01mreturn\u001b[39;00m \u001b[38;5;28mself\u001b[39m\u001b[38;5;241m.\u001b[39mdelete(indexer)\n",
      "\u001b[0;31mKeyError\u001b[0m: '[0, 1, 2, 3, 4, 5, 6, 7, 8, 9, 10, 11, 12, 13, 14, 15, 16, 17, 18, 19, 20, 21, 22, 23, 24, 25, 26, 27, 28, 29, 30, 31, 32, 33, 34, 35, 36, 37, 38, 39, 40, 41, 42, 43, 44, 45, 46, 47, 48, 49, 50, 51, 52, 53, 54, 55, 56, 57, 58, 59, 60, 61, 62, 63, 64, 65, 66, 67, 68, 69, 70, 71, 72, 73, 74, 75, 76, 77, 78, 79, 80, 81, 82, 83, 84, 85, 86, 87, 88, 89, 90, 91, 92, 93, 94, 95, 96, 97, 98, 99] not found in axis'"
     ]
    }
   ],
   "source": [
    "geno.drop(range(100), axis=1).drop(range(2500, 2600), axis=1)"
   ]
  },
  {
   "cell_type": "code",
   "execution_count": 181,
   "id": "4dd3fbd9-48de-46fe-b8b2-8b4bd6bc5c55",
   "metadata": {},
   "outputs": [
    {
     "data": {
      "text/html": [
       "<div>\n",
       "<style scoped>\n",
       "    .dataframe tbody tr th:only-of-type {\n",
       "        vertical-align: middle;\n",
       "    }\n",
       "\n",
       "    .dataframe tbody tr th {\n",
       "        vertical-align: top;\n",
       "    }\n",
       "\n",
       "    .dataframe thead th {\n",
       "        text-align: right;\n",
       "    }\n",
       "</style>\n",
       "<table border=\"1\" class=\"dataframe\">\n",
       "  <thead>\n",
       "    <tr style=\"text-align: right;\">\n",
       "      <th></th>\n",
       "      <th>0</th>\n",
       "      <th>1</th>\n",
       "      <th>2</th>\n",
       "      <th>3</th>\n",
       "      <th>4</th>\n",
       "    </tr>\n",
       "  </thead>\n",
       "  <tbody>\n",
       "    <tr>\n",
       "      <th>0</th>\n",
       "      <td>neut</td>\n",
       "      <td>1</td>\n",
       "      <td>surv</td>\n",
       "      <td>29</td>\n",
       "      <td>0.00038974616994342647</td>\n",
       "    </tr>\n",
       "    <tr>\n",
       "      <th>1</th>\n",
       "      <td>neut</td>\n",
       "      <td>1</td>\n",
       "      <td>surv</td>\n",
       "      <td>48</td>\n",
       "      <td>-0.00038974616994342647</td>\n",
       "    </tr>\n",
       "    <tr>\n",
       "      <th>2</th>\n",
       "      <td>neut</td>\n",
       "      <td>2</td>\n",
       "      <td>surv</td>\n",
       "      <td>13</td>\n",
       "      <td>0.00164147776206937</td>\n",
       "    </tr>\n",
       "    <tr>\n",
       "      <th>3</th>\n",
       "      <td>neut</td>\n",
       "      <td>2</td>\n",
       "      <td>surv</td>\n",
       "      <td>21</td>\n",
       "      <td>-0.00164147776206937</td>\n",
       "    </tr>\n",
       "    <tr>\n",
       "      <th>4</th>\n",
       "      <td>neut</td>\n",
       "      <td>3</td>\n",
       "      <td>surv</td>\n",
       "      <td>20</td>\n",
       "      <td>0.006437705073574178</td>\n",
       "    </tr>\n",
       "    <tr>\n",
       "      <th>...</th>\n",
       "      <td>...</td>\n",
       "      <td>...</td>\n",
       "      <td>...</td>\n",
       "      <td>...</td>\n",
       "      <td>...</td>\n",
       "    </tr>\n",
       "    <tr>\n",
       "      <th>4995</th>\n",
       "      <td>neut</td>\n",
       "      <td>2498</td>\n",
       "      <td>surv</td>\n",
       "      <td>26</td>\n",
       "      <td>-0.0043006289698364715</td>\n",
       "    </tr>\n",
       "    <tr>\n",
       "      <th>4996</th>\n",
       "      <td>neut</td>\n",
       "      <td>2499</td>\n",
       "      <td>surv</td>\n",
       "      <td>22</td>\n",
       "      <td>0.0023316574243917</td>\n",
       "    </tr>\n",
       "    <tr>\n",
       "      <th>4997</th>\n",
       "      <td>neut</td>\n",
       "      <td>2499</td>\n",
       "      <td>surv</td>\n",
       "      <td>47</td>\n",
       "      <td>-0.0023316574243917</td>\n",
       "    </tr>\n",
       "    <tr>\n",
       "      <th>4998</th>\n",
       "      <td>neut</td>\n",
       "      <td>2500</td>\n",
       "      <td>surv</td>\n",
       "      <td>22</td>\n",
       "      <td>0.005274534814686645</td>\n",
       "    </tr>\n",
       "    <tr>\n",
       "      <th>4999</th>\n",
       "      <td>neut</td>\n",
       "      <td>2500</td>\n",
       "      <td>surv</td>\n",
       "      <td>50</td>\n",
       "      <td>-0.005274534814686645</td>\n",
       "    </tr>\n",
       "  </tbody>\n",
       "</table>\n",
       "<p>5000 rows × 5 columns</p>\n",
       "</div>"
      ],
      "text/plain": [
       "         0     1     2   3                        4\n",
       "0     neut     1  surv  29   0.00038974616994342647\n",
       "1     neut     1  surv  48  -0.00038974616994342647\n",
       "2     neut     2  surv  13      0.00164147776206937\n",
       "3     neut     2  surv  21     -0.00164147776206937\n",
       "4     neut     3  surv  20     0.006437705073574178\n",
       "...    ...   ...   ...  ..                      ...\n",
       "4995  neut  2498  surv  26   -0.0043006289698364715\n",
       "4996  neut  2499  surv  22       0.0023316574243917\n",
       "4997  neut  2499  surv  47      -0.0023316574243917\n",
       "4998  neut  2500  surv  22     0.005274534814686645\n",
       "4999  neut  2500  surv  50    -0.005274534814686645\n",
       "\n",
       "[5000 rows x 5 columns]"
      ]
     },
     "execution_count": 181,
     "metadata": {},
     "output_type": "execute_result"
    }
   ],
   "source": [
    "pd.DataFrame(yml[\"PHENOMAP_SPECS\"]).iloc[:-50]"
   ]
  },
  {
   "cell_type": "code",
   "execution_count": null,
   "id": "d2c5f554-94a6-4046-b357-aa4645aa33c6",
   "metadata": {},
   "outputs": [],
   "source": []
  },
  {
   "cell_type": "code",
   "execution_count": 123,
   "id": "1e2e2be9-d41b-4c19-a0b0-2ae5365e9a6f",
   "metadata": {},
   "outputs": [],
   "source": [
    "genos = pd.DataFrame(GENOS).T.sort_index().droplevel(3, axis=0)"
   ]
  },
  {
   "cell_type": "code",
   "execution_count": null,
   "id": "ac433522-6607-4b25-a77a-df0c86e9fe03",
   "metadata": {},
   "outputs": [],
   "source": []
  },
  {
   "cell_type": "code",
   "execution_count": 126,
   "id": "dab745ec-100b-4a87-b47d-694e0df47663",
   "metadata": {},
   "outputs": [
    {
     "data": {
      "text/plain": [
       "<matplotlib.image.AxesImage at 0x7fade0591790>"
      ]
     },
     "execution_count": 126,
     "metadata": {},
     "output_type": "execute_result"
    },
    {
     "data": {
      "image/png": "[encoded data removed]",
      "text/plain": [
       "<Figure size 720x720 with 1 Axes>"
      ]
     },
     "metadata": {
      "needs_background": "light"
     },
     "output_type": "display_data"
    }
   ],
   "source": [
    "# plt.figure(figsize=(10, 10))\n",
    "plt.imshow(genos)"
   ]
  },
  {
   "cell_type": "code",
   "execution_count": null,
   "id": "5bd85acf-650f-4788-b17f-c6710b0e049e",
   "metadata": {},
   "outputs": [],
   "source": []
  },
  {
   "cell_type": "code",
   "execution_count": null,
   "id": "523d2865-0ff0-4998-92cb-648c1ace85bd",
   "metadata": {},
   "outputs": [],
   "source": []
  },
  {
   "cell_type": "code",
   "execution_count": null,
   "id": "77ff2b37-e38b-4db5-b597-18158aac9b99",
   "metadata": {},
   "outputs": [],
   "source": []
  },
  {
   "cell_type": "code",
   "execution_count": null,
   "id": "472d96e1-65d9-417e-8635-78cf0255cd5c",
   "metadata": {},
   "outputs": [],
   "source": []
  },
  {
   "cell_type": "markdown",
   "id": "f6b9f81e-23e9-4579-9b8c-a0cda62d566f",
   "metadata": {},
   "source": [
    "# Other"
   ]
  },
  {
   "cell_type": "code",
   "execution_count": null,
   "id": "afebb99b-0c9a-47ce-bbc5-5c5c43033167",
   "metadata": {},
   "outputs": [],
   "source": []
  },
  {
   "cell_type": "markdown",
   "id": "4169af2d-ef0e-46e5-bd28-62036fc42451",
   "metadata": {},
   "source": [
    "## Plot survivorship"
   ]
  },
  {
   "cell_type": "code",
   "execution_count": 198,
   "id": "d8afdd54-2227-4592-8945-5c2ac358ffe2",
   "metadata": {},
   "outputs": [],
   "source": [
    "# ax_set_styles_surv = dict(\n",
    "#     ylim=[0, 1.01],\n",
    "#     # yticks=[0, 0.05, 0.1],\n",
    "#     # yticklabels=[0, 0.05, 0.1],\n",
    "# )\n",
    "\n",
    "\n",
    "# def plot_surv(df, repr_mode, ax, lw):\n",
    "\n",
    "#     # plot lines\n",
    "#     default_survivorship = 0.95 ** np.arange(51)\n",
    "#     ax.plot(default_survivorship, color=\"gray\", ls=\"dotted\", lw=lw)\n",
    "#     ax.vlines(10, 0, 1, color=\"magenta\", ls=\"dotted\", alpha=0.5, lw=lw)\n",
    "\n",
    "#     # calculate data to plot\n",
    "#     a = df.cumprod(1).loc[aging_theory, :, repr_mode].copy()\n",
    "#     a.insert(0, \"newcol\", [1] * len(a), allow_duplicates=True)\n",
    "#     a = a.T.reset_index(drop=True).T\n",
    "\n",
    "#     # plot background curves\n",
    "#     a.T.plot(\n",
    "#         legend=False,\n",
    "#         color=plot_colors,\n",
    "#         ax=ax,\n",
    "#         alpha=0.1,\n",
    "#         lw=lw,\n",
    "#     )\n",
    "\n",
    "#     # plot mean curve\n",
    "#     a.reset_index().groupby(\"index\").mean(0).T.plot(\n",
    "#         ax=ax,\n",
    "#         color=colors,\n",
    "#         lw=lw,\n",
    "#     )\n",
    "\n",
    "#     # ax.legend(\n",
    "#     #     handles=patches,\n",
    "#     #     frameon=False,\n",
    "#     #     # prop={\"size\": 4},\n",
    "#     #     loc=[0.7, 0.015],\n",
    "#     # )\n",
    "\n",
    "#     ax.set(**ax_set_styles_general, **ax_set_styles_surv)\n",
    "#     ax.spines[[\"right\", \"top\"]].set_visible(False)\n",
    "#     ax.get_legend().remove()\n",
    "\n",
    "\n",
    "# for aging_theory in aging_theories:\n",
    "#     fig, ax = plt.subplots(figsize=figsize)\n",
    "\n",
    "#     # main plot\n",
    "#     plot_surv(df, \"sexual\", ax, lw=0.5)\n",
    "\n",
    "#     # inset\n",
    "#     ax = fig.add_axes([0.68, 0.66, 0.2, 0.2])\n",
    "#     plot_surv(df, \"asexual_diploid\", ax, lw=0.3)\n",
    "\n",
    "#     fig.savefig(\n",
    "#         plots_dir / f\"2-surv-{aging_theory}.{format_}\",\n",
    "#         bbox_inches=\"tight\",\n",
    "#         **savefig_settings,\n",
    "#     )"
   ]
  },
  {
   "cell_type": "code",
   "execution_count": 22,
   "id": "fa37d9c3-0378-45c8-9ec6-17db39978f52",
   "metadata": {},
   "outputs": [],
   "source": [
    "# RESULTSx = {}\n",
    "\n",
    "# for i, yml_path in tqdm.tqdm(enumerate(yml_paths), total=len(yml_paths)):\n",
    "\n",
    "#     # Path to .csv file with phenotypes\n",
    "#     path = yml_path.with_suffix(\"\") / \"0/visor/phenotypes.csv\"\n",
    "#     phenokind, popsize, reprmode, i = yml_path.stem.split(\"-\")\n",
    "\n",
    "#     # # Read configuration\n",
    "#     # with open(yml_path, \"r\") as file_:\n",
    "#     #     config = yaml.safe_load(file_)\n",
    "#     # popsize = config[\"MAX_POPULATION_SIZE\"]\n",
    "#     # reprmode = config[\"REPRODUCTION_MODE\"]\n",
    "\n",
    "#     # Read in the intrinsic survival rates\n",
    "#     pheno = pd.read_csv(path, usecols=range(50))\n",
    "\n",
    "#     if len(pheno) < 50:\n",
    "#         print([phenokind, popsize, reprmode])\n",
    "#         continue\n",
    "\n",
    "#     # Only look at the last evolved rates\n",
    "#     pheno = pheno.iloc[50]\n",
    "\n",
    "#     # Save RESULTS\n",
    "#     RESULTSx[(phenokind, popsize, reprmode, i)] = pheno"
   ]
  },
  {
   "cell_type": "code",
   "execution_count": 53,
   "id": "cb774be5-050a-4b93-a59f-46375c5a810b",
   "metadata": {},
   "outputs": [],
   "source": [
    "aging_theories = [\"pos\"]"
   ]
  },
  {
   "cell_type": "code",
   "execution_count": null,
   "id": "a7de9c48-40a3-4606-9545-d01e5195794e",
   "metadata": {},
   "outputs": [],
   "source": []
  },
  {
   "cell_type": "code",
   "execution_count": 116,
   "id": "542c885d-de93-4c66-b927-ab5009604596",
   "metadata": {},
   "outputs": [
    {
     "data": {
      "text/plain": [
       "<AxesSubplot:>"
      ]
     },
     "execution_count": 116,
     "metadata": {},
     "output_type": "execute_result"
    },
    {
     "data": {
      "image/png": "[encoded data removed]",
      "text/plain": [
       "<Figure size 288x288 with 1 Axes>"
      ]
     },
     "metadata": {
      "needs_background": "light"
     },
     "output_type": "display_data"
    }
   ],
   "source": [
    "# cont = Container(\"../experiments/1114/pos-30000-asexual_diploid-101\")\n",
    "cont = Container(\"../experiments/1114/pos-30000-sexual-158\")\n",
    "# cont = Container(\"../experiments/1114/pos-3000-sexual-19\")\n",
    "# cont = Container(\"../experiments/1114/pos-300-sexual-78\")\n",
    "cont.get_df(\"phenotypes\").iloc[:, :50].cumprod(1).T.plot(\n",
    "    cmap=\"jet\",\n",
    "    figsize=(4, 4),\n",
    "    legend=False,\n",
    "    lw=0.5,\n",
    ")"
   ]
  },
  {
   "cell_type": "code",
   "execution_count": 82,
   "id": "f612dc00-2a90-41f7-b8e5-a438f587fa17",
   "metadata": {},
   "outputs": [
    {
     "data": {
      "text/plain": [
       "<AxesSubplot:>"
      ]
     },
     "execution_count": 82,
     "metadata": {},
     "output_type": "execute_result"
    },
    {
     "data": {
      "image/png": "[encoded data removed]",
      "text/plain": [
       "<Figure size 432x288 with 1 Axes>"
      ]
     },
     "metadata": {
      "needs_background": "light"
     },
     "output_type": "display_data"
    }
   ],
   "source": [
    "df = pd.DataFrame(RESULTS).T.sort_index().droplevel([0, 3], axis=0)\n",
    "df.xs(\"sexual\", axis=0, level=1).reset_index().groupby(\"index\").mean().T.plot()"
   ]
  },
  {
   "cell_type": "code",
   "execution_count": 84,
   "id": "44d879ad-3d75-4af6-b2c1-65bc2901e1cb",
   "metadata": {},
   "outputs": [
    {
     "data": {
      "text/plain": [
       "<AxesSubplot:>"
      ]
     },
     "execution_count": 84,
     "metadata": {},
     "output_type": "execute_result"
    },
    {
     "data": {
      "image/png": "[encoded data removed]",
      "text/plain": [
       "<Figure size 432x288 with 1 Axes>"
      ]
     },
     "metadata": {
      "needs_background": "light"
     },
     "output_type": "display_data"
    }
   ],
   "source": [
    "df = pd.DataFrame(RESULTS).T.sort_index().droplevel([0, 3], axis=0)\n",
    "df.xs(\"asexual_diploid\", axis=0, level=1).reset_index().groupby(\"index\").mean().T.plot()"
   ]
  },
  {
   "cell_type": "code",
   "execution_count": 54,
   "id": "8bb757ac-c8aa-4c67-8c72-1be368a8d4d3",
   "metadata": {},
   "outputs": [
    {
     "data": {
      "image/png": "[encoded data removed]",
      "text/plain": [
       "<Figure size 144x144 with 2 Axes>"
      ]
     },
     "metadata": {
      "needs_background": "light"
     },
     "output_type": "display_data"
    },
    {
     "data": {
      "image/png": "[encoded data removed]",
      "text/plain": [
       "<Figure size 144x144 with 2 Axes>"
      ]
     },
     "metadata": {
      "needs_background": "light"
     },
     "output_type": "display_data"
    }
   ],
   "source": [
    "# Transform data into a table\n",
    "\n",
    "df = pd.DataFrame(RESULTS).T.sort_index().droplevel(3, axis=0)\n",
    "n_specs_studied = int(len(df) / len(df.index.unique()))\n",
    "\n",
    "figsize = (2, 2)\n",
    "dpi = 300\n",
    "\n",
    "colors = [\"darkorange\", \"blueviolet\", \"dodgerblue\"]\n",
    "plot_colors = [color for color in colors for _ in range(n_specs_studied)]\n",
    "\n",
    "patches = [\n",
    "    # mpatches.Circle(xy=(0, 0), color=colors[0], label=\"N = 300\"),\n",
    "    # mpatches.Circle(xy=(0, 0), color=colors[1], label=\"N = 3000\"),\n",
    "    mpatches.Circle(xy=(0, 0), color=colors[0], label=\"300\"),\n",
    "    mpatches.Circle(xy=(0, 0), color=colors[1], label=\"3000\"),\n",
    "    mpatches.Circle(xy=(0, 0), color=colors[2], label=\"30000\"),\n",
    "]\n",
    "\n",
    "# Plot mortality\n",
    "\n",
    "\n",
    "for aging_theory in aging_theories:\n",
    "    fig, ax = plt.subplots(figsize=figsize)\n",
    "    # plt.hlines(0.05, 0, 51, color=\"gray\", ls=\"dotted\", lw=0.5)\n",
    "    plt.vlines(10, 0, 1, color=\"magenta\", ls=\"dotted\", alpha=0.5, lw=0.5)\n",
    "    (\n",
    "        (1 - df)\n",
    "        .loc[aging_theory, :, \"sexual\"]\n",
    "        .T.plot(\n",
    "            legend=False,\n",
    "            color=plot_colors,\n",
    "            alpha=0.1,\n",
    "            ax=ax,\n",
    "            lw=0.5,\n",
    "        )\n",
    "    )\n",
    "\n",
    "    (1 - df.loc[aging_theory, :, \"sexual\"]).reset_index().groupby(\"index\").mean(\n",
    "        0\n",
    "    ).T.plot(\n",
    "        ax=ax,\n",
    "        color=colors,\n",
    "        lw=0.5,\n",
    "    )\n",
    "    ax.set_ylim(0, 0.1)\n",
    "    ax.set_xlim(0, 49)\n",
    "    ax.set_xticks([0, 10, 49])\n",
    "    # ax.set_xticklabels([0, \"Onset of\\nreproduction\", 50], fontsize=4)\n",
    "    ax.set_xticklabels([0, \"\", 50], fontsize=4)\n",
    "    ax.set_yticks([0, 0.05, 0.1])\n",
    "    ax.set_yticklabels([0, 0.05, 0.1])\n",
    "    ax.spines.right.set_visible(False)\n",
    "    ax.spines.top.set_visible(False)\n",
    "    # ax.set_xlabel(\"Age\")\n",
    "    # ax.set_ylabel(\"Mortality rate\")\n",
    "\n",
    "    # Legend\n",
    "    ax.legend(handles=patches, frameon=False, prop={\"size\": 4}, loc=[0.7, -0.02])\n",
    "\n",
    "    # Inset\n",
    "    ax2 = fig.add_axes([0.68, 0.25, 0.2, 0.2])\n",
    "    # ax2.hlines(0.05, 0, 51, color=\"gray\", ls=\"dotted\", lw=0.2)\n",
    "    ax2.vlines(10, 0, 1, color=\"magenta\", ls=\"dotted\", alpha=0.5, lw=0.2)\n",
    "\n",
    "    (\n",
    "        (1 - df)\n",
    "        .loc[aging_theory, :, \"asexual_diploid\"]\n",
    "        .T.plot(\n",
    "            legend=False,\n",
    "            color=plot_colors,\n",
    "            alpha=0.1,\n",
    "            ax=ax2,\n",
    "            lw=0.2,\n",
    "        )\n",
    "    )\n",
    "\n",
    "    (1 - df.loc[aging_theory, :, \"asexual_diploid\"]).reset_index().groupby(\n",
    "        \"index\"\n",
    "    ).mean(0).T.plot(\n",
    "        ax=ax2,\n",
    "        color=colors,\n",
    "        lw=0.2,\n",
    "    )\n",
    "    ax2.set_ylim(0, 0.1)\n",
    "    ax2.set_xlim(0, 49)\n",
    "    ax2.set_xticks([])\n",
    "    ax2.set_yticks([])\n",
    "    ax2.spines.right.set_visible(False)\n",
    "    ax2.spines.top.set_visible(False)\n",
    "    ax2.get_legend().remove()\n",
    "\n",
    "    # ax2.text(-1, 0.11, \"Asexual reproduction\", size=3, linespacing=0.9)\n",
    "\n",
    "    # fig.savefig(plots_dir / f\"x2-mort-{aging_theory}.svg\", bbox_inches=\"tight\")  # TODO\n",
    "\n",
    "\n",
    "# Plot Survivorship\n",
    "\n",
    "default_survivorship = 0.95 ** np.arange(51)\n",
    "\n",
    "for aging_theory in aging_theories:\n",
    "    fig, ax = plt.subplots(figsize=figsize)\n",
    "    ax.vlines(10, 0, 1, color=\"magenta\", ls=\"dotted\", alpha=0.5, lw=0.5)\n",
    "    ax.plot(default_survivorship, color=\"gray\", ls=\"dotted\", lw=0.5)\n",
    "\n",
    "    a = df.cumprod(1).loc[aging_theory, :, \"sexual\"].copy()\n",
    "    a.insert(0, \"newcol\", [1] * len(a), allow_duplicates=True)\n",
    "    a = a.T.reset_index(drop=True).T\n",
    "\n",
    "    (\n",
    "        a.T.plot(\n",
    "            legend=False,\n",
    "            color=plot_colors,\n",
    "            ax=ax,\n",
    "            alpha=0.1,\n",
    "            lw=0.5,\n",
    "        )\n",
    "    )\n",
    "\n",
    "    a.reset_index().groupby(\"index\").mean(0).T.plot(\n",
    "        ax=ax,\n",
    "        color=colors,\n",
    "        lw=0.5,\n",
    "    )\n",
    "    ax.set_ylim(0, 1)\n",
    "    ax.set_xlim(0, 50)\n",
    "    ax.set_xticks([0, 10, 50])\n",
    "    # ax.set_xticklabels([0, \"Onset of\\nreproduction\", 50], fontsize=4)\n",
    "    ax.set_xticklabels([0, \"\", 50], fontsize=4)\n",
    "    ax.spines.right.set_visible(False)\n",
    "    ax.spines.top.set_visible(False)\n",
    "    # ax.set_xlabel(\"Age\")\n",
    "    # ax.set_ylabel(\"Survivorship\")\n",
    "\n",
    "    # Legend\n",
    "    ax.legend(handles=patches, frameon=False, prop={\"size\": 4}, loc=[0.7, 0.5])\n",
    "\n",
    "    # Inset\n",
    "    ax2 = fig.add_axes([0.68, 0.66, 0.2, 0.2])\n",
    "    ax2.vlines(10, 0, 1, color=\"magenta\", ls=\"dotted\", alpha=0.5, lw=0.2)\n",
    "    ax2.plot(default_survivorship, color=\"gray\", ls=\"dotted\", lw=0.2)\n",
    "\n",
    "    a = df.cumprod(1).loc[aging_theory, :, \"asexual_diploid\"].copy()\n",
    "    a.insert(0, \"newcol\", [1] * len(a), allow_duplicates=True)\n",
    "    a = a.T.reset_index(drop=True).T\n",
    "\n",
    "    (\n",
    "        a.T.plot(\n",
    "            legend=False,\n",
    "            color=plot_colors,\n",
    "            ax=ax2,\n",
    "            alpha=0.1,\n",
    "            lw=0.2,\n",
    "        )\n",
    "    )\n",
    "\n",
    "    a.reset_index().groupby(\"index\").mean(0).T.plot(\n",
    "        ax=ax2,\n",
    "        color=colors,\n",
    "        lw=0.2,\n",
    "    )\n",
    "    ax2.set_ylim(0, 1)\n",
    "    ax2.set_xlim(0, 50)\n",
    "    ax2.set_xticks([])\n",
    "    ax2.set_yticks([])\n",
    "    ax2.spines.right.set_visible(False)\n",
    "    ax2.spines.top.set_visible(False)\n",
    "    ax2.get_legend().remove()\n",
    "\n",
    "    # ax2.text(-1, 1.1, \"Asexual reproduction\", size=3, linespacing=0.9)\n",
    "\n",
    "    # fig.savefig(plots_dir / f\"x2-surv-{aging_theory}.svg\", bbox_inches=\"tight\")"
   ]
  },
  {
   "cell_type": "code",
   "execution_count": null,
   "id": "51e3e3ba-02c9-4a38-a2cd-e28072d5b828",
   "metadata": {},
   "outputs": [],
   "source": []
  },
  {
   "cell_type": "markdown",
   "id": "fbe0f0d7-09f7-4a0d-b06b-fa4995309ca3",
   "metadata": {},
   "source": [
    "# Animate _.yml"
   ]
  },
  {
   "cell_type": "code",
   "execution_count": null,
   "id": "42fdcb01-9432-4130-8725-e048a3336e56",
   "metadata": {},
   "outputs": [],
   "source": []
  },
  {
   "cell_type": "code",
   "execution_count": 100,
   "id": "7d9c39b3-4ea2-456f-be86-c02af1afac60",
   "metadata": {},
   "outputs": [],
   "source": [
    "dfgeno = pd.read_csv(\"../temp/_/0/visor/genotypes.csv\")"
   ]
  },
  {
   "cell_type": "code",
   "execution_count": 101,
   "id": "95674f46-3c7f-49ee-a362-942ea94d847a",
   "metadata": {},
   "outputs": [],
   "source": [
    "dfanim = pd.read_csv(\"../temp/_/0/visor/phenotypes.csv\")"
   ]
  },
  {
   "cell_type": "code",
   "execution_count": 86,
   "id": "ae5395ba-e12f-48f6-9f2d-bd08780bee30",
   "metadata": {},
   "outputs": [
    {
     "data": {
      "text/plain": [
       "25.0"
      ]
     },
     "execution_count": 86,
     "metadata": {},
     "output_type": "execute_result"
    }
   ],
   "source": [
    "800 / 32"
   ]
  },
  {
   "cell_type": "code",
   "execution_count": 85,
   "id": "1aceea39-2fad-44d4-813e-b1cbc037a09a",
   "metadata": {},
   "outputs": [
    {
     "ename": "NameError",
     "evalue": "name 'dfgeno' is not defined",
     "output_type": "error",
     "traceback": [
      "\u001b[0;31m---------------------------------------------------------------------------\u001b[0m",
      "\u001b[0;31mNameError\u001b[0m                                 Traceback (most recent call last)",
      "Input \u001b[0;32mIn [85]\u001b[0m, in \u001b[0;36m<module>\u001b[0;34m\u001b[0m\n\u001b[1;32m      1\u001b[0m xs \u001b[38;5;241m=\u001b[39m np\u001b[38;5;241m.\u001b[39mrepeat(\u001b[38;5;28mrange\u001b[39m(\u001b[38;5;241m32\u001b[39m), \u001b[38;5;241m25\u001b[39m)\n\u001b[1;32m      2\u001b[0m ys \u001b[38;5;241m=\u001b[39m \u001b[38;5;28mlist\u001b[39m(\u001b[38;5;28mrange\u001b[39m(\u001b[38;5;241m25\u001b[39m)) \u001b[38;5;241m*\u001b[39m \u001b[38;5;241m32\u001b[39m\n\u001b[0;32m----> 4\u001b[0m plt\u001b[38;5;241m.\u001b[39mscatter(xs, ys, c\u001b[38;5;241m=\u001b[39m\u001b[43mdfgeno\u001b[49m\u001b[38;5;241m.\u001b[39miloc[\u001b[38;5;241m0\u001b[39m], marker\u001b[38;5;241m=\u001b[39m\u001b[38;5;124m\"\u001b[39m\u001b[38;5;124ms\u001b[39m\u001b[38;5;124m\"\u001b[39m)\n",
      "\u001b[0;31mNameError\u001b[0m: name 'dfgeno' is not defined"
     ]
    }
   ],
   "source": [
    "xs = np.repeat(range(32), 25)\n",
    "ys = list(range(25)) * 32\n",
    "\n",
    "plt.scatter(xs, ys, c=dfgeno.iloc[0], marker=\"s\")"
   ]
  },
  {
   "cell_type": "code",
   "execution_count": 139,
   "id": "bfc58be4-6d98-46b7-becd-ba0fcecf75bc",
   "metadata": {},
   "outputs": [
    {
     "name": "stdout",
     "output_type": "stream",
     "text": [
      "finished\n"
     ]
    },
    {
     "data": {
      "image/png": "[encoded data removed]",
      "text/plain": [
       "<Figure size 216x216 with 1 Axes>"
      ]
     },
     "metadata": {},
     "output_type": "display_data"
    }
   ],
   "source": [
    "from matplotlib import animation\n",
    "\n",
    "writer = animation.writers[\"ffmpeg\"](fps=60)\n",
    "figsize = (3, 3)\n",
    "fig, ax = plt.subplots(figsize=figsize)\n",
    "\n",
    "\n",
    "def animate(t):\n",
    "\n",
    "    plt.cla()\n",
    "    ax.set(xticks=[], yticks=[])\n",
    "    data = dfgeno.iloc[t, : 28**2]\n",
    "\n",
    "    xs = np.repeat(range(28), 28)\n",
    "    ys = list(range(28)) * 28\n",
    "    ax.scatter(xs, ys, c=data, marker=\"s\", cmap=\"jet_r\")\n",
    "    ax.spines[[\"top\", \"right\", \"bottom\", \"left\"]].set_visible(False)\n",
    "    fig.tight_layout()\n",
    "\n",
    "\n",
    "import functools\n",
    "\n",
    "anim = animation.FuncAnimation(fig, animate)\n",
    "anim.save(\n",
    "    f\"../temp/animate_geno.gif\",\n",
    "    dpi=300,\n",
    "    writer=animation.PillowWriter(bitrate=300),\n",
    ")\n",
    "print(\"finished\")"
   ]
  },
  {
   "cell_type": "code",
   "execution_count": 142,
   "id": "c8ca4b85-07e6-448c-8779-2db3f4dba5b8",
   "metadata": {},
   "outputs": [
    {
     "name": "stdout",
     "output_type": "stream",
     "text": [
      "finished\n"
     ]
    },
    {
     "data": {
      "image/png": "[encoded data removed]",
      "text/plain": [
       "<Figure size 216x216 with 1 Axes>"
      ]
     },
     "metadata": {},
     "output_type": "display_data"
    }
   ],
   "source": [
    "from matplotlib import animation\n",
    "\n",
    "writer = animation.writers[\"ffmpeg\"](fps=60)\n",
    "figsize = (3, 3)\n",
    "fig, ax = plt.subplots(figsize=figsize)\n",
    "\n",
    "\n",
    "def animate(t):\n",
    "\n",
    "    plt.cla()\n",
    "    ax.set(xticks=[], yticks=[], ylim=(0, 1.05))\n",
    "    data = dfanim.iloc[t, :50]\n",
    "\n",
    "    ax.plot(data, color=\"dodgerblue\")\n",
    "    ax.spines[[\"top\", \"right\"]].set_visible(False)\n",
    "    fig.tight_layout()\n",
    "\n",
    "\n",
    "import functools\n",
    "\n",
    "anim = animation.FuncAnimation(fig, animate)\n",
    "anim.save(\n",
    "    f\"../temp/animate_pheno.gif\",\n",
    "    dpi=300,\n",
    "    writer=animation.PillowWriter(bitrate=300),\n",
    ")\n",
    "print(\"finished\")"
   ]
  },
  {
   "cell_type": "code",
   "execution_count": 141,
   "id": "b7b71c7f-1670-487a-8468-9e20b6d0805d",
   "metadata": {},
   "outputs": [
    {
     "name": "stdout",
     "output_type": "stream",
     "text": [
      "finished\n"
     ]
    },
    {
     "data": {
      "image/png": "[encoded data removed]",
      "text/plain": [
       "<Figure size 216x216 with 1 Axes>"
      ]
     },
     "metadata": {},
     "output_type": "display_data"
    }
   ],
   "source": [
    "from matplotlib import animation\n",
    "\n",
    "writer = animation.writers[\"ffmpeg\"](fps=60)\n",
    "figsize = (3, 3)\n",
    "fig, ax = plt.subplots(figsize=figsize)\n",
    "\n",
    "\n",
    "def animate(t):\n",
    "\n",
    "    plt.cla()\n",
    "    ax.set(xticks=[], yticks=[], ylim=(0, 0.55))\n",
    "    data = dfanim.iloc[t, 50:]\n",
    "\n",
    "    ax.plot(data, color=\"crimson\")\n",
    "    ax.spines[[\"top\", \"right\"]].set_visible(False)\n",
    "    fig.tight_layout()\n",
    "\n",
    "\n",
    "import functools\n",
    "\n",
    "anim = animation.FuncAnimation(fig, animate)\n",
    "anim.save(\n",
    "    f\"../temp/animate_repr.gif\",\n",
    "    dpi=300,\n",
    "    writer=animation.PillowWriter(bitrate=300),\n",
    ")\n",
    "print(\"finished\")"
   ]
  },
  {
   "cell_type": "code",
   "execution_count": null,
   "id": "70ce756c-554b-465e-aa4f-d1d16fbb2152",
   "metadata": {},
   "outputs": [],
   "source": []
  },
  {
   "cell_type": "code",
   "execution_count": null,
   "id": "7d2bd15d-a09d-42da-8ddb-7a8dd56b30ea",
   "metadata": {},
   "outputs": [],
   "source": [
    "from matplotlib import animation\n",
    "\n",
    "writer = animation.writers[\"ffmpeg\"](fps=30)\n",
    "\n",
    "df = 1 - pd.concat(ANIMRES.values())\n",
    "\n",
    "figsize = (3, 3)\n",
    "# dpi = 300\n",
    "\n",
    "colors = [\"crimson\", \"forestgreen\", \"dodgerblue\"]\n",
    "\n",
    "patches = [\n",
    "    mpatches.Circle(xy=(0, 0), color=colors[0], label=\"N=300\"),\n",
    "    mpatches.Circle(xy=(0, 0), color=colors[1], label=\"N=3000\"),\n",
    "    mpatches.Circle(xy=(0, 0), color=colors[2], label=\"N=30000\"),\n",
    "]\n",
    "\n",
    "fig, ax = plt.subplots(figsize=figsize)\n",
    "\n",
    "ax_styles = dict(\n",
    "    xlim=(0, 49),\n",
    "    xticks=[0, 10, 49],\n",
    "    xticklabels=([1, \"\", 50]),\n",
    "    xlabel=\"age\",\n",
    ")\n",
    "\n",
    "ax_styles_mort = dict(\n",
    "    yticks=[0, 0.05, 0.1],\n",
    "    yticklabels=[0, 0.05, 0.1],\n",
    "    ylim=(0, 0.1),\n",
    ")\n",
    "\n",
    "ax_styles_surv = dict(\n",
    "    yticks=[0, 1],\n",
    "    yticklabels=[0, 1],\n",
    "    ylim=(0, 1.02),\n",
    ")\n",
    "\n",
    "\n",
    "ax.set(**ax_styles)\n",
    "ax.spines[[\"top\", \"right\"]].set_visible(False)\n",
    "\n",
    "\n",
    "def animate(t, aging_theory, data_type):\n",
    "\n",
    "    plt.cla()\n",
    "    ax.set(**ax_styles)\n",
    "    if data_type == \"mortality\":\n",
    "        ax.set(**ax_styles_mort)\n",
    "        ax.hlines(0.05, 0, 51, color=\"gray\", ls=\"dotted\", lw=0.5)\n",
    "    else:\n",
    "        ax.set(**ax_styles_surv)\n",
    "        ax.plot(0.95 ** np.arange(1, 51), color=\"gray\", ls=\"dotted\", lw=0.5)\n",
    "    ax.set(\n",
    "        ylabel=data_type,\n",
    "        title=aging_theory,\n",
    "        xlabel=\"age\",\n",
    "    )\n",
    "    data = (\n",
    "        df.xs(\n",
    "            (t, aging_theory, \"sexual\"),\n",
    "            level=(\"t\", \"phenokind\", \"reprmode\"),\n",
    "        )\n",
    "        # .groupby([\"popsize\"])\n",
    "        # .mean(0)\n",
    "    )\n",
    "    if data_type == \"survivorship\":\n",
    "        data = (1 - data).cumprod(1)\n",
    "\n",
    "    datagr = data.groupby(\"popsize\").mean(0)\n",
    "\n",
    "    # ax.plot(data.loc[\"300\"].T, color=colors[0], alpha=0.1)\n",
    "    # ax.plot(data.loc[\"3000\"].T, color=colors[1], alpha=0.1)\n",
    "    # ax.plot(data.loc[\"30000\"].T, color=colors[2], alpha=0.1)\n",
    "\n",
    "    ax.plot(datagr.loc[\"300\"], color=colors[0])\n",
    "    ax.plot(datagr.loc[\"3000\"], color=colors[1])\n",
    "    ax.plot(datagr.loc[\"30000\"], color=colors[2])\n",
    "    fig.tight_layout()\n",
    "    ax.legend(handles=patches, frameon=False, prop={\"size\": 5.5}, loc=[0.75, 0.2])\n",
    "\n",
    "\n",
    "import functools\n",
    "\n",
    "for data_type in (\"mortality\", \"survivorship\"):\n",
    "    print(data_type)\n",
    "    for aging_theory in (\"MA\", \"AP\"):\n",
    "        print(aging_theory)\n",
    "        func = functools.partial(\n",
    "            animate, aging_theory=aging_theory, data_type=data_type\n",
    "        )\n",
    "        anim = animation.FuncAnimation(fig, func, interval=100)\n",
    "        anim.save(\n",
    "            f\"temp/{aging_theory}-{data_type}.gif\",\n",
    "            dpi=300,\n",
    "            writer=animation.PillowWriter(bitrate=300, fps=10),\n",
    "        )\n",
    "print(\"finished\")"
   ]
  },
  {
   "cell_type": "markdown",
   "id": "95166224-6e32-4e98-8f59-cffdc41ad5eb",
   "metadata": {
    "tags": []
   },
   "source": [
    "# Animations"
   ]
  },
  {
   "cell_type": "code",
   "execution_count": null,
   "id": "8ca433cf-2213-46f8-9178-e4e833a8dd7d",
   "metadata": {},
   "outputs": [],
   "source": []
  },
  {
   "cell_type": "code",
   "execution_count": 69,
   "id": "65dbe8b8-091a-4823-8eb9-c91411a19283",
   "metadata": {},
   "outputs": [
    {
     "name": "stderr",
     "output_type": "stream",
     "text": [
      " 70%|███████   | 380/540 [00:19<00:07, 22.49it/s]"
     ]
    },
    {
     "name": "stdout",
     "output_type": "stream",
     "text": [
      "['pos', '30000', 'sexual']\n",
      "['pos', '30000', 'sexual']\n"
     ]
    },
    {
     "name": "stderr",
     "output_type": "stream",
     "text": [
      " 71%|███████▏  | 386/540 [00:19<00:07, 21.87it/s]"
     ]
    },
    {
     "name": "stdout",
     "output_type": "stream",
     "text": [
      "['pos', '30000', 'sexual']\n"
     ]
    },
    {
     "name": "stderr",
     "output_type": "stream",
     "text": [
      " 73%|███████▎  | 395/540 [00:20<00:06, 21.80it/s]"
     ]
    },
    {
     "name": "stdout",
     "output_type": "stream",
     "text": [
      "['pos', '30000', 'sexual']\n"
     ]
    },
    {
     "name": "stderr",
     "output_type": "stream",
     "text": [
      " 74%|███████▍  | 401/540 [00:20<00:06, 21.92it/s]"
     ]
    },
    {
     "name": "stdout",
     "output_type": "stream",
     "text": [
      "['pos', '30000', 'sexual']\n"
     ]
    },
    {
     "name": "stderr",
     "output_type": "stream",
     "text": [
      " 76%|███████▋  | 413/540 [00:21<00:05, 21.27it/s]"
     ]
    },
    {
     "name": "stdout",
     "output_type": "stream",
     "text": [
      "['pos', '30000', 'sexual']\n"
     ]
    },
    {
     "name": "stderr",
     "output_type": "stream",
     "text": [
      " 78%|███████▊  | 419/540 [00:21<00:05, 23.05it/s]"
     ]
    },
    {
     "name": "stdout",
     "output_type": "stream",
     "text": [
      "['pos', '30000', 'sexual']\n"
     ]
    },
    {
     "name": "stderr",
     "output_type": "stream",
     "text": [
      " 79%|███████▉  | 428/540 [00:21<00:04, 23.68it/s]"
     ]
    },
    {
     "name": "stdout",
     "output_type": "stream",
     "text": [
      "['pos', '30000', 'sexual']\n",
      "['pos', '30000', 'sexual']\n"
     ]
    },
    {
     "name": "stderr",
     "output_type": "stream",
     "text": [
      " 82%|████████▏ | 443/540 [00:22<00:04, 21.77it/s]"
     ]
    },
    {
     "name": "stdout",
     "output_type": "stream",
     "text": [
      "['pos', '30000', 'sexual']\n"
     ]
    },
    {
     "name": "stderr",
     "output_type": "stream",
     "text": [
      " 83%|████████▎ | 449/540 [00:22<00:04, 21.60it/s]"
     ]
    },
    {
     "name": "stdout",
     "output_type": "stream",
     "text": [
      "['pos', '30000', 'sexual']\n",
      "['pos', '30000', 'sexual']\n",
      "['pos', '30000', 'sexual']\n"
     ]
    },
    {
     "name": "stderr",
     "output_type": "stream",
     "text": [
      " 85%|████████▍ | 458/540 [00:23<00:03, 22.75it/s]"
     ]
    },
    {
     "name": "stdout",
     "output_type": "stream",
     "text": [
      "['pos', '30000', 'sexual']\n"
     ]
    },
    {
     "name": "stderr",
     "output_type": "stream",
     "text": [
      " 87%|████████▋ | 470/540 [00:23<00:03, 19.77it/s]"
     ]
    },
    {
     "name": "stdout",
     "output_type": "stream",
     "text": [
      "['pos', '30000', 'sexual']\n"
     ]
    },
    {
     "name": "stderr",
     "output_type": "stream",
     "text": [
      " 88%|████████▊ | 476/540 [00:24<00:02, 21.34it/s]"
     ]
    },
    {
     "name": "stdout",
     "output_type": "stream",
     "text": [
      "['pos', '30000', 'sexual']\n"
     ]
    },
    {
     "name": "stderr",
     "output_type": "stream",
     "text": [
      " 91%|█████████▏| 494/540 [00:24<00:02, 22.49it/s]"
     ]
    },
    {
     "name": "stdout",
     "output_type": "stream",
     "text": [
      "['pos', '30000', 'sexual']\n"
     ]
    },
    {
     "name": "stderr",
     "output_type": "stream",
     "text": [
      " 95%|█████████▌| 515/540 [00:25<00:01, 22.95it/s]"
     ]
    },
    {
     "name": "stdout",
     "output_type": "stream",
     "text": [
      "['pos', '30000', 'sexual']\n",
      "['pos', '30000', 'sexual']\n"
     ]
    },
    {
     "name": "stderr",
     "output_type": "stream",
     "text": [
      " 98%|█████████▊| 527/540 [00:26<00:00, 22.99it/s]"
     ]
    },
    {
     "name": "stdout",
     "output_type": "stream",
     "text": [
      "['pos', '30000', 'sexual']\n"
     ]
    },
    {
     "name": "stderr",
     "output_type": "stream",
     "text": [
      " 99%|█████████▉| 536/540 [00:26<00:00, 24.07it/s]"
     ]
    },
    {
     "name": "stdout",
     "output_type": "stream",
     "text": [
      "['pos', '30000', 'sexual']\n"
     ]
    },
    {
     "name": "stderr",
     "output_type": "stream",
     "text": [
      "100%|██████████| 540/540 [00:26<00:00, 20.01it/s]"
     ]
    },
    {
     "name": "stdout",
     "output_type": "stream",
     "text": [
      "['pos', '30000', 'sexual']\n"
     ]
    },
    {
     "name": "stderr",
     "output_type": "stream",
     "text": [
      "\n"
     ]
    }
   ],
   "source": [
    "ANIMRES = {}\n",
    "\n",
    "for i, yml_path in tqdm.tqdm(enumerate(yml_paths), total=len(yml_paths)):\n",
    "    path = yml_path.with_suffix(\"\") / \"0/visor/phenotypes.csv\"\n",
    "    phenokind, popsize, reprmode, i = yml_path.stem.split(\"-\")\n",
    "    pheno = pd.read_csv(path, usecols=range(50))\n",
    "    if len(pheno) < 100:\n",
    "        print([phenokind, popsize, reprmode])\n",
    "\n",
    "    multiindex = pd.MultiIndex.from_tuples(\n",
    "        [(phenokind, popsize, reprmode, i, t) for t in range(len(pheno))],\n",
    "        names=[\"phenokind\", \"popsize\", \"reprmode\", \"i\", \"t\"],\n",
    "    )\n",
    "    pheno.index = multiindex\n",
    "\n",
    "    ANIMRES[(phenokind, popsize, reprmode, i)] = pheno"
   ]
  },
  {
   "cell_type": "code",
   "execution_count": 12,
   "id": "2acc6470-2424-4ce9-84ed-ddbf90d73fbc",
   "metadata": {},
   "outputs": [],
   "source": [
    "# pd.concat(ANIMRES.values()).xs(\n",
    "#     (0, \"AP\", \"sexual\"),\n",
    "#     level=(\"t\", \"phenokind\", \"reprmode\"),\n",
    "# ).groupby([\"popsize\"]).mean(0).loc[\"300\"]"
   ]
  },
  {
   "cell_type": "code",
   "execution_count": 146,
   "id": "874c0393-dcbc-4e71-bed5-3f4e96eedc63",
   "metadata": {},
   "outputs": [],
   "source": [
    "%matplotlib nbagg"
   ]
  },
  {
   "cell_type": "code",
   "execution_count": 147,
   "id": "f63de23b-6943-4bc2-8ef5-6a6363906436",
   "metadata": {},
   "outputs": [
    {
     "data": {
      "application/javascript": "/* Put everything inside the global mpl namespace */\n/* global mpl */\nwindow.mpl = {};\n\nmpl.get_websocket_type = function () {\n    if (typeof WebSocket !== 'undefined') {\n        return WebSocket;\n    } else if (typeof MozWebSocket !== 'undefined') {\n        return MozWebSocket;\n    } else {\n        alert(\n            'Your browser does not have WebSocket support. ' +\n                'Please try Chrome, Safari or Firefox ≥ 6. ' +\n                'Firefox 4 and 5 are also supported but you ' +\n                'have to enable WebSockets in about:config.'\n        );\n    }\n};\n\nmpl.figure = function (figure_id, websocket, ondownload, parent_element) {\n    this.id = figure_id;\n\n    this.ws = websocket;\n\n    this.supports_binary = this.ws.binaryType !== undefined;\n\n    if (!this.supports_binary) {\n        var warnings = document.getElementById('mpl-warnings');\n        if (warnings) {\n            warnings.style.display = 'block';\n            warnings.textContent =\n                'This browser does not support binary websocket messages. ' +\n                'Performance may be slow.';\n        }\n    }\n\n    this.imageObj = new Image();\n\n    this.context = undefined;\n    this.message = undefined;\n    this.canvas = undefined;\n    this.rubberband_canvas = undefined;\n    this.rubberband_context = undefined;\n    this.format_dropdown = undefined;\n\n    this.image_mode = 'full';\n\n    this.root = document.createElement('div');\n    this.root.setAttribute('style', 'display: inline-block');\n    this._root_extra_style(this.root);\n\n    parent_element.appendChild(this.root);\n\n    this._init_header(this);\n    this._init_canvas(this);\n    this._init_toolbar(this);\n\n    var fig = this;\n\n    this.waiting = false;\n\n    this.ws.onopen = function () {\n        fig.send_message('supports_binary', { value: fig.supports_binary });\n        fig.send_message('send_image_mode', {});\n        if (fig.ratio !== 1) {\n            fig.send_message('set_device_pixel_ratio', {\n                device_pixel_ratio: fig.ratio,\n            });\n        }\n        fig.send_message('refresh', {});\n    };\n\n    this.imageObj.onload = function () {\n        if (fig.image_mode === 'full') {\n            // Full images could contain transparency (where diff images\n            // almost always do), so we need to clear the canvas so that\n            // there is no ghosting.\n            fig.context.clearRect(0, 0, fig.canvas.width, fig.canvas.height);\n        }\n        fig.context.drawImage(fig.imageObj, 0, 0);\n    };\n\n    this.imageObj.onunload = function () {\n        fig.ws.close();\n    };\n\n    this.ws.onmessage = this._make_on_message_function(this);\n\n    this.ondownload = ondownload;\n};\n\nmpl.figure.prototype._init_header = function () {\n    var titlebar = document.createElement('div');\n    titlebar.classList =\n        'ui-dialog-titlebar ui-widget-header ui-corner-all ui-helper-clearfix';\n    var titletext = document.createElement('div');\n    titletext.classList = 'ui-dialog-title';\n    titletext.setAttribute(\n        'style',\n        'width: 100%; text-align: center; padding: 3px;'\n    );\n    titlebar.appendChild(titletext);\n    this.root.appendChild(titlebar);\n    this.header = titletext;\n};\n\nmpl.figure.prototype._canvas_extra_style = function (_canvas_div) {};\n\nmpl.figure.prototype._root_extra_style = function (_canvas_div) {};\n\nmpl.figure.prototype._init_canvas = function () {\n    var fig = this;\n\n    var canvas_div = (this.canvas_div = document.createElement('div'));\n    canvas_div.setAttribute(\n        'style',\n        'border: 1px solid #ddd;' +\n            'box-sizing: content-box;' +\n            'clear: both;' +\n            'min-height: 1px;' +\n            'min-width: 1px;' +\n            'outline: 0;' +\n            'overflow: hidden;' +\n            'position: relative;' +\n            'resize: both;'\n    );\n\n    function on_keyboard_event_closure(name) {\n        return function (event) {\n            return fig.key_event(event, name);\n        };\n    }\n\n    canvas_div.addEventListener(\n        'keydown',\n        on_keyboard_event_closure('key_press')\n    );\n    canvas_div.addEventListener(\n        'keyup',\n        on_keyboard_event_closure('key_release')\n    );\n\n    this._canvas_extra_style(canvas_div);\n    this.root.appendChild(canvas_div);\n\n    var canvas = (this.canvas = document.createElement('canvas'));\n    canvas.classList.add('mpl-canvas');\n    canvas.setAttribute('style', 'box-sizing: content-box;');\n\n    this.context = canvas.getContext('2d');\n\n    var backingStore =\n        this.context.backingStorePixelRatio ||\n        this.context.webkitBackingStorePixelRatio ||\n        this.context.mozBackingStorePixelRatio ||\n        this.context.msBackingStorePixelRatio ||\n        this.context.oBackingStorePixelRatio ||\n        this.context.backingStorePixelRatio ||\n        1;\n\n    this.ratio = (window.devicePixelRatio || 1) / backingStore;\n\n    var rubberband_canvas = (this.rubberband_canvas = document.createElement(\n        'canvas'\n    ));\n    rubberband_canvas.setAttribute(\n        'style',\n        'box-sizing: content-box; position: absolute; left: 0; top: 0; z-index: 1;'\n    );\n\n    // Apply a ponyfill if ResizeObserver is not implemented by browser.\n    if (this.ResizeObserver === undefined) {\n        if (window.ResizeObserver !== undefined) {\n            this.ResizeObserver = window.ResizeObserver;\n        } else {\n            var obs = _JSXTOOLS_RESIZE_OBSERVER({});\n            this.ResizeObserver = obs.ResizeObserver;\n        }\n    }\n\n    this.resizeObserverInstance = new this.ResizeObserver(function (entries) {\n        var nentries = entries.length;\n        for (var i = 0; i < nentries; i++) {\n            var entry = entries[i];\n            var width, height;\n            if (entry.contentBoxSize) {\n                if (entry.contentBoxSize instanceof Array) {\n                    // Chrome 84 implements new version of spec.\n                    width = entry.contentBoxSize[0].inlineSize;\n                    height = entry.contentBoxSize[0].blockSize;\n                } else {\n                    // Firefox implements old version of spec.\n                    width = entry.contentBoxSize.inlineSize;\n                    height = entry.contentBoxSize.blockSize;\n                }\n            } else {\n                // Chrome <84 implements even older version of spec.\n                width = entry.contentRect.width;\n                height = entry.contentRect.height;\n            }\n\n            // Keep the size of the canvas and rubber band canvas in sync with\n            // the canvas container.\n            if (entry.devicePixelContentBoxSize) {\n                // Chrome 84 implements new version of spec.\n                canvas.setAttribute(\n                    'width',\n                    entry.devicePixelContentBoxSize[0].inlineSize\n                );\n                canvas.setAttribute(\n                    'height',\n                    entry.devicePixelContentBoxSize[0].blockSize\n                );\n            } else {\n                canvas.setAttribute('width', width * fig.ratio);\n                canvas.setAttribute('height', height * fig.ratio);\n            }\n            canvas.setAttribute(\n                'style',\n                'width: ' + width + 'px; height: ' + height + 'px;'\n            );\n\n            rubberband_canvas.setAttribute('width', width);\n            rubberband_canvas.setAttribute('height', height);\n\n            // And update the size in Python. We ignore the initial 0/0 size\n            // that occurs as the element is placed into the DOM, which should\n            // otherwise not happen due to the minimum size styling.\n            if (fig.ws.readyState == 1 && width != 0 && height != 0) {\n                fig.request_resize(width, height);\n            }\n        }\n    });\n    this.resizeObserverInstance.observe(canvas_div);\n\n    function on_mouse_event_closure(name) {\n        return function (event) {\n            return fig.mouse_event(event, name);\n        };\n    }\n\n    rubberband_canvas.addEventListener(\n        'mousedown',\n        on_mouse_event_closure('button_press')\n    );\n    rubberband_canvas.addEventListener(\n        'mouseup',\n        on_mouse_event_closure('button_release')\n    );\n    rubberband_canvas.addEventListener(\n        'dblclick',\n        on_mouse_event_closure('dblclick')\n    );\n    // Throttle sequential mouse events to 1 every 20ms.\n    rubberband_canvas.addEventListener(\n        'mousemove',\n        on_mouse_event_closure('motion_notify')\n    );\n\n    rubberband_canvas.addEventListener(\n        'mouseenter',\n        on_mouse_event_closure('figure_enter')\n    );\n    rubberband_canvas.addEventListener(\n        'mouseleave',\n        on_mouse_event_closure('figure_leave')\n    );\n\n    canvas_div.addEventListener('wheel', function (event) {\n        if (event.deltaY < 0) {\n            event.step = 1;\n        } else {\n            event.step = -1;\n        }\n        on_mouse_event_closure('scroll')(event);\n    });\n\n    canvas_div.appendChild(canvas);\n    canvas_div.appendChild(rubberband_canvas);\n\n    this.rubberband_context = rubberband_canvas.getContext('2d');\n    this.rubberband_context.strokeStyle = '#000000';\n\n    this._resize_canvas = function (width, height, forward) {\n        if (forward) {\n            canvas_div.style.width = width + 'px';\n            canvas_div.style.height = height + 'px';\n        }\n    };\n\n    // Disable right mouse context menu.\n    this.rubberband_canvas.addEventListener('contextmenu', function (_e) {\n        event.preventDefault();\n        return false;\n    });\n\n    function set_focus() {\n        canvas.focus();\n        canvas_div.focus();\n    }\n\n    window.setTimeout(set_focus, 100);\n};\n\nmpl.figure.prototype._init_toolbar = function () {\n    var fig = this;\n\n    var toolbar = document.createElement('div');\n    toolbar.classList = 'mpl-toolbar';\n    this.root.appendChild(toolbar);\n\n    function on_click_closure(name) {\n        return function (_event) {\n            return fig.toolbar_button_onclick(name);\n        };\n    }\n\n    function on_mouseover_closure(tooltip) {\n        return function (event) {\n            if (!event.currentTarget.disabled) {\n                return fig.toolbar_button_onmouseover(tooltip);\n            }\n        };\n    }\n\n    fig.buttons = {};\n    var buttonGroup = document.createElement('div');\n    buttonGroup.classList = 'mpl-button-group';\n    for (var toolbar_ind in mpl.toolbar_items) {\n        var name = mpl.toolbar_items[toolbar_ind][0];\n        var tooltip = mpl.toolbar_items[toolbar_ind][1];\n        var image = mpl.toolbar_items[toolbar_ind][2];\n        var method_name = mpl.toolbar_items[toolbar_ind][3];\n\n        if (!name) {\n            /* Instead of a spacer, we start a new button group. */\n            if (buttonGroup.hasChildNodes()) {\n                toolbar.appendChild(buttonGroup);\n            }\n            buttonGroup = document.createElement('div');\n            buttonGroup.classList = 'mpl-button-group';\n            continue;\n        }\n\n        var button = (fig.buttons[name] = document.createElement('button'));\n        button.classList = 'mpl-widget';\n        button.setAttribute('role', 'button');\n        button.setAttribute('aria-disabled', 'false');\n        button.addEventListener('click', on_click_closure(method_name));\n        button.addEventListener('mouseover', on_mouseover_closure(tooltip));\n\n        var icon_img = document.createElement('img');\n        icon_img.src = '_images/' + image + '.png';\n        icon_img.srcset = '_images/' + image + '_large.png 2x';\n        icon_img.alt = tooltip;\n        button.appendChild(icon_img);\n\n        buttonGroup.appendChild(button);\n    }\n\n    if (buttonGroup.hasChildNodes()) {\n        toolbar.appendChild(buttonGroup);\n    }\n\n    var fmt_picker = document.createElement('select');\n    fmt_picker.classList = 'mpl-widget';\n    toolbar.appendChild(fmt_picker);\n    this.format_dropdown = fmt_picker;\n\n    for (var ind in mpl.extensions) {\n        var fmt = mpl.extensions[ind];\n        var option = document.createElement('option');\n        option.selected = fmt === mpl.default_extension;\n        option.innerHTML = fmt;\n        fmt_picker.appendChild(option);\n    }\n\n    var status_bar = document.createElement('span');\n    status_bar.classList = 'mpl-message';\n    toolbar.appendChild(status_bar);\n    this.message = status_bar;\n};\n\nmpl.figure.prototype.request_resize = function (x_pixels, y_pixels) {\n    // Request matplotlib to resize the figure. Matplotlib will then trigger a resize in the client,\n    // which will in turn request a refresh of the image.\n    this.send_message('resize', { width: x_pixels, height: y_pixels });\n};\n\nmpl.figure.prototype.send_message = function (type, properties) {\n    properties['type'] = type;\n    properties['figure_id'] = this.id;\n    this.ws.send(JSON.stringify(properties));\n};\n\nmpl.figure.prototype.send_draw_message = function () {\n    if (!this.waiting) {\n        this.waiting = true;\n        this.ws.send(JSON.stringify({ type: 'draw', figure_id: this.id }));\n    }\n};\n\nmpl.figure.prototype.handle_save = function (fig, _msg) {\n    var format_dropdown = fig.format_dropdown;\n    var format = format_dropdown.options[format_dropdown.selectedIndex].value;\n    fig.ondownload(fig, format);\n};\n\nmpl.figure.prototype.handle_resize = function (fig, msg) {\n    var size = msg['size'];\n    if (size[0] !== fig.canvas.width || size[1] !== fig.canvas.height) {\n        fig._resize_canvas(size[0], size[1], msg['forward']);\n        fig.send_message('refresh', {});\n    }\n};\n\nmpl.figure.prototype.handle_rubberband = function (fig, msg) {\n    var x0 = msg['x0'] / fig.ratio;\n    var y0 = (fig.canvas.height - msg['y0']) / fig.ratio;\n    var x1 = msg['x1'] / fig.ratio;\n    var y1 = (fig.canvas.height - msg['y1']) / fig.ratio;\n    x0 = Math.floor(x0) + 0.5;\n    y0 = Math.floor(y0) + 0.5;\n    x1 = Math.floor(x1) + 0.5;\n    y1 = Math.floor(y1) + 0.5;\n    var min_x = Math.min(x0, x1);\n    var min_y = Math.min(y0, y1);\n    var width = Math.abs(x1 - x0);\n    var height = Math.abs(y1 - y0);\n\n    fig.rubberband_context.clearRect(\n        0,\n        0,\n        fig.canvas.width / fig.ratio,\n        fig.canvas.height / fig.ratio\n    );\n\n    fig.rubberband_context.strokeRect(min_x, min_y, width, height);\n};\n\nmpl.figure.prototype.handle_figure_label = function (fig, msg) {\n    // Updates the figure title.\n    fig.header.textContent = msg['label'];\n};\n\nmpl.figure.prototype.handle_cursor = function (fig, msg) {\n    fig.rubberband_canvas.style.cursor = msg['cursor'];\n};\n\nmpl.figure.prototype.handle_message = function (fig, msg) {\n    fig.message.textContent = msg['message'];\n};\n\nmpl.figure.prototype.handle_draw = function (fig, _msg) {\n    // Request the server to send over a new figure.\n    fig.send_draw_message();\n};\n\nmpl.figure.prototype.handle_image_mode = function (fig, msg) {\n    fig.image_mode = msg['mode'];\n};\n\nmpl.figure.prototype.handle_history_buttons = function (fig, msg) {\n    for (var key in msg) {\n        if (!(key in fig.buttons)) {\n            continue;\n        }\n        fig.buttons[key].disabled = !msg[key];\n        fig.buttons[key].setAttribute('aria-disabled', !msg[key]);\n    }\n};\n\nmpl.figure.prototype.handle_navigate_mode = function (fig, msg) {\n    if (msg['mode'] === 'PAN') {\n        fig.buttons['Pan'].classList.add('active');\n        fig.buttons['Zoom'].classList.remove('active');\n    } else if (msg['mode'] === 'ZOOM') {\n        fig.buttons['Pan'].classList.remove('active');\n        fig.buttons['Zoom'].classList.add('active');\n    } else {\n        fig.buttons['Pan'].classList.remove('active');\n        fig.buttons['Zoom'].classList.remove('active');\n    }\n};\n\nmpl.figure.prototype.updated_canvas_event = function () {\n    // Called whenever the canvas gets updated.\n    this.send_message('ack', {});\n};\n\n// A function to construct a web socket function for onmessage handling.\n// Called in the figure constructor.\nmpl.figure.prototype._make_on_message_function = function (fig) {\n    return function socket_on_message(evt) {\n        if (evt.data instanceof Blob) {\n            var img = evt.data;\n            if (img.type !== 'image/png') {\n                /* FIXME: We get \"Resource interpreted as Image but\n                 * transferred with MIME type text/plain:\" errors on\n                 * Chrome.  But how to set the MIME type?  It doesn't seem\n                 * to be part of the websocket stream */\n                img.type = 'image/png';\n            }\n\n            /* Free the memory for the previous frames */\n            if (fig.imageObj.src) {\n                (window.URL || window.webkitURL).revokeObjectURL(\n                    fig.imageObj.src\n                );\n            }\n\n            fig.imageObj.src = (window.URL || window.webkitURL).createObjectURL(\n                img\n            );\n            fig.updated_canvas_event();\n            fig.waiting = false;\n            return;\n        } else if (\n            typeof evt.data === 'string' &&\n            evt.data.slice(0, 21) === 'data:image/png;base64'\n        ) {\n            fig.imageObj.src = evt.data;\n            fig.updated_canvas_event();\n            fig.waiting = false;\n            return;\n        }\n\n        var msg = JSON.parse(evt.data);\n        var msg_type = msg['type'];\n\n        // Call the  \"handle_{type}\" callback, which takes\n        // the figure and JSON message as its only arguments.\n        try {\n            var callback = fig['handle_' + msg_type];\n        } catch (e) {\n            console.log(\n                \"No handler for the '\" + msg_type + \"' message type: \",\n                msg\n            );\n            return;\n        }\n\n        if (callback) {\n            try {\n                // console.log(\"Handling '\" + msg_type + \"' message: \", msg);\n                callback(fig, msg);\n            } catch (e) {\n                console.log(\n                    \"Exception inside the 'handler_\" + msg_type + \"' callback:\",\n                    e,\n                    e.stack,\n                    msg\n                );\n            }\n        }\n    };\n};\n\n// from https://stackoverflow.com/questions/1114465/getting-mouse-location-in-canvas\nmpl.findpos = function (e) {\n    //this section is from http://www.quirksmode.org/js/events_properties.html\n    var targ;\n    if (!e) {\n        e = window.event;\n    }\n    if (e.target) {\n        targ = e.target;\n    } else if (e.srcElement) {\n        targ = e.srcElement;\n    }\n    if (targ.nodeType === 3) {\n        // defeat Safari bug\n        targ = targ.parentNode;\n    }\n\n    // pageX,Y are the mouse positions relative to the document\n    var boundingRect = targ.getBoundingClientRect();\n    var x = e.pageX - (boundingRect.left + document.body.scrollLeft);\n    var y = e.pageY - (boundingRect.top + document.body.scrollTop);\n\n    return { x: x, y: y };\n};\n\n/*\n * return a copy of an object with only non-object keys\n * we need this to avoid circular references\n * https://stackoverflow.com/a/24161582/3208463\n */\nfunction simpleKeys(original) {\n    return Object.keys(original).reduce(function (obj, key) {\n        if (typeof original[key] !== 'object') {\n            obj[key] = original[key];\n        }\n        return obj;\n    }, {});\n}\n\nmpl.figure.prototype.mouse_event = function (event, name) {\n    var canvas_pos = mpl.findpos(event);\n\n    if (name === 'button_press') {\n        this.canvas.focus();\n        this.canvas_div.focus();\n    }\n\n    var x = canvas_pos.x * this.ratio;\n    var y = canvas_pos.y * this.ratio;\n\n    this.send_message(name, {\n        x: x,\n        y: y,\n        button: event.button,\n        step: event.step,\n        guiEvent: simpleKeys(event),\n    });\n\n    /* This prevents the web browser from automatically changing to\n     * the text insertion cursor when the button is pressed.  We want\n     * to control all of the cursor setting manually through the\n     * 'cursor' event from matplotlib */\n    event.preventDefault();\n    return false;\n};\n\nmpl.figure.prototype._key_event_extra = function (_event, _name) {\n    // Handle any extra behaviour associated with a key event\n};\n\nmpl.figure.prototype.key_event = function (event, name) {\n    // Prevent repeat events\n    if (name === 'key_press') {\n        if (event.key === this._key) {\n            return;\n        } else {\n            this._key = event.key;\n        }\n    }\n    if (name === 'key_release') {\n        this._key = null;\n    }\n\n    var value = '';\n    if (event.ctrlKey && event.key !== 'Control') {\n        value += 'ctrl+';\n    }\n    else if (event.altKey && event.key !== 'Alt') {\n        value += 'alt+';\n    }\n    else if (event.shiftKey && event.key !== 'Shift') {\n        value += 'shift+';\n    }\n\n    value += 'k' + event.key;\n\n    this._key_event_extra(event, name);\n\n    this.send_message(name, { key: value, guiEvent: simpleKeys(event) });\n    return false;\n};\n\nmpl.figure.prototype.toolbar_button_onclick = function (name) {\n    if (name === 'download') {\n        this.handle_save(this, null);\n    } else {\n        this.send_message('toolbar_button', { name: name });\n    }\n};\n\nmpl.figure.prototype.toolbar_button_onmouseover = function (tooltip) {\n    this.message.textContent = tooltip;\n};\n\n///////////////// REMAINING CONTENT GENERATED BY embed_js.py /////////////////\n// prettier-ignore\nvar _JSXTOOLS_RESIZE_OBSERVER=function(A){var t,i=new WeakMap,n=new WeakMap,a=new WeakMap,r=new WeakMap,o=new Set;function s(e){if(!(this instanceof s))throw new TypeError(\"Constructor requires 'new' operator\");i.set(this,e)}function h(){throw new TypeError(\"Function is not a constructor\")}function c(e,t,i,n){e=0 in arguments?Number(arguments[0]):0,t=1 in arguments?Number(arguments[1]):0,i=2 in arguments?Number(arguments[2]):0,n=3 in arguments?Number(arguments[3]):0,this.right=(this.x=this.left=e)+(this.width=i),this.bottom=(this.y=this.top=t)+(this.height=n),Object.freeze(this)}function d(){t=requestAnimationFrame(d);var s=new WeakMap,p=new Set;o.forEach((function(t){r.get(t).forEach((function(i){var r=t instanceof window.SVGElement,o=a.get(t),d=r?0:parseFloat(o.paddingTop),f=r?0:parseFloat(o.paddingRight),l=r?0:parseFloat(o.paddingBottom),u=r?0:parseFloat(o.paddingLeft),g=r?0:parseFloat(o.borderTopWidth),m=r?0:parseFloat(o.borderRightWidth),w=r?0:parseFloat(o.borderBottomWidth),b=u+f,F=d+l,v=(r?0:parseFloat(o.borderLeftWidth))+m,W=g+w,y=r?0:t.offsetHeight-W-t.clientHeight,E=r?0:t.offsetWidth-v-t.clientWidth,R=b+v,z=F+W,M=r?t.width:parseFloat(o.width)-R-E,O=r?t.height:parseFloat(o.height)-z-y;if(n.has(t)){var k=n.get(t);if(k[0]===M&&k[1]===O)return}n.set(t,[M,O]);var S=Object.create(h.prototype);S.target=t,S.contentRect=new c(u,d,M,O),s.has(i)||(s.set(i,[]),p.add(i)),s.get(i).push(S)}))})),p.forEach((function(e){i.get(e).call(e,s.get(e),e)}))}return s.prototype.observe=function(i){if(i instanceof window.Element){r.has(i)||(r.set(i,new Set),o.add(i),a.set(i,window.getComputedStyle(i)));var n=r.get(i);n.has(this)||n.add(this),cancelAnimationFrame(t),t=requestAnimationFrame(d)}},s.prototype.unobserve=function(i){if(i instanceof window.Element&&r.has(i)){var n=r.get(i);n.has(this)&&(n.delete(this),n.size||(r.delete(i),o.delete(i))),n.size||r.delete(i),o.size||cancelAnimationFrame(t)}},A.DOMRectReadOnly=c,A.ResizeObserver=s,A.ResizeObserverEntry=h,A}; // eslint-disable-line\nmpl.toolbar_items = [[\"Home\", \"Reset original view\", \"fa fa-home icon-home\", \"home\"], [\"Back\", \"Back to previous view\", \"fa fa-arrow-left icon-arrow-left\", \"back\"], [\"Forward\", \"Forward to next view\", \"fa fa-arrow-right icon-arrow-right\", \"forward\"], [\"\", \"\", \"\", \"\"], [\"Pan\", \"Left button pans, Right button zooms\\nx/y fixes axis, CTRL fixes aspect\", \"fa fa-arrows icon-move\", \"pan\"], [\"Zoom\", \"Zoom to rectangle\\nx/y fixes axis\", \"fa fa-square-o icon-check-empty\", \"zoom\"], [\"\", \"\", \"\", \"\"], [\"Download\", \"Download plot\", \"fa fa-floppy-o icon-save\", \"download\"]];\n\nmpl.extensions = [\"eps\", \"jpeg\", \"pgf\", \"pdf\", \"png\", \"ps\", \"raw\", \"svg\", \"tif\"];\n\nmpl.default_extension = \"png\";/* global mpl */\n\nvar comm_websocket_adapter = function (comm) {\n    // Create a \"websocket\"-like object which calls the given IPython comm\n    // object with the appropriate methods. Currently this is a non binary\n    // socket, so there is still some room for performance tuning.\n    var ws = {};\n\n    ws.binaryType = comm.kernel.ws.binaryType;\n    ws.readyState = comm.kernel.ws.readyState;\n    function updateReadyState(_event) {\n        if (comm.kernel.ws) {\n            ws.readyState = comm.kernel.ws.readyState;\n        } else {\n            ws.readyState = 3; // Closed state.\n        }\n    }\n    comm.kernel.ws.addEventListener('open', updateReadyState);\n    comm.kernel.ws.addEventListener('close', updateReadyState);\n    comm.kernel.ws.addEventListener('error', updateReadyState);\n\n    ws.close = function () {\n        comm.close();\n    };\n    ws.send = function (m) {\n        //console.log('sending', m);\n        comm.send(m);\n    };\n    // Register the callback with on_msg.\n    comm.on_msg(function (msg) {\n        //console.log('receiving', msg['content']['data'], msg);\n        var data = msg['content']['data'];\n        if (data['blob'] !== undefined) {\n            data = {\n                data: new Blob(msg['buffers'], { type: data['blob'] }),\n            };\n        }\n        // Pass the mpl event to the overridden (by mpl) onmessage function.\n        ws.onmessage(data);\n    });\n    return ws;\n};\n\nmpl.mpl_figure_comm = function (comm, msg) {\n    // This is the function which gets called when the mpl process\n    // starts-up an IPython Comm through the \"matplotlib\" channel.\n\n    var id = msg.content.data.id;\n    // Get hold of the div created by the display call when the Comm\n    // socket was opened in Python.\n    var element = document.getElementById(id);\n    var ws_proxy = comm_websocket_adapter(comm);\n\n    function ondownload(figure, _format) {\n        window.open(figure.canvas.toDataURL());\n    }\n\n    var fig = new mpl.figure(id, ws_proxy, ondownload, element);\n\n    // Call onopen now - mpl needs it, as it is assuming we've passed it a real\n    // web socket which is closed, not our websocket->open comm proxy.\n    ws_proxy.onopen();\n\n    fig.parent_element = element;\n    fig.cell_info = mpl.find_output_cell(\"<div id='\" + id + \"'></div>\");\n    if (!fig.cell_info) {\n        console.error('Failed to find cell for figure', id, fig);\n        return;\n    }\n    fig.cell_info[0].output_area.element.on(\n        'cleared',\n        { fig: fig },\n        fig._remove_fig_handler\n    );\n};\n\nmpl.figure.prototype.handle_close = function (fig, msg) {\n    var width = fig.canvas.width / fig.ratio;\n    fig.cell_info[0].output_area.element.off(\n        'cleared',\n        fig._remove_fig_handler\n    );\n    fig.resizeObserverInstance.unobserve(fig.canvas_div);\n\n    // Update the output cell to use the data from the current canvas.\n    fig.push_to_output();\n    var dataURL = fig.canvas.toDataURL();\n    // Re-enable the keyboard manager in IPython - without this line, in FF,\n    // the notebook keyboard shortcuts fail.\n    IPython.keyboard_manager.enable();\n    fig.parent_element.innerHTML =\n        '<img src=\"' + dataURL + '\" width=\"' + width + '\">';\n    fig.close_ws(fig, msg);\n};\n\nmpl.figure.prototype.close_ws = function (fig, msg) {\n    fig.send_message('closing', msg);\n    // fig.ws.close()\n};\n\nmpl.figure.prototype.push_to_output = function (_remove_interactive) {\n    // Turn the data on the canvas into data in the output cell.\n    var width = this.canvas.width / this.ratio;\n    var dataURL = this.canvas.toDataURL();\n    this.cell_info[1]['text/html'] =\n        '<img src=\"' + dataURL + '\" width=\"' + width + '\">';\n};\n\nmpl.figure.prototype.updated_canvas_event = function () {\n    // Tell IPython that the notebook contents must change.\n    IPython.notebook.set_dirty(true);\n    this.send_message('ack', {});\n    var fig = this;\n    // Wait a second, then push the new image to the DOM so\n    // that it is saved nicely (might be nice to debounce this).\n    setTimeout(function () {\n        fig.push_to_output();\n    }, 1000);\n};\n\nmpl.figure.prototype._init_toolbar = function () {\n    var fig = this;\n\n    var toolbar = document.createElement('div');\n    toolbar.classList = 'btn-toolbar';\n    this.root.appendChild(toolbar);\n\n    function on_click_closure(name) {\n        return function (_event) {\n            return fig.toolbar_button_onclick(name);\n        };\n    }\n\n    function on_mouseover_closure(tooltip) {\n        return function (event) {\n            if (!event.currentTarget.disabled) {\n                return fig.toolbar_button_onmouseover(tooltip);\n            }\n        };\n    }\n\n    fig.buttons = {};\n    var buttonGroup = document.createElement('div');\n    buttonGroup.classList = 'btn-group';\n    var button;\n    for (var toolbar_ind in mpl.toolbar_items) {\n        var name = mpl.toolbar_items[toolbar_ind][0];\n        var tooltip = mpl.toolbar_items[toolbar_ind][1];\n        var image = mpl.toolbar_items[toolbar_ind][2];\n        var method_name = mpl.toolbar_items[toolbar_ind][3];\n\n        if (!name) {\n            /* Instead of a spacer, we start a new button group. */\n            if (buttonGroup.hasChildNodes()) {\n                toolbar.appendChild(buttonGroup);\n            }\n            buttonGroup = document.createElement('div');\n            buttonGroup.classList = 'btn-group';\n            continue;\n        }\n\n        button = fig.buttons[name] = document.createElement('button');\n        button.classList = 'btn btn-default';\n        button.href = '#';\n        button.title = name;\n        button.innerHTML = '<i class=\"fa ' + image + ' fa-lg\"></i>';\n        button.addEventListener('click', on_click_closure(method_name));\n        button.addEventListener('mouseover', on_mouseover_closure(tooltip));\n        buttonGroup.appendChild(button);\n    }\n\n    if (buttonGroup.hasChildNodes()) {\n        toolbar.appendChild(buttonGroup);\n    }\n\n    // Add the status bar.\n    var status_bar = document.createElement('span');\n    status_bar.classList = 'mpl-message pull-right';\n    toolbar.appendChild(status_bar);\n    this.message = status_bar;\n\n    // Add the close button to the window.\n    var buttongrp = document.createElement('div');\n    buttongrp.classList = 'btn-group inline pull-right';\n    button = document.createElement('button');\n    button.classList = 'btn btn-mini btn-primary';\n    button.href = '#';\n    button.title = 'Stop Interaction';\n    button.innerHTML = '<i class=\"fa fa-power-off icon-remove icon-large\"></i>';\n    button.addEventListener('click', function (_evt) {\n        fig.handle_close(fig, {});\n    });\n    button.addEventListener(\n        'mouseover',\n        on_mouseover_closure('Stop Interaction')\n    );\n    buttongrp.appendChild(button);\n    var titlebar = this.root.querySelector('.ui-dialog-titlebar');\n    titlebar.insertBefore(buttongrp, titlebar.firstChild);\n};\n\nmpl.figure.prototype._remove_fig_handler = function (event) {\n    var fig = event.data.fig;\n    if (event.target !== this) {\n        // Ignore bubbled events from children.\n        return;\n    }\n    fig.close_ws(fig, {});\n};\n\nmpl.figure.prototype._root_extra_style = function (el) {\n    el.style.boxSizing = 'content-box'; // override notebook setting of border-box.\n};\n\nmpl.figure.prototype._canvas_extra_style = function (el) {\n    // this is important to make the div 'focusable\n    el.setAttribute('tabindex', 0);\n    // reach out to IPython and tell the keyboard manager to turn it's self\n    // off when our div gets focus\n\n    // location in version 3\n    if (IPython.notebook.keyboard_manager) {\n        IPython.notebook.keyboard_manager.register_events(el);\n    } else {\n        // location in version 2\n        IPython.keyboard_manager.register_events(el);\n    }\n};\n\nmpl.figure.prototype._key_event_extra = function (event, _name) {\n    // Check for shift+enter\n    if (event.shiftKey && event.which === 13) {\n        this.canvas_div.blur();\n        // select the cell after this one\n        var index = IPython.notebook.find_cell_index(this.cell_info[0]);\n        IPython.notebook.select(index + 1);\n    }\n};\n\nmpl.figure.prototype.handle_save = function (fig, _msg) {\n    fig.ondownload(fig, null);\n};\n\nmpl.find_output_cell = function (html_output) {\n    // Return the cell and output element which can be found *uniquely* in the notebook.\n    // Note - this is a bit hacky, but it is done because the \"notebook_saving.Notebook\"\n    // IPython event is triggered only after the cells have been serialised, which for\n    // our purposes (turning an active figure into a static one), is too late.\n    var cells = IPython.notebook.get_cells();\n    var ncells = cells.length;\n    for (var i = 0; i < ncells; i++) {\n        var cell = cells[i];\n        if (cell.cell_type === 'code') {\n            for (var j = 0; j < cell.output_area.outputs.length; j++) {\n                var data = cell.output_area.outputs[j];\n                if (data.data) {\n                    // IPython >= 3 moved mimebundle to data attribute of output\n                    data = data.data;\n                }\n                if (data['text/html'] === html_output) {\n                    return [cell, data, j];\n                }\n            }\n        }\n    }\n};\n\n// Register the function which deals with the matplotlib target/channel.\n// The kernel may be null if the page has been refreshed.\nif (IPython.notebook.kernel !== null) {\n    IPython.notebook.kernel.comm_manager.register_target(\n        'matplotlib',\n        mpl.mpl_figure_comm\n    );\n}\n",
      "text/plain": [
       "<IPython.core.display.Javascript object>"
      ]
     },
     "metadata": {},
     "output_type": "display_data"
    },
    {
     "data": {
      "text/html": [
       "<div id='6a0b58c6-f569-44b2-bab3-6c74ae91cd77'></div>"
      ],
      "text/plain": [
       "<IPython.core.display.HTML object>"
      ]
     },
     "metadata": {},
     "output_type": "display_data"
    },
    {
     "name": "stdout",
     "output_type": "stream",
     "text": [
      "['mortality', 'asexual_diploid']\n",
      "MA\n",
      "AP\n",
      "['survivorship', 'asexual_diploid']\n",
      "MA\n",
      "AP\n",
      "['mortality', 'sexual']\n",
      "MA\n",
      "AP\n",
      "['survivorship', 'sexual']\n",
      "MA\n",
      "AP\n",
      "finished\n"
     ]
    }
   ],
   "source": [
    "from matplotlib import animation\n",
    "\n",
    "writer = animation.writers[\"ffmpeg\"](fps=30)\n",
    "\n",
    "df = 1 - pd.concat(ANIMRES.values())\n",
    "\n",
    "figsize = (3, 3)\n",
    "# dpi = 300\n",
    "\n",
    "colors = [\"crimson\", \"forestgreen\", \"dodgerblue\"]\n",
    "\n",
    "patches = [\n",
    "    mpatches.Circle(xy=(0, 0), color=colors[0], label=\"N=300\"),\n",
    "    mpatches.Circle(xy=(0, 0), color=colors[1], label=\"N=3000\"),\n",
    "    mpatches.Circle(xy=(0, 0), color=colors[2], label=\"N=30000\"),\n",
    "]\n",
    "\n",
    "fig, ax = plt.subplots(figsize=figsize)\n",
    "\n",
    "ax_styles = dict(\n",
    "    xlim=(0, 49),\n",
    "    xticks=[0, 10, 49],\n",
    "    xticklabels=([1, \"\", 50]),\n",
    "    xlabel=\"age\",\n",
    ")\n",
    "\n",
    "ax_styles_mort = dict(\n",
    "    yticks=[0, 0.05, 0.1],\n",
    "    yticklabels=[0, 0.05, 0.1],\n",
    "    ylim=(0, 0.1),\n",
    ")\n",
    "\n",
    "ax_styles_surv = dict(\n",
    "    yticks=[0, 1],\n",
    "    yticklabels=[0, 1],\n",
    "    ylim=(0, 1.02),\n",
    ")\n",
    "\n",
    "\n",
    "ax.set(**ax_styles)\n",
    "ax.spines[[\"top\", \"right\"]].set_visible(False)\n",
    "\n",
    "\n",
    "def animate(t, aging_theory, data_type, reprmode):\n",
    "\n",
    "    plt.cla()\n",
    "    ax.set(**ax_styles)\n",
    "    if data_type == \"mortality\":\n",
    "        ax.set(**ax_styles_mort)\n",
    "        ax.hlines(0.05, 0, 51, color=\"gray\", ls=\"dotted\", lw=0.5)\n",
    "    else:\n",
    "        ax.set(**ax_styles_surv)\n",
    "        ax.plot(0.95 ** np.arange(1, 51), color=\"gray\", ls=\"dotted\", lw=0.5)\n",
    "    ax.set(\n",
    "        ylabel=data_type,\n",
    "        title=aging_theory,\n",
    "        xlabel=\"age\",\n",
    "    )\n",
    "    data = (\n",
    "        df.xs(\n",
    "            (t, aging_theory, reprmode),\n",
    "            level=(\"t\", \"phenokind\", \"reprmode\"),\n",
    "        )\n",
    "        # .groupby([\"popsize\"])\n",
    "        # .mean(0)\n",
    "    )\n",
    "    if data_type == \"survivorship\":\n",
    "        data = (1 - data).cumprod(1)\n",
    "\n",
    "    datagr = data.groupby(\"popsize\").mean(0)\n",
    "\n",
    "    # ax.plot(data.loc[\"300\"].T, color=colors[0], alpha=0.1)\n",
    "    # ax.plot(data.loc[\"3000\"].T, color=colors[1], alpha=0.1)\n",
    "    # ax.plot(data.loc[\"30000\"].T, color=colors[2], alpha=0.1)\n",
    "\n",
    "    ax.plot(datagr.loc[\"300\"], color=colors[0])\n",
    "    ax.plot(datagr.loc[\"3000\"], color=colors[1])\n",
    "    ax.plot(datagr.loc[\"30000\"], color=colors[2])\n",
    "    fig.tight_layout()\n",
    "    ax.legend(handles=patches, frameon=False, prop={\"size\": 5.5}, loc=[0.75, 0.2])\n",
    "\n",
    "\n",
    "import functools\n",
    "\n",
    "for reprmode in (\"asexual_diploid\", \"sexual\"):\n",
    "    for data_type in (\"mortality\", \"survivorship\"):\n",
    "        print([data_type, reprmode])\n",
    "        for aging_theory in (\"MA\", \"AP\"):\n",
    "            print(aging_theory)\n",
    "            func = functools.partial(\n",
    "                animate,\n",
    "                aging_theory=aging_theory,\n",
    "                data_type=data_type,\n",
    "                reprmode=reprmode,\n",
    "            )\n",
    "            anim = animation.FuncAnimation(fig, func, interval=100)\n",
    "            anim.save(\n",
    "                f\"temp/{aging_theory}-{data_type}-{reprmode}.gif\",\n",
    "                dpi=300,\n",
    "                writer=animation.PillowWriter(bitrate=300, fps=10),\n",
    "            )\n",
    "print(\"finished\")"
   ]
  },
  {
   "cell_type": "code",
   "execution_count": null,
   "id": "c2d23c89-fbc5-4196-812d-52eed7f7dab8",
   "metadata": {},
   "outputs": [],
   "source": []
  },
  {
   "cell_type": "code",
   "execution_count": null,
   "id": "5826c374-76bb-4d9b-a0a6-79eac8480485",
   "metadata": {},
   "outputs": [],
   "source": []
  },
  {
   "cell_type": "markdown",
   "id": "3d7c3536-5b80-45b4-b8da-863c620eeebd",
   "metadata": {
    "tags": []
   },
   "source": [
    "# Generation time"
   ]
  },
  {
   "cell_type": "code",
   "execution_count": 126,
   "id": "1f622272-4c85-4d5c-99fa-fbb3342f60d4",
   "metadata": {},
   "outputs": [
    {
     "name": "stderr",
     "output_type": "stream",
     "text": [
      "100%|██████████| 240/240 [00:02<00:00, 84.77it/s]\n"
     ]
    }
   ],
   "source": [
    "gentimes = []\n",
    "\n",
    "for i, yml_path in tqdm.tqdm(enumerate(yml_paths), total=len(yml_paths)):\n",
    "\n",
    "    # Path to .csv file with phenotypes\n",
    "    path = yml_path.with_suffix(\"\") / \"0/snapshots/demography/1000000.feather\"\n",
    "    feather = pd.read_feather(path)\n",
    "    mean_age = feather.query(\"ages >= 10\").ages.mean()\n",
    "\n",
    "    gentimes.append(yml_path.stem.split(\"-\") + [mean_age])"
   ]
  },
  {
   "cell_type": "code",
   "execution_count": 129,
   "id": "a0d55e83-be1d-468a-8820-de25052f9310",
   "metadata": {},
   "outputs": [],
   "source": [
    "df = pd.DataFrame(gentimes)\n",
    "df.columns = [\"maap\", \"popsize\", \"reprmode\", \"id\", \"meanage\"]"
   ]
  },
  {
   "cell_type": "code",
   "execution_count": 150,
   "id": "0e6c88c5-338b-4d7e-8e37-eaf075a934a4",
   "metadata": {},
   "outputs": [],
   "source": [
    "# df.groupby([\"maap\", \"popsize\", \"reprmode\"]).media"
   ]
  },
  {
   "cell_type": "code",
   "execution_count": 159,
   "id": "429a0116-5d43-4c5c-a8a8-4b73a6e86146",
   "metadata": {},
   "outputs": [
    {
     "data": {
      "text/plain": [
       "<AxesSubplot:ylabel='Frequency'>"
      ]
     },
     "execution_count": 159,
     "metadata": {},
     "output_type": "execute_result"
    },
    {
     "data": {
      "image/png": "[encoded data removed]",
      "text/plain": [
       "<Figure size 432x288 with 1 Axes>"
      ]
     },
     "metadata": {
      "needs_background": "light"
     },
     "output_type": "display_data"
    }
   ],
   "source": [
    "df.meanage.plot.hist()"
   ]
  },
  {
   "cell_type": "code",
   "execution_count": 156,
   "id": "b877c922-2e17-4277-9f4d-b58e29aea793",
   "metadata": {},
   "outputs": [
    {
     "data": {
      "text/plain": [
       "(array([1, 2, 3, 4, 5, 6, 7, 8]),\n",
       " [Text(1, 0, '(AP, 300, asexual_diploid)'),\n",
       "  Text(2, 0, '(AP, 300, sexual)'),\n",
       "  Text(3, 0, '(AP, 3000, asexual_diploid)'),\n",
       "  Text(4, 0, '(AP, 3000, sexual)'),\n",
       "  Text(5, 0, '(MA, 300, asexual_diploid)'),\n",
       "  Text(6, 0, '(MA, 300, sexual)'),\n",
       "  Text(7, 0, '(MA, 3000, asexual_diploid)'),\n",
       "  Text(8, 0, '(MA, 3000, sexual)')])"
      ]
     },
     "execution_count": 156,
     "metadata": {},
     "output_type": "execute_result"
    },
    {
     "data": {
      "image/png": "[encoded data removed]",
      "text/plain": [
       "<Figure size 864x288 with 1 Axes>"
      ]
     },
     "metadata": {
      "needs_background": "light"
     },
     "output_type": "display_data"
    }
   ],
   "source": [
    "matplotlib.rcParams.update({\"font.size\": 15})\n",
    "df.plot.box(by=[\"maap\", \"popsize\", \"reprmode\"], figsize=(12, 4))\n",
    "plt.xticks(rotation=90)"
   ]
  },
  {
   "cell_type": "code",
   "execution_count": 162,
   "id": "2f32c292-535c-4243-ac70-b6edffc66aff",
   "metadata": {},
   "outputs": [
    {
     "data": {
      "text/plain": [
       "(17.524274187172992, 17.63188118811881)"
      ]
     },
     "execution_count": 162,
     "metadata": {},
     "output_type": "execute_result"
    }
   ],
   "source": [
    "df.meanage.mean(), df.meanage.median()"
   ]
  },
  {
   "cell_type": "code",
   "execution_count": null,
   "id": "777944c9-010c-49e8-9606-0c7a970e6149",
   "metadata": {},
   "outputs": [],
   "source": []
  },
  {
   "cell_type": "markdown",
   "id": "6c1f91e0-101d-4639-bde9-920487810875",
   "metadata": {},
   "source": [
    "# X. Other plots"
   ]
  },
  {
   "cell_type": "code",
   "execution_count": 22,
   "id": "a0289db7-4275-42c8-8aab-b240b5d4bcd2",
   "metadata": {},
   "outputs": [
    {
     "data": {
      "image/png": "[encoded data removed]",
      "text/plain": [
       "<Figure size 144x144 with 1 Axes>"
      ]
     },
     "metadata": {},
     "output_type": "display_data"
    }
   ],
   "source": [
    "# Random genomes\n",
    "rng = np.random.default_rng(42)\n",
    "\n",
    "genomes = np.repeat((rng.random(50) < 0.2).astype(int), 50).reshape(50, 50).T\n",
    "genomes = np.logical_xor(genomes, rng.random(size=(50, 50)) < 0.15).astype(int)\n",
    "\n",
    "fig, ax = plt.subplots(figsize=(2, 2))\n",
    "plt.imshow(genomes, vmin=-0.1, vmax=1, cmap=\"binary\", interpolation=\"nearest\")\n",
    "ax.set_xlim(-0.5, 50 - 0.5)\n",
    "ax.set_ylim(-0.5, 50 - 0.5)\n",
    "ax.set_xticks([])\n",
    "ax.set_yticks([])\n",
    "ax.set_xlabel(\"Locus\")\n",
    "ax.set_ylabel(\"Genome\")\n",
    "ax.spines.right.set_visible(False)\n",
    "ax.spines.left.set_visible(False)\n",
    "ax.spines.top.set_visible(False)\n",
    "ax.spines.bottom.set_visible(False)\n",
    "fig.savefig(plots_dir / \"1-genomes.svg\", bbox_inches=\"tight\")"
   ]
  },
  {
   "cell_type": "code",
   "execution_count": 89,
   "id": "7434f188-5835-4592-8adb-801a284d8735",
   "metadata": {},
   "outputs": [
    {
     "data": {
      "image/png": "[encoded data removed]",
      "text/plain": [
       "<Figure size 144x144 with 2 Axes>"
      ]
     },
     "metadata": {},
     "output_type": "display_data"
    }
   ],
   "source": [
    "# for MA\n",
    "phenomap_path = pathlib.Path(\"../experiments/0815/MA-3000-sexual-1/0/phenomap.csv\")\n",
    "phenomap = pd.read_csv(phenomap_path, header=None)\n",
    "\n",
    "data = phenomap.iloc[\n",
    "    100:150, :50\n",
    "]  # Take first 50 neut loci that encode for the life history traits because of the phenomap\n",
    "data[data == 0.95] = 0  # Ignore identity effects\n",
    "\n",
    "# Main plot\n",
    "fig, ax = plt.subplots(figsize=(2, 2))\n",
    "im = plt.imshow(\n",
    "    data,\n",
    "    cmap=\"Reds_r\",\n",
    "    vmin=data.min().min(),\n",
    "    vmax=data.max().max(),\n",
    "    interpolation=\"nearest\",\n",
    ")\n",
    "plt.xlim(-0.5, 49.5)\n",
    "plt.ylim(-0.5, 49.5)\n",
    "plt.xticks([])\n",
    "plt.yticks([])\n",
    "plt.xlabel(\"Age affected\")\n",
    "plt.ylabel(\"Locus\")\n",
    "\n",
    "# Colorbar\n",
    "cbar = plt.colorbar(im, fraction=0.0455, pad=0.04)\n",
    "cbar.ax.set_yticklabels([])\n",
    "cbar.ax.set_yticks([])\n",
    "cbar.set_label(\n",
    "    \" detrimental       neutral\\n    variant           variant\",\n",
    "    rotation=90,\n",
    "    size=8,\n",
    "    labelpad=7,\n",
    "    ha=\"left\",\n",
    "    y=0,\n",
    ")\n",
    "\n",
    "# Despine\n",
    "ax.spines.right.set_visible(False)\n",
    "ax.spines.left.set_visible(False)\n",
    "ax.spines.top.set_visible(False)\n",
    "ax.spines.bottom.set_visible(False)\n",
    "\n",
    "# Save\n",
    "fig.savefig(plots_dir / \"1-MA-map.svg\", bbox_inches=\"tight\")"
   ]
  },
  {
   "cell_type": "code",
   "execution_count": 88,
   "id": "819ad579-9354-453b-a155-187e18604014",
   "metadata": {},
   "outputs": [
    {
     "data": {
      "image/png": "[encoded data removed]",
      "text/plain": [
       "<Figure size 144x144 with 2 Axes>"
      ]
     },
     "metadata": {},
     "output_type": "display_data"
    }
   ],
   "source": [
    "# for AP\n",
    "phenomap_path = pathlib.Path(\"../experiments/0815/AP-3000-sexual-5/0/phenomap.csv\")\n",
    "phenomap = pd.read_csv(phenomap_path, header=None)\n",
    "\n",
    "data = phenomap.iloc[\n",
    "    100:150, :50\n",
    "]  # Take first 50 neut loci that encode for the life history traits because of the phenomap\n",
    "data[data == 0.95] = 0  # Ignore identity effects\n",
    "\n",
    "# Main plot\n",
    "fig, ax = plt.subplots(figsize=(2, 2))\n",
    "im = plt.imshow(\n",
    "    data,\n",
    "    cmap=\"RdBu\",\n",
    "    vmin=data.min().min() * 0.9,\n",
    "    vmax=data.max().max() * 0.9,\n",
    "    interpolation=\"nearest\",\n",
    ")\n",
    "plt.xlim(-0.5, 49.5)\n",
    "plt.ylim(-0.5, 49.5)\n",
    "plt.xticks([])\n",
    "plt.yticks([])\n",
    "plt.xlabel(\"Age affected\")\n",
    "plt.ylabel(\"Locus\")\n",
    "\n",
    "# Colorbar\n",
    "cbar = plt.colorbar(im, fraction=0.0455, pad=0.04)\n",
    "cbar.ax.set_yticklabels([])\n",
    "cbar.ax.set_yticks([])\n",
    "# cbar.set_label(\"detrimental ... beneficial\", rotation=90, size=8, labelpad=7)\n",
    "cbar.set_label(\n",
    "    \" detrimental    beneficial\\n    variant          variant\",\n",
    "    rotation=90,\n",
    "    size=8,\n",
    "    labelpad=7,\n",
    "    ha=\"left\",\n",
    "    y=0,\n",
    ")\n",
    "\n",
    "# Despine\n",
    "ax.spines.right.set_visible(False)\n",
    "ax.spines.left.set_visible(False)\n",
    "ax.spines.top.set_visible(False)\n",
    "ax.spines.bottom.set_visible(False)\n",
    "\n",
    "# Save\n",
    "fig.savefig(plots_dir / \"1-AP-map.svg\", bbox_inches=\"tight\")"
   ]
  },
  {
   "cell_type": "code",
   "execution_count": 126,
   "id": "7596b936-949c-4478-994c-674bd32c60a7",
   "metadata": {},
   "outputs": [
    {
     "data": {
      "image/png": "[encoded data removed]",
      "text/plain": [
       "<Figure size 144x144 with 2 Axes>"
      ]
     },
     "metadata": {},
     "output_type": "display_data"
    },
    {
     "data": {
      "image/png": "[encoded data removed]",
      "text/plain": [
       "<Figure size 144x144 with 2 Axes>"
      ]
     },
     "metadata": {},
     "output_type": "display_data"
    }
   ],
   "source": [
    "pickle_paths = [\n",
    "    pathlib.Path(\"../experiments/0815/MA-3000-sexual-1/0/pickles/1000000\"),\n",
    "    pathlib.Path(\"../experiments/0815/AP-3000-sexual-5/0/pickles/1000000\"),\n",
    "]\n",
    "\n",
    "rng = np.random.default_rng(42)\n",
    "\n",
    "for pickle_path in pickle_paths:\n",
    "\n",
    "    with open(pickle_path, \"rb\") as file_:\n",
    "        pickle_ = pickle.load(file_)\n",
    "\n",
    "    phenokind = \"MA\" if \"MA\" in str(pickle_path) else \"AP\"\n",
    "\n",
    "    fig, ax = plt.subplots(figsize=(2, 2))\n",
    "    phenos = pickle_.phenotypes.copy().reshape(\n",
    "        pickle_.genomes.shape[0], pickle_.genomes.shape[2]\n",
    "    )\n",
    "    phenos[:, 0] = 1\n",
    "\n",
    "    noise = rng.random(size=[50, 50]) * 0.01\n",
    "    mask = rng.random(size=noise.shape) < 0.5\n",
    "    noise[mask] = 0\n",
    "    phenosplot = (phenos[:50, :50] - noise) ** 1.6\n",
    "\n",
    "    vmin = 0.8 if phenokind == \"AP\" else 0.82\n",
    "    vmax = 0.97 if phenokind == \"AP\" else 0.92\n",
    "\n",
    "    im = plt.imshow(\n",
    "        phenosplot, cmap=\"YlOrBr_r\", vmin=vmin, vmax=vmax, interpolation=\"nearest\"\n",
    "    )\n",
    "    plt.xlim(-0.5, 49.5)\n",
    "    plt.ylim(-0.5, 49.5)\n",
    "    plt.xticks([])\n",
    "    plt.yticks([])\n",
    "    # plt.title(\"age-dep survival rate\")\n",
    "    plt.xlabel(\"Age\")\n",
    "    plt.ylabel(\"Individual\")\n",
    "\n",
    "    # Plot overlay\n",
    "    plt.plot(50 * 0.9 ** np.arange(50), c=\"black\", alpha=1, lw=2, ls=\"--\")\n",
    "    ax.text(15, 15, \"?\", size=30)\n",
    "\n",
    "    # Colorbar\n",
    "    cbar = plt.colorbar(im, fraction=0.0455, pad=0.04)\n",
    "    cbar.ax.set_yticklabels([])\n",
    "    cbar.ax.set_yticks([])\n",
    "    # cbar.set_label(\"low ... high\", rotation=90, size=8, labelpad=7)\n",
    "    cbar.set_label(\n",
    "        \"      low                 high\\n  survival           survival\",\n",
    "        rotation=90,\n",
    "        size=8,\n",
    "        labelpad=7,\n",
    "        ha=\"left\",\n",
    "        y=0,\n",
    "    )\n",
    "\n",
    "    # Despine\n",
    "    ax.spines.right.set_visible(False)\n",
    "    ax.spines.left.set_visible(False)\n",
    "    ax.spines.top.set_visible(False)\n",
    "    ax.spines.bottom.set_visible(False)\n",
    "\n",
    "    fig.savefig(plots_dir / f\"1-{phenokind}-pheno.svg\", bbox_inches=\"tight\")"
   ]
  }
 ],
 "metadata": {
  "kernelspec": {
   "display_name": "Python 3",
   "language": "python",
   "name": "python3"
  },
  "language_info": {
   "codemirror_mode": {
    "name": "ipython",
    "version": 3
   },
   "file_extension": ".py",
   "mimetype": "text/x-python",
   "name": "python",
   "nbconvert_exporter": "python",
   "pygments_lexer": "ipython3",
   "version": "3.8.9 (default, Aug 21 2021, 15:53:23) \n[Clang 13.0.0 (clang-1300.0.29.3)]"
  },
  "vscode": {
   "interpreter": {
    "hash": "31f2aee4e71d21fbe5cf8b01ff0e069b9275f58929596ceb00d14d90e3e16cd6"
   }
  }
 },
 "nbformat": 4,
 "nbformat_minor": 5
}
