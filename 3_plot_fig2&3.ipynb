{
 "cells": [
  {
   "cell_type": "code",
   "execution_count": 3,
   "id": "e6195d23",
   "metadata": {},
   "outputs": [],
   "source": [
    "# ADJUST THIS FOR YOUR MACHINE\n",
    "output_directory_path = \"results\"  # Directory where the results are stored\n",
    "plot_directory_path = \"plots\"  # Directory for saving plots"
   ]
  },
  {
   "cell_type": "code",
   "execution_count": 4,
   "id": "cdbec2dd",
   "metadata": {},
   "outputs": [],
   "source": [
    "import matplotlib.pyplot as plt\n",
    "import matplotlib\n",
    "import matplotlib.patches as mpatches\n",
    "import numpy as np\n",
    "import pandas as pd\n",
    "import tqdm\n",
    "import pathlib\n",
    "\n",
    "matplotlib.rcParams.update({\"font.size\": 6})\n",
    "plt.rcParams.update({\"font.sans-serif\": \"Arial\"})"
   ]
  },
  {
   "cell_type": "code",
   "execution_count": 5,
   "id": "447f1647",
   "metadata": {},
   "outputs": [],
   "source": [
    "plots_dir = pathlib.Path(plot_directory_path)\n",
    "plots_dir.mkdir(exist_ok=True)  # Create the directory if it does not exist"
   ]
  },
  {
   "cell_type": "code",
   "execution_count": 6,
   "id": "300a8d99-8e99-4632-9014-4fa91628dd57",
   "metadata": {},
   "outputs": [],
   "source": [
    "# Load paths to all experiment folders\n",
    "path_dir = pathlib.Path(output_directory_path)\n",
    "yml_paths = [\n",
    "    path.with_suffix(\".yml\")\n",
    "    for path in path_dir.glob(\"*\")\n",
    "    if path.is_file()\n",
    "]"
   ]
  },
  {
   "cell_type": "code",
   "execution_count": 7,
   "id": "f0882dc5",
   "metadata": {},
   "outputs": [],
   "source": [
    "# Load paths to all experiment folders\n",
    "paths_dir = [pathlib.Path(\"../NeMAAP/experiments/0830\"), pathlib.Path(\"../NeMAAP/experiments/0815\")]\n",
    "yml_paths = [\n",
    "    path\n",
    "    for path_dir in paths_dir\n",
    "    for path in path_dir.glob(\"*\")\n",
    "    if path.is_file() and path.suffix == \".yml\"\n",
    "]"
   ]
  },
  {
   "cell_type": "code",
   "execution_count": 8,
   "id": "0b6fb09b-d96b-46ba-9c56-b809a7f9a7c7",
   "metadata": {},
   "outputs": [
    {
     "name": "stderr",
     "output_type": "stream",
     "text": [
      "  2%|▏         | 6/360 [00:00<00:29, 11.90it/s]"
     ]
    }
   ],
   "source": [
    "RESULTS = {}\n",
    "\n",
    "for i, yml_path in tqdm.tqdm(enumerate(yml_paths), total=len(yml_paths)):\n",
    "\n",
    "    # Path to .csv file with phenotypes\n",
    "    path = yml_path.with_suffix(\"\") / \"0/visor/phenotypes.csv\"\n",
    "    phenokind, popsize, reprmode, i = yml_path.stem.split(\"-\")\n",
    "\n",
    "    pheno = pd.read_csv(path, usecols=range(50))\n",
    "    pheno = pheno.iloc[-1]\n",
    "\n",
    "    # Save RESULTS\n",
    "    RESULTS[(phenokind, popsize, reprmode, i)] = pheno"
   ]
  },
  {
   "cell_type": "markdown",
   "id": "9872633e-179e-48aa-944c-12a2025a5434",
   "metadata": {},
   "source": [
    "# Plotting"
   ]
  },
  {
   "cell_type": "code",
   "execution_count": null,
   "id": "53773085-9c57-4609-8b4b-267f176ce8ab",
   "metadata": {},
   "outputs": [],
   "source": [
    "# PLOTTING SETUP\n",
    "\n",
    "format_ = \"png\"\n",
    "savefig_settings = {\"dpi\": 300}\n",
    "matplotlib.rcParams.update({\"font.size\": 8})\n",
    "\n",
    "# Transform data into a table\n",
    "df = pd.DataFrame(RESULTS).T.sort_index().droplevel(3, axis=0)\n",
    "n_specs_studied = int(len(df) / len(df.index.unique()))\n",
    "\n",
    "figsize = (2, 2)\n",
    "dpi = 300\n",
    "\n",
    "colors = [\"crimson\", \"forestgreen\", \"dodgerblue\"]\n",
    "plot_colors = [color for color in colors for _ in range(n_specs_studied)]\n",
    "\n",
    "patches = [\n",
    "    mpatches.Circle(xy=(0, 0), color=colors[0], label=\"300\"),\n",
    "    mpatches.Circle(xy=(0, 0), color=colors[1], label=\"3000\"),\n",
    "    mpatches.Circle(xy=(0, 0), color=colors[2], label=\"30000\"),\n",
    "]"
   ]
  },
  {
   "cell_type": "code",
   "execution_count": null,
   "id": "6e4cf5ae",
   "metadata": {},
   "outputs": [
    {
     "ename": "NameError",
     "evalue": "name 'plt' is not defined",
     "output_type": "error",
     "traceback": [
      "\u001b[0;31m---------------------------------------------------------------------------\u001b[0m",
      "\u001b[0;31mNameError\u001b[0m                                 Traceback (most recent call last)",
      "\u001b[0;32m/var/folders/f_/qj20ngts6yd02nvb62bl9zp80000gp/T/ipykernel_21665/1846643863.py\u001b[0m in \u001b[0;36m<module>\u001b[0;34m\u001b[0m\n\u001b[1;32m     67\u001b[0m \u001b[0;32mfor\u001b[0m \u001b[0mmortorsurv\u001b[0m \u001b[0;32min\u001b[0m \u001b[0;34m[\u001b[0m\u001b[0;34m\"mort\"\u001b[0m\u001b[0;34m,\u001b[0m \u001b[0;34m\"surv\"\u001b[0m\u001b[0;34m]\u001b[0m\u001b[0;34m:\u001b[0m\u001b[0;34m\u001b[0m\u001b[0;34m\u001b[0m\u001b[0m\n\u001b[1;32m     68\u001b[0m     \u001b[0;32mfor\u001b[0m \u001b[0maging_theory\u001b[0m \u001b[0;32min\u001b[0m \u001b[0maging_theories\u001b[0m\u001b[0;34m:\u001b[0m\u001b[0;34m\u001b[0m\u001b[0;34m\u001b[0m\u001b[0m\n\u001b[0;32m---> 69\u001b[0;31m         \u001b[0mfig\u001b[0m\u001b[0;34m,\u001b[0m \u001b[0max\u001b[0m \u001b[0;34m=\u001b[0m \u001b[0mplt\u001b[0m\u001b[0;34m.\u001b[0m\u001b[0msubplots\u001b[0m\u001b[0;34m(\u001b[0m\u001b[0mfigsize\u001b[0m\u001b[0;34m=\u001b[0m\u001b[0mfigsize\u001b[0m\u001b[0;34m,\u001b[0m \u001b[0mfacecolor\u001b[0m\u001b[0;34m=\u001b[0m\u001b[0;34m\"white\"\u001b[0m\u001b[0;34m)\u001b[0m\u001b[0;34m\u001b[0m\u001b[0;34m\u001b[0m\u001b[0m\n\u001b[0m\u001b[1;32m     70\u001b[0m \u001b[0;34m\u001b[0m\u001b[0m\n\u001b[1;32m     71\u001b[0m         \u001b[0;31m# main plot\u001b[0m\u001b[0;34m\u001b[0m\u001b[0;34m\u001b[0m\u001b[0;34m\u001b[0m\u001b[0m\n",
      "\u001b[0;31mNameError\u001b[0m: name 'plt' is not defined"
     ]
    }
   ],
   "source": [
    "# Plot figure 2 and figure 3\n",
    "\n",
    "ax_set_styles_general = dict(\n",
    "    xlim=[0, 49],\n",
    "    xticks=[0, 10, 49],\n",
    "    xticklabels=[0, \"\", 50],\n",
    "    facecolor=\"white\",\n",
    ")\n",
    "\n",
    "ax_set_styles_mort = dict(\n",
    "    ylim=[0, 0.105],\n",
    "    yticks=[0, 0.05, 0.1],\n",
    "    yticklabels=[0, 0.05, 0.1],\n",
    ")\n",
    "\n",
    "ax_set_styles_surv = dict(\n",
    "    ylim=[0, 1.01],\n",
    ")\n",
    "\n",
    "\n",
    "\n",
    "def plot_lh(df, aging_theory, repr_mode, ax, lw, plot_bckg=False, plot_surv=False):\n",
    "\n",
    "    global data\n",
    "\n",
    "    # plot lines\n",
    "    ax.vlines(10, 0, 1, color=\"magenta\", ls=\"dotted\", alpha=0.5, lw=lw)\n",
    "    if plot_surv:\n",
    "        default_survivorship = 0.95 ** np.arange(51)\n",
    "        ax.plot(default_survivorship, color=\"gray\", ls=\"dotted\", lw=lw)\n",
    "    else:\n",
    "        ax.hlines(0.05, 0, 51, color=\"gray\", ls=\"dotted\", lw=0.5)\n",
    "\n",
    "    # calculate data to plot\n",
    "    if plot_surv:\n",
    "        data = df.cumprod(1).loc[aging_theory, :, repr_mode].copy()\n",
    "        data.insert(0, \"newcol\", [1] * len(data), allow_duplicates=True)\n",
    "        data = data.T.reset_index(drop=True).T\n",
    "    else:\n",
    "        data = (1 - df).loc[aging_theory, :, repr_mode]\n",
    "\n",
    "    # plot background curves\n",
    "    if plot_bckg:\n",
    "        data.T.plot(\n",
    "            legend=False,\n",
    "            color=plot_colors,\n",
    "            ax=ax,\n",
    "            alpha=0.1,\n",
    "            lw=lw,\n",
    "        )\n",
    "\n",
    "\n",
    "    # plot mean curve\n",
    "    data.reset_index().drop([\"level_0\", \"level_2\"], axis=1).groupby(\"level_1\").mean(0).T.plot(\n",
    "        ax=ax,\n",
    "        color=colors,\n",
    "        lw=lw,\n",
    "    )\n",
    "\n",
    "    ax_set_styles = ax_set_styles_surv if plot_surv else ax_set_styles_mort\n",
    "    ax.set(**ax_set_styles_general, **ax_set_styles)\n",
    "    ax.spines[[\"right\", \"top\"]].set_visible(False)\n",
    "    ax.get_legend().remove()\n",
    "\n",
    "\n",
    "aging_theories = [\"MA\", \"AP\"]\n",
    "for mortorsurv in [\"mort\", \"surv\"]:\n",
    "    for aging_theory in aging_theories:\n",
    "        fig, ax = plt.subplots(figsize=figsize, facecolor=\"white\")\n",
    "\n",
    "        # main plot\n",
    "        plot_lh(\n",
    "            df=df, aging_theory=aging_theory, repr_mode=\"sexual\", ax=ax, lw=0.5, plot_bckg=True, plot_surv=mortorsurv == \"surv\",\n",
    "        )\n",
    "\n",
    "        # inset\n",
    "\n",
    "        if mortorsurv == \"surv\":\n",
    "            ax = fig.add_axes([0.68, 0.66, 0.2, 0.2])\n",
    "        else:\n",
    "            ax = fig.add_axes([0.68, 0.24, 0.2, 0.2])\n",
    "        plot_lh(df=df, aging_theory=aging_theory, repr_mode=\"asexual_diploid\", ax=ax, lw=0.5, plot_surv=mortorsurv == \"surv\")\n",
    "\n",
    "        # save\n",
    "        fig.savefig(\n",
    "            plots_dir / f\"{2 if aging_theory == 'MA' else 3}-{mortorsurv}-{aging_theory}.{format_}\",\n",
    "            bbox_inches=\"tight\",\n",
    "            **savefig_settings,\n",
    "        )\n",
    "\n",
    "        # # Plot only asexual\n",
    "        # fig, ax = plt.subplots(figsize=figsize, facecolor=\"white\")\n",
    "        # plot_lh(\n",
    "        #     df=df,\n",
    "        #     aging_theory=aging_theory,\n",
    "        #     repr_mode=\"asexual_diploid\",\n",
    "        #     ax=ax,\n",
    "        #     lw=0.5,\n",
    "        #     plot_bckg=True,\n",
    "        #     plot_surv=mortorsurv == \"surv\",\n",
    "        # )\n",
    "        # fig.savefig(\n",
    "        #     plots_dir / f\"SUPP-{mortorsurv}-{aging_theory}-asex.{format_}\",\n",
    "        #     bbox_inches=\"tight\",\n",
    "        #     **savefig_settings,\n",
    "        # )"
   ]
  },
  {
   "cell_type": "code",
   "execution_count": null,
   "id": "86b69e9d",
   "metadata": {},
   "outputs": [],
   "source": []
  },
  {
   "cell_type": "code",
   "execution_count": null,
   "id": "d88ca184",
   "metadata": {},
   "outputs": [],
   "source": []
  }
 ],
 "metadata": {
  "kernelspec": {
   "display_name": "Python 3",
   "language": "python",
   "name": "python3"
  },
  "language_info": {
   "codemirror_mode": {
    "name": "ipython",
    "version": 3
   },
   "file_extension": ".py",
   "mimetype": "text/x-python",
   "name": "python",
   "nbconvert_exporter": "python",
   "pygments_lexer": "ipython3",
   "version": "3.8.9"
  },
  "vscode": {
   "interpreter": {
    "hash": "31f2aee4e71d21fbe5cf8b01ff0e069b9275f58929596ceb00d14d90e3e16cd6"
   }
  }
 },
 "nbformat": 4,
 "nbformat_minor": 5
}
