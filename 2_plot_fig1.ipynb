{
 "cells": [
  {
   "cell_type": "code",
   "execution_count": 3,
   "id": "05f7e94c",
   "metadata": {},
   "outputs": [],
   "source": [
    "# ADJUST THIS FOR YOUR MACHINE\n",
    "plot_directory_path = \"plots\"  # Directory for saving plots]"
   ]
  },
  {
   "cell_type": "code",
   "execution_count": 4,
   "id": "147fe824",
   "metadata": {},
   "outputs": [],
   "source": [
    "import numpy as np\n",
    "import matplotlib.pyplot as plt\n",
    "import pandas as pd\n",
    "import pathlib\n",
    "import pickle\n",
    "\n",
    "plots_dir = pathlib.Path(plot_directory_path)\n"
   ]
  },
  {
   "cell_type": "code",
   "execution_count": 5,
   "id": "a0289db7-4275-42c8-8aab-b240b5d4bcd2",
   "metadata": {},
   "outputs": [
    {
     "data": {
      "image/png": "[encoded data removed]",
      "text/plain": [
       "<Figure size 144x144 with 1 Axes>"
      ]
     },
     "metadata": {},
     "output_type": "display_data"
    }
   ],
   "source": [
    "# Random genomes\n",
    "rng = np.random.default_rng(42)\n",
    "\n",
    "genomes = np.repeat((rng.random(50) < 0.2).astype(int), 50).reshape(50, 50).T\n",
    "genomes = np.logical_xor(genomes, rng.random(size=(50, 50)) < 0.15).astype(int)\n",
    "\n",
    "fig, ax = plt.subplots(figsize=(2, 2))\n",
    "plt.imshow(genomes, vmin=-0.1, vmax=1, cmap=\"binary\", interpolation=\"nearest\")\n",
    "ax.set_xlim(-0.5, 50 - 0.5)\n",
    "ax.set_ylim(-0.5, 50 - 0.5)\n",
    "ax.set_xticks([])\n",
    "ax.set_yticks([])\n",
    "ax.set_xlabel(\"Locus\")\n",
    "ax.set_ylabel(\"Genome\")\n",
    "ax.spines.right.set_visible(False)\n",
    "ax.spines.left.set_visible(False)\n",
    "ax.spines.top.set_visible(False)\n",
    "ax.spines.bottom.set_visible(False)\n",
    "fig.savefig(plots_dir / \"1-genomes.svg\", bbox_inches=\"tight\")"
   ]
  },
  {
   "cell_type": "code",
   "execution_count": 6,
   "id": "7434f188-5835-4592-8adb-801a284d8735",
   "metadata": {},
   "outputs": [
    {
     "name": "stderr",
     "output_type": "stream",
     "text": [
      "/var/folders/f_/qj20ngts6yd02nvb62bl9zp80000gp/T/ipykernel_21199/2529816542.py:29: UserWarning: Use the colorbar set_ticks() method instead.\n",
      "  cbar.ax.set_yticks([])\n"
     ]
    },
    {
     "data": {
      "image/png": "[encoded data removed]",
      "text/plain": [
       "<Figure size 144x144 with 2 Axes>"
      ]
     },
     "metadata": {
      "needs_background": "light"
     },
     "output_type": "display_data"
    }
   ],
   "source": [
    "# for MA\n",
    "phenomap_path = pathlib.Path(\"assets/1-phenomap_MA.csv\")\n",
    "phenomap = pd.read_csv(phenomap_path, header=None)\n",
    "\n",
    "data = phenomap.iloc[\n",
    "    100:150, :50\n",
    "]  # Take first 50 neut loci that encode for the life history traits because of the phenomap\n",
    "data[data == 0.95] = 0  # Ignore identity effects\n",
    "\n",
    "# Main plot\n",
    "fig, ax = plt.subplots(figsize=(2, 2))\n",
    "im = plt.imshow(\n",
    "    data,\n",
    "    cmap=\"Reds_r\",\n",
    "    vmin=data.min().min(),\n",
    "    vmax=data.max().max(),\n",
    "    interpolation=\"nearest\",\n",
    ")\n",
    "plt.xlim(-0.5, 49.5)\n",
    "plt.ylim(-0.5, 49.5)\n",
    "plt.xticks([])\n",
    "plt.yticks([])\n",
    "plt.xlabel(\"Age affected\")\n",
    "plt.ylabel(\"Locus\")\n",
    "\n",
    "# Colorbar\n",
    "cbar = plt.colorbar(im, fraction=0.0455, pad=0.04)\n",
    "cbar.ax.set_yticklabels([])\n",
    "cbar.ax.set_yticks([])\n",
    "cbar.set_label(\n",
    "    \" detrimental       neutral\\n    variant           variant\",\n",
    "    rotation=90,\n",
    "    size=8,\n",
    "    labelpad=7,\n",
    "    ha=\"left\",\n",
    "    y=0,\n",
    ")\n",
    "\n",
    "# Despine\n",
    "ax.spines.right.set_visible(False)\n",
    "ax.spines.left.set_visible(False)\n",
    "ax.spines.top.set_visible(False)\n",
    "ax.spines.bottom.set_visible(False)\n",
    "\n",
    "# Save\n",
    "fig.savefig(plots_dir / \"1-MA-map.svg\", bbox_inches=\"tight\")"
   ]
  },
  {
   "cell_type": "code",
   "execution_count": 7,
   "id": "819ad579-9354-453b-a155-187e18604014",
   "metadata": {},
   "outputs": [
    {
     "name": "stderr",
     "output_type": "stream",
     "text": [
      "/var/folders/f_/qj20ngts6yd02nvb62bl9zp80000gp/T/ipykernel_21199/1117425220.py:29: UserWarning: Use the colorbar set_ticks() method instead.\n",
      "  cbar.ax.set_yticks([])\n"
     ]
    },
    {
     "data": {
      "image/png": "[encoded data removed]",
      "text/plain": [
       "<Figure size 144x144 with 2 Axes>"
      ]
     },
     "metadata": {
      "needs_background": "light"
     },
     "output_type": "display_data"
    }
   ],
   "source": [
    "# for AP\n",
    "phenomap_path = pathlib.Path(\"assets/1-phenomap_AP.csv\")\n",
    "phenomap = pd.read_csv(phenomap_path, header=None)\n",
    "\n",
    "data = phenomap.iloc[\n",
    "    100:150, :50\n",
    "]  # Take first 50 neut loci that encode for the life history traits because of the phenomap\n",
    "data[data == 0.95] = 0  # Ignore identity effects\n",
    "\n",
    "# Main plot\n",
    "fig, ax = plt.subplots(figsize=(2, 2))\n",
    "im = plt.imshow(\n",
    "    data,\n",
    "    cmap=\"RdBu\",\n",
    "    vmin=data.min().min() * 0.9,\n",
    "    vmax=data.max().max() * 0.9,\n",
    "    interpolation=\"nearest\",\n",
    ")\n",
    "plt.xlim(-0.5, 49.5)\n",
    "plt.ylim(-0.5, 49.5)\n",
    "plt.xticks([])\n",
    "plt.yticks([])\n",
    "plt.xlabel(\"Age affected\")\n",
    "plt.ylabel(\"Genomic bit\")\n",
    "\n",
    "# Colorbar\n",
    "cbar = plt.colorbar(im, fraction=0.0455, pad=0.04)\n",
    "cbar.ax.set_yticklabels([])\n",
    "cbar.ax.set_yticks([])\n",
    "# cbar.set_label(\"detrimental ... beneficial\", rotation=90, size=8, labelpad=7)\n",
    "cbar.set_label(\n",
    "    \" detrimental    beneficial\\n    variant          variant\",\n",
    "    rotation=90,\n",
    "    size=8,\n",
    "    labelpad=7,\n",
    "    ha=\"left\",\n",
    "    y=0,\n",
    ")\n",
    "\n",
    "# Despine\n",
    "ax.spines.right.set_visible(False)\n",
    "ax.spines.left.set_visible(False)\n",
    "ax.spines.top.set_visible(False)\n",
    "ax.spines.bottom.set_visible(False)\n",
    "\n",
    "# Save\n",
    "fig.savefig(plots_dir / \"1-AP-map.svg\", bbox_inches=\"tight\")\n",
    "plt.show()"
   ]
  },
  {
   "cell_type": "code",
   "execution_count": 8,
   "id": "7596b936-949c-4478-994c-674bd32c60a7",
   "metadata": {},
   "outputs": [
    {
     "name": "stderr",
     "output_type": "stream",
     "text": [
      "/var/folders/f_/qj20ngts6yd02nvb62bl9zp80000gp/T/ipykernel_21199/2584388086.py:47: UserWarning: Use the colorbar set_ticks() method instead.\n",
      "  cbar.ax.set_yticks([])\n",
      "/var/folders/f_/qj20ngts6yd02nvb62bl9zp80000gp/T/ipykernel_21199/2584388086.py:47: UserWarning: Use the colorbar set_ticks() method instead.\n",
      "  cbar.ax.set_yticks([])\n"
     ]
    },
    {
     "data": {
      "image/png": "[encoded data removed]",
      "text/plain": [
       "<Figure size 144x144 with 2 Axes>"
      ]
     },
     "metadata": {
      "needs_background": "light"
     },
     "output_type": "display_data"
    },
    {
     "data": {
      "image/png": "[encoded data removed]",
      "text/plain": [
       "<Figure size 144x144 with 2 Axes>"
      ]
     },
     "metadata": {
      "needs_background": "light"
     },
     "output_type": "display_data"
    }
   ],
   "source": [
    "pickle_paths = [\n",
    "    pathlib.Path(\"assets/1-pickle_MA\"),\n",
    "    pathlib.Path(\"assets/1-pickle_AP\"),\n",
    "]\n",
    "\n",
    "rng = np.random.default_rng(42)\n",
    "\n",
    "for pickle_path in pickle_paths:\n",
    "\n",
    "    with open(pickle_path, \"rb\") as file_:\n",
    "        pickle_ = pickle.load(file_)\n",
    "\n",
    "    phenokind = \"MA\" if \"MA\" in str(pickle_path) else \"AP\"\n",
    "\n",
    "    fig, ax = plt.subplots(figsize=(2, 2))\n",
    "    phenos = pickle_.phenotypes.copy().reshape(\n",
    "        pickle_.genomes.shape[0], pickle_.genomes.shape[2]\n",
    "    )\n",
    "    phenos[:, 0] = 1\n",
    "\n",
    "    noise = rng.random(size=[50, 50]) * 0.01\n",
    "    mask = rng.random(size=noise.shape) < 0.5\n",
    "    noise[mask] = 0\n",
    "    phenosplot = (phenos[:50, :50] - noise) ** 1.6\n",
    "\n",
    "    vmin = 0.8 if phenokind == \"AP\" else 0.82\n",
    "    vmax = 0.97 if phenokind == \"AP\" else 0.92\n",
    "\n",
    "    im = plt.imshow(\n",
    "        phenosplot, cmap=\"YlOrBr_r\", vmin=vmin, vmax=vmax, interpolation=\"nearest\"\n",
    "    )\n",
    "    plt.xlim(-0.5, 49.5)\n",
    "    plt.ylim(-0.5, 49.5)\n",
    "    plt.xticks([])\n",
    "    plt.yticks([])\n",
    "    # plt.title(\"age-dep survival rate\")\n",
    "    plt.xlabel(\"Age\")\n",
    "    plt.ylabel(\"Individual\")\n",
    "\n",
    "    # Plot overlay\n",
    "    plt.plot(50 * 0.9 ** np.arange(50), c=\"black\", alpha=1, lw=2, ls=\"--\")\n",
    "    ax.text(15, 15, \"?\", size=30)\n",
    "\n",
    "    # Colorbar\n",
    "    cbar = plt.colorbar(im, fraction=0.0455, pad=0.04)\n",
    "    cbar.ax.set_yticklabels([])\n",
    "    cbar.ax.set_yticks([])\n",
    "    # cbar.set_label(\"low ... high\", rotation=90, size=8, labelpad=7)\n",
    "    cbar.set_label(\n",
    "        \"      low                 high\\n  survival           survival\",\n",
    "        rotation=90,\n",
    "        size=8,\n",
    "        labelpad=7,\n",
    "        ha=\"left\",\n",
    "        y=0,\n",
    "    )\n",
    "\n",
    "    # Despine\n",
    "    ax.spines.right.set_visible(False)\n",
    "    ax.spines.left.set_visible(False)\n",
    "    ax.spines.top.set_visible(False)\n",
    "    ax.spines.bottom.set_visible(False)\n",
    "\n",
    "    fig.savefig(plots_dir / f\"1-{phenokind}-pheno.svg\", bbox_inches=\"tight\")"
   ]
  },
  {
   "cell_type": "code",
   "execution_count": null,
   "id": "3bd23214",
   "metadata": {},
   "outputs": [],
   "source": []
  }
 ],
 "metadata": {
  "kernelspec": {
   "display_name": "Python 3",
   "language": "python",
   "name": "python3"
  },
  "language_info": {
   "codemirror_mode": {
    "name": "ipython",
    "version": 3
   },
   "file_extension": ".py",
   "mimetype": "text/x-python",
   "name": "python",
   "nbconvert_exporter": "python",
   "pygments_lexer": "ipython3",
   "version": "3.8.9"
  },
  "vscode": {
   "interpreter": {
    "hash": "31f2aee4e71d21fbe5cf8b01ff0e069b9275f58929596ceb00d14d90e3e16cd6"
   }
  }
 },
 "nbformat": 4,
 "nbformat_minor": 5
}
